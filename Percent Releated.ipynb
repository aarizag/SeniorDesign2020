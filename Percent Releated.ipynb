{
 "cells": [
  {
   "cell_type": "code",
<<<<<<< HEAD
   "execution_count": 8,
=======
   "execution_count": 17,
>>>>>>> 140a9ca52362ad6c509aa2039fdd21bbcbc46ca9
   "metadata": {},
   "outputs": [
    {
     "name": "stdout",
     "output_type": "stream",
     "text": [
<<<<<<< HEAD
      "These two word are simalirty by  100.0\n",
      "These two word are simalirty by  25.0\n",
      "These two word are simalirty by  37.5\n",
      "These two word are simalirty by  50.0\n",
      "These two word are simalirty by  66.67\n"
=======
      "These two word are simalirty by  95.24\n"
>>>>>>> 140a9ca52362ad6c509aa2039fdd21bbcbc46ca9
     ]
    }
   ],
   "source": [
    "from nltk.corpus import wordnet\n",
    "\n",
    "\n",
    "def howSimaliryTheyAre(a,b):\n",
    "    syns = wordnet.synsets(a)\n",
    "    syns2 = wordnet.synsets(b)\n",
    "    #this is the help later part\n",
    "    w1 = wordnet.synset(syns[0].name())\n",
    "    typeOfWord = syns[0].name()\n",
    "    secondPart = typeOfWord[-5:]\n",
    "    w2 = wordnet.synset(syns2[0].name()) \n",
    "    percent = 100 * w1.wup_similarity(w2)\n",
    "    percent = round(percent, 2)\n",
    "    return percent\n",
    "\n",
    "\n",
    "\n",
<<<<<<< HEAD
    "print(\"These two word are simalirty by \",howSimaliryTheyAre(\"quick\",\"quick\"))\n",
    "print(\"These two word are simalirty by \",howSimaliryTheyAre(\"fast\",\"speed\"))\n",
    "print(\"These two word are simalirty by \",howSimaliryTheyAre(\"brown\",\"tan\"))\n",
    "print(\"These two word are simalirty by \",howSimaliryTheyAre(\"jumps\",\"leap\"))\n",
    "print(\"These two word are simalirty by \",howSimaliryTheyAre(\"fox\",\"animal\"))"
=======
    "print(\"These two word are simalirty by \",howSimaliryTheyAre(\"accreditation\",\"certification\"))\n"
>>>>>>> 140a9ca52362ad6c509aa2039fdd21bbcbc46ca9
   ]
  },
  {
   "cell_type": "code",
   "execution_count": null,
   "metadata": {},
   "outputs": [],
   "source": []
  }
 ],
 "metadata": {
  "kernelspec": {
   "display_name": "Python 3",
   "language": "python",
   "name": "python3"
  },
  "language_info": {
   "codemirror_mode": {
    "name": "ipython",
    "version": 3
   },
   "file_extension": ".py",
   "mimetype": "text/x-python",
   "name": "python",
   "nbconvert_exporter": "python",
   "pygments_lexer": "ipython3",
<<<<<<< HEAD
   "version": "3.7.3"
=======
   "version": "3.7.4"
>>>>>>> 140a9ca52362ad6c509aa2039fdd21bbcbc46ca9
  }
 },
 "nbformat": 4,
 "nbformat_minor": 2
}
