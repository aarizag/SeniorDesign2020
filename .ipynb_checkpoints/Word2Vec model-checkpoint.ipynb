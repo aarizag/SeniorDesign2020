{
 "cells": [
  {
   "cell_type": "code",
   "execution_count": 1,
   "metadata": {
    "scrolled": true
   },
   "outputs": [],
   "source": [
    "import gensim\n",
    "from xlrd import open_workbook\n",
    "import os\n",
    "from nltk.tokenize import word_tokenize, sent_tokenize\n",
    "import json\n",
    "import pandas as pd\n",
    "from nltk.corpus import stopwords\n",
    "\n",
    "import nltk\n",
    "import re\n",
    "from nltk.tokenize import word_tokenize, sent_tokenize\n",
    "from os import listdir, makedirs\n",
    "from os.path import isfile, join, exists\n",
    "import os\n",
    "from nltk.corpus import stopwords\n",
    "from xlrd import open_workbook\n",
    "import json\n",
    "from gensim import similarities\n",
    "import numpy as np"
   ]
  },
  {
   "cell_type": "code",
   "execution_count": 2,
   "metadata": {
    "scrolled": false
   },
   "outputs": [],
   "source": [
    "        \n",
    "unspec_df = pd.read_excel('ignore/UNSPSC English v220601 project.xlsx','Sheet1', index_col=None, na_values=['NA'])\n",
    "unspec = unspec_df.drop(['Family Definition','Family','Family Title','Segment Title','Segment Definition','Segment','Version','Key','Synonym','Acronym'],axis = 1)\n",
    "cols = ['Class Title','Class Definition']\n",
    "cols2 =['Commodity Title','Commodity Definition']\n",
    "unspec[\"class\"] = unspec[cols].apply(lambda row: ' '.join(row.values.astype(str)), axis=1)\n",
    "unspec[\"commodity\"] = unspec[cols2].apply(lambda row: ' '.join(row.values.astype(str)), axis=1)\n",
    "#unspec[\"commodity\"]=[row.replace(' ',',') for row in unspec[\"commodity\"]]\n",
    "#unspec[\"class\"]=[row.replace(' ',',') for row in unspec[\"class\"]]\n",
    "unspec2 = unspec.drop(['Class','Class Title','Class Definition','Commodity Title','Commodity Definition'],axis=1)\n",
    "unspec2=unspec2.rename(columns={\"Commodity\":\"level_1\"})\n",
    "nums = unspec2['level_1'].tolist()"
   ]
  },
  {
   "cell_type": "code",
   "execution_count": 3,
   "metadata": {},
   "outputs": [],
   "source": [
    "county_df = pd.read_excel('ignore/eCAPS_COMM_11072019.xlsx','COMM_CLS', index_col=None, na_values=['NA'])\n",
    "county_df2 = pd.read_excel('ignore/eCAPS_COMM_11072019.xlsx','COMM_ITM', index_col=None, na_values=['NA'])\n",
    "county_df.drop(['COMM_GP','COMM_DET','ACT_INACT_FL','NAICS_CD'],axis=1)\n",
    "county_df2.drop(['COMM_GP','COMM_DET','ACT_INACT_FL','NAICS_CD'],axis=1)\n",
    "countyresult = pd.merge(county_df,county_df2,on='COMM_CLS')\n",
    "cr = countyresult.drop(['DSCR_EXT_y','DSCR_EXT_DV_x','DSCR_EXT_x','COMM_DSCR_UP_x','COMM_CD_x','COMM_ITM_x','COMM_GP_x','COMM_DET_x','ACT_INACT_FL_x','NAICS_CD_x','COMM_DET_y','COMM_GP_y','COMM_DET_y','ACT_INACT_FL_y','NAICS_CD_y','COMM_DSCR_UP_y','DSCR_EXT_DV_y'],axis=1)\n",
    "cr2 = cr.rename(columns={\"KEYWD_x\":\"class\",\"KEYWD_y\":\"commodity\",\"COMM_CD_y\":\"level_1\"})\n",
    "#cr2[\"commodity\"]=[row.replace(' ',',') for row in cr2[\"commodity\"]]\n",
    "#cr2[\"class\"]=[row.replace(' ',',') for row in cr2[\"class\"]]\n"
   ]
  },
  {
   "cell_type": "code",
   "execution_count": 4,
   "metadata": {},
   "outputs": [],
   "source": [
    "\n",
    "df1= cr2[['class','commodity','level_1']]\n",
    "df2 = df1.append(unspec2,ignore_index=True,sort=False)\n"
   ]
  },
  {
   "cell_type": "code",
   "execution_count": 5,
   "metadata": {},
   "outputs": [
    {
     "data": {
      "text/html": [
       "<div>\n",
       "<style scoped>\n",
       "    .dataframe tbody tr th:only-of-type {\n",
       "        vertical-align: middle;\n",
       "    }\n",
       "\n",
       "    .dataframe tbody tr th {\n",
       "        vertical-align: top;\n",
       "    }\n",
       "\n",
       "    .dataframe thead th {\n",
       "        text-align: right;\n",
       "    }\n",
       "</style>\n",
       "<table border=\"1\" class=\"dataframe\">\n",
       "  <thead>\n",
       "    <tr style=\"text-align: right;\">\n",
       "      <th></th>\n",
       "      <th>class</th>\n",
       "      <th>commodity</th>\n",
       "      <th>level_1</th>\n",
       "    </tr>\n",
       "  </thead>\n",
       "  <tbody>\n",
       "    <tr>\n",
       "      <th>0</th>\n",
       "      <td>AIRCRAFT AND AIRPORT, EQUIPMENT, PARTS, AND SU...</td>\n",
       "      <td>RADIO-NAVIGATION-AIRCRAFT</td>\n",
       "      <td>3510</td>\n",
       "    </tr>\n",
       "    <tr>\n",
       "      <th>1</th>\n",
       "      <td>AIRCRAFT AND AIRPORT, EQUIPMENT, PARTS, AND SU...</td>\n",
       "      <td>RADAR-AIRCRAFT</td>\n",
       "      <td>3515</td>\n",
       "    </tr>\n",
       "    <tr>\n",
       "      <th>2</th>\n",
       "      <td>AIRCRAFT AND AIRPORT, EQUIPMENT, PARTS, AND SU...</td>\n",
       "      <td>AIRPLANES</td>\n",
       "      <td>3520</td>\n",
       "    </tr>\n",
       "    <tr>\n",
       "      <th>3</th>\n",
       "      <td>AIRCRAFT AND AIRPORT, EQUIPMENT, PARTS, AND SU...</td>\n",
       "      <td>AUTOMATIC PILOT SYSTEMS</td>\n",
       "      <td>3525</td>\n",
       "    </tr>\n",
       "    <tr>\n",
       "      <th>4</th>\n",
       "      <td>AIRCRAFT AND AIRPORT, EQUIPMENT, PARTS, AND SU...</td>\n",
       "      <td>BAGGAGE HANDLING EQUIPMENT AND PARTS</td>\n",
       "      <td>3526</td>\n",
       "    </tr>\n",
       "    <tr>\n",
       "      <th>5</th>\n",
       "      <td>AIRCRAFT AND AIRPORT, EQUIPMENT, PARTS, AND SU...</td>\n",
       "      <td>BEACONS, VISUAL AND RUNWAY LIGHTS</td>\n",
       "      <td>3527</td>\n",
       "    </tr>\n",
       "    <tr>\n",
       "      <th>6</th>\n",
       "      <td>AIRCRAFT AND AIRPORT, EQUIPMENT, PARTS, AND SU...</td>\n",
       "      <td>ENGINES AND PARTS-AIRPLANE</td>\n",
       "      <td>3530</td>\n",
       "    </tr>\n",
       "    <tr>\n",
       "      <th>7</th>\n",
       "      <td>AIRCRAFT AND AIRPORT, EQUIPMENT, PARTS, AND SU...</td>\n",
       "      <td>ENGINES AND PARTS, HELICOPTER</td>\n",
       "      <td>3535</td>\n",
       "    </tr>\n",
       "    <tr>\n",
       "      <th>8</th>\n",
       "      <td>AIRCRAFT AND AIRPORT, EQUIPMENT, PARTS, AND SU...</td>\n",
       "      <td>EQUIPMENT AND SUPPLIES, AIRPLANE</td>\n",
       "      <td>3540</td>\n",
       "    </tr>\n",
       "    <tr>\n",
       "      <th>9</th>\n",
       "      <td>AIRCRAFT AND AIRPORT, EQUIPMENT, PARTS, AND SU...</td>\n",
       "      <td>EQUIPMENT AND SUPPLIES, HELICOPTER</td>\n",
       "      <td>3545</td>\n",
       "    </tr>\n",
       "    <tr>\n",
       "      <th>10</th>\n",
       "      <td>AIRCRAFT AND AIRPORT, EQUIPMENT, PARTS, AND SU...</td>\n",
       "      <td>FLIGHT INSTRUMENTS: AIRSPEED, ALTIMETERS, ATTI...</td>\n",
       "      <td>3546</td>\n",
       "    </tr>\n",
       "    <tr>\n",
       "      <th>11</th>\n",
       "      <td>AIRCRAFT AND AIRPORT, EQUIPMENT, PARTS, AND SU...</td>\n",
       "      <td>FLIGHT SIMULATOR</td>\n",
       "      <td>3547</td>\n",
       "    </tr>\n",
       "    <tr>\n",
       "      <th>12</th>\n",
       "      <td>AIRCRAFT AND AIRPORT, EQUIPMENT, PARTS, AND SU...</td>\n",
       "      <td>GLIDERS</td>\n",
       "      <td>3548</td>\n",
       "    </tr>\n",
       "    <tr>\n",
       "      <th>13</th>\n",
       "      <td>AIRCRAFT AND AIRPORT, EQUIPMENT, PARTS, AND SU...</td>\n",
       "      <td>HELICOPTERS</td>\n",
       "      <td>3550</td>\n",
       "    </tr>\n",
       "    <tr>\n",
       "      <th>14</th>\n",
       "      <td>AIRCRAFT AND AIRPORT, EQUIPMENT, PARTS, AND SU...</td>\n",
       "      <td>INSTRUMENTS AND TESTERS, HELICOPTER</td>\n",
       "      <td>3565</td>\n",
       "    </tr>\n",
       "  </tbody>\n",
       "</table>\n",
       "</div>"
      ],
      "text/plain": [
       "                                                class  \\\n",
       "0   AIRCRAFT AND AIRPORT, EQUIPMENT, PARTS, AND SU...   \n",
       "1   AIRCRAFT AND AIRPORT, EQUIPMENT, PARTS, AND SU...   \n",
       "2   AIRCRAFT AND AIRPORT, EQUIPMENT, PARTS, AND SU...   \n",
       "3   AIRCRAFT AND AIRPORT, EQUIPMENT, PARTS, AND SU...   \n",
       "4   AIRCRAFT AND AIRPORT, EQUIPMENT, PARTS, AND SU...   \n",
       "5   AIRCRAFT AND AIRPORT, EQUIPMENT, PARTS, AND SU...   \n",
       "6   AIRCRAFT AND AIRPORT, EQUIPMENT, PARTS, AND SU...   \n",
       "7   AIRCRAFT AND AIRPORT, EQUIPMENT, PARTS, AND SU...   \n",
       "8   AIRCRAFT AND AIRPORT, EQUIPMENT, PARTS, AND SU...   \n",
       "9   AIRCRAFT AND AIRPORT, EQUIPMENT, PARTS, AND SU...   \n",
       "10  AIRCRAFT AND AIRPORT, EQUIPMENT, PARTS, AND SU...   \n",
       "11  AIRCRAFT AND AIRPORT, EQUIPMENT, PARTS, AND SU...   \n",
       "12  AIRCRAFT AND AIRPORT, EQUIPMENT, PARTS, AND SU...   \n",
       "13  AIRCRAFT AND AIRPORT, EQUIPMENT, PARTS, AND SU...   \n",
       "14  AIRCRAFT AND AIRPORT, EQUIPMENT, PARTS, AND SU...   \n",
       "\n",
       "                                            commodity level_1  \n",
       "0                           RADIO-NAVIGATION-AIRCRAFT    3510  \n",
       "1                                      RADAR-AIRCRAFT    3515  \n",
       "2                                           AIRPLANES    3520  \n",
       "3                             AUTOMATIC PILOT SYSTEMS    3525  \n",
       "4                BAGGAGE HANDLING EQUIPMENT AND PARTS    3526  \n",
       "5                   BEACONS, VISUAL AND RUNWAY LIGHTS    3527  \n",
       "6                          ENGINES AND PARTS-AIRPLANE    3530  \n",
       "7                       ENGINES AND PARTS, HELICOPTER    3535  \n",
       "8                    EQUIPMENT AND SUPPLIES, AIRPLANE    3540  \n",
       "9                  EQUIPMENT AND SUPPLIES, HELICOPTER    3545  \n",
       "10  FLIGHT INSTRUMENTS: AIRSPEED, ALTIMETERS, ATTI...    3546  \n",
       "11                                   FLIGHT SIMULATOR    3547  \n",
       "12                                            GLIDERS    3548  \n",
       "13                                        HELICOPTERS    3550  \n",
       "14                INSTRUMENTS AND TESTERS, HELICOPTER    3565  "
      ]
     },
     "execution_count": 5,
     "metadata": {},
     "output_type": "execute_result"
    }
   ],
   "source": [
    "df2.head(15)"
   ]
  },
  {
   "cell_type": "code",
   "execution_count": 6,
   "metadata": {},
   "outputs": [],
   "source": [
    "df9 = df2.apply(lambda x: ','.join(x.astype(str)),axis = 1)"
   ]
  },
  {
   "cell_type": "code",
   "execution_count": 7,
   "metadata": {},
   "outputs": [],
   "source": [
    "df_clean2 = pd.DataFrame({'clean':df9})"
   ]
  },
  {
   "cell_type": "code",
   "execution_count": 8,
   "metadata": {},
   "outputs": [
    {
     "data": {
      "text/html": [
       "<div>\n",
       "<style scoped>\n",
       "    .dataframe tbody tr th:only-of-type {\n",
       "        vertical-align: middle;\n",
       "    }\n",
       "\n",
       "    .dataframe tbody tr th {\n",
       "        vertical-align: top;\n",
       "    }\n",
       "\n",
       "    .dataframe thead th {\n",
       "        text-align: right;\n",
       "    }\n",
       "</style>\n",
       "<table border=\"1\" class=\"dataframe\">\n",
       "  <thead>\n",
       "    <tr style=\"text-align: right;\">\n",
       "      <th></th>\n",
       "      <th>clean</th>\n",
       "    </tr>\n",
       "  </thead>\n",
       "  <tbody>\n",
       "    <tr>\n",
       "      <th>0</th>\n",
       "      <td>AIRCRAFT AND AIRPORT, EQUIPMENT, PARTS, AND SU...</td>\n",
       "    </tr>\n",
       "    <tr>\n",
       "      <th>1</th>\n",
       "      <td>AIRCRAFT AND AIRPORT, EQUIPMENT, PARTS, AND SU...</td>\n",
       "    </tr>\n",
       "    <tr>\n",
       "      <th>2</th>\n",
       "      <td>AIRCRAFT AND AIRPORT, EQUIPMENT, PARTS, AND SU...</td>\n",
       "    </tr>\n",
       "    <tr>\n",
       "      <th>3</th>\n",
       "      <td>AIRCRAFT AND AIRPORT, EQUIPMENT, PARTS, AND SU...</td>\n",
       "    </tr>\n",
       "    <tr>\n",
       "      <th>4</th>\n",
       "      <td>AIRCRAFT AND AIRPORT, EQUIPMENT, PARTS, AND SU...</td>\n",
       "    </tr>\n",
       "  </tbody>\n",
       "</table>\n",
       "</div>"
      ],
      "text/plain": [
       "                                               clean\n",
       "0  AIRCRAFT AND AIRPORT, EQUIPMENT, PARTS, AND SU...\n",
       "1  AIRCRAFT AND AIRPORT, EQUIPMENT, PARTS, AND SU...\n",
       "2  AIRCRAFT AND AIRPORT, EQUIPMENT, PARTS, AND SU...\n",
       "3  AIRCRAFT AND AIRPORT, EQUIPMENT, PARTS, AND SU...\n",
       "4  AIRCRAFT AND AIRPORT, EQUIPMENT, PARTS, AND SU..."
      ]
     },
     "execution_count": 8,
     "metadata": {},
     "output_type": "execute_result"
    }
   ],
   "source": [
    "df_clean2.head()"
   ]
  },
  {
   "cell_type": "code",
   "execution_count": 9,
   "metadata": {},
   "outputs": [],
   "source": [
    "sent23 = [row.split(',') for row in df_clean2['clean']]"
   ]
  },
  {
   "cell_type": "code",
   "execution_count": 10,
   "metadata": {},
   "outputs": [
    {
     "name": "stdout",
     "output_type": "stream",
     "text": [
      "[['AIRCRAFT AND AIRPORT', ' EQUIPMENT', ' PARTS', ' AND SUPPLIES', 'RADIO-NAVIGATION-AIRCRAFT', '3510'], ['AIRCRAFT AND AIRPORT', ' EQUIPMENT', ' PARTS', ' AND SUPPLIES', 'RADAR-AIRCRAFT', '3515'], ['AIRCRAFT AND AIRPORT', ' EQUIPMENT', ' PARTS', ' AND SUPPLIES', 'AIRPLANES', '3520'], ['AIRCRAFT AND AIRPORT', ' EQUIPMENT', ' PARTS', ' AND SUPPLIES', 'AUTOMATIC PILOT SYSTEMS', '3525'], ['AIRCRAFT AND AIRPORT', ' EQUIPMENT', ' PARTS', ' AND SUPPLIES', 'BAGGAGE HANDLING EQUIPMENT AND PARTS', '3526']]\n"
     ]
    }
   ],
   "source": [
    "print(sent23[:5])"
   ]
  },
  {
   "cell_type": "code",
   "execution_count": 11,
   "metadata": {},
   "outputs": [
    {
     "name": "stdout",
     "output_type": "stream",
     "text": [
      "163115\n"
     ]
    }
   ],
   "source": [
    "print(len(sent23))"
   ]
  },
  {
   "cell_type": "code",
   "execution_count": 12,
   "metadata": {},
   "outputs": [],
   "source": [
    "model2 = gensim.models.word2vec.Word2Vec(sent23,min_count=1,size=300, workers=6, window= 4,cbow_mean=0)"
   ]
  },
  {
   "cell_type": "code",
   "execution_count": 13,
   "metadata": {},
   "outputs": [
    {
     "name": "stdout",
     "output_type": "stream",
     "text": [
      "466078\n"
     ]
    }
   ],
   "source": [
    "print(len(model2.wv.vocab))"
   ]
  },
  {
   "cell_type": "code",
   "execution_count": 14,
   "metadata": {
    "scrolled": true
   },
   "outputs": [
    {
     "data": {
      "text/plain": [
       "array([ 1.3763489e-03,  8.0989397e-05, -4.9933919e-04,  1.2373235e-03,\n",
       "        9.8903511e-05, -1.5741069e-03,  2.1750461e-03,  2.0561293e-03,\n",
       "        1.2024533e-03, -7.6792872e-04,  1.5806740e-03, -2.0262040e-04,\n",
       "       -2.7390975e-03,  1.1638079e-03,  6.2300131e-04,  2.1982123e-03,\n",
       "        1.4139240e-03,  7.1391161e-04,  6.3139782e-04,  2.7456949e-03,\n",
       "       -7.1329100e-04,  1.0965031e-03, -1.1103353e-03,  2.2138476e-03,\n",
       "        4.1099469e-04, -1.3180485e-04, -1.4843185e-03,  9.0553530e-04,\n",
       "       -1.0013129e-03, -7.5608387e-04, -9.5423107e-04, -4.0916493e-04,\n",
       "        1.4935961e-03,  1.6195103e-04, -5.1696307e-04, -8.4916537e-04,\n",
       "       -3.4861238e-04, -1.9557073e-03,  3.0996281e-04, -6.2820927e-04,\n",
       "       -2.9816678e-05, -1.7754817e-03, -8.6942827e-04, -1.5092905e-03,\n",
       "        2.4752936e-03, -4.8849446e-04,  4.5723579e-04, -2.0021538e-03,\n",
       "        7.4726762e-05,  2.8451661e-05,  2.4617051e-03, -8.0005807e-04,\n",
       "        4.1793747e-04, -5.1428523e-04, -1.6781089e-03, -3.1160023e-05,\n",
       "        1.9271123e-04,  6.6754234e-04, -6.1891356e-04,  3.4477501e-04,\n",
       "        5.7140988e-04, -5.4676255e-04, -1.5119041e-03,  3.9770777e-04,\n",
       "       -4.5332874e-04, -2.5387300e-04,  3.0838992e-04,  2.9491796e-03,\n",
       "        9.2560292e-04,  6.9643266e-04,  9.6890889e-04,  1.3531318e-03,\n",
       "       -1.2288003e-03,  1.7181503e-03,  1.4761125e-03,  2.6618827e-03,\n",
       "        2.5115442e-04, -5.9832295e-04,  8.3967089e-04, -1.5548882e-03,\n",
       "       -1.9300692e-03, -2.4246310e-03, -1.8526970e-03,  2.9853159e-03,\n",
       "       -3.1370900e-04, -5.6344430e-05, -1.0875072e-03,  1.9207443e-04,\n",
       "       -6.8015105e-04, -9.8740158e-04, -4.9151719e-04, -1.2240519e-03,\n",
       "       -1.9468286e-04, -6.3658174e-04, -3.2791337e-05, -1.7633678e-03,\n",
       "       -1.0044281e-03,  1.0406881e-03, -3.1937226e-03, -1.2052217e-03,\n",
       "        1.5026808e-03, -1.3686680e-03, -1.7233846e-03, -6.1667565e-04,\n",
       "        2.0067440e-03, -8.8256355e-05, -1.2803652e-03,  1.9606491e-04,\n",
       "       -1.5570500e-03, -3.0221350e-03,  1.3654132e-03, -1.5699087e-03,\n",
       "       -1.1818870e-03, -5.5064785e-04,  1.2229432e-03,  7.7855715e-04,\n",
       "       -9.5594360e-04,  2.1454878e-03,  1.1029135e-04,  9.9372643e-04,\n",
       "       -1.3772934e-03,  1.2763847e-03,  5.2641268e-04, -3.7993613e-04,\n",
       "       -7.5939094e-04,  2.4402160e-03,  1.7408838e-03,  1.5313808e-03,\n",
       "        1.6532181e-04,  1.5159505e-03,  2.0741355e-03, -1.3039561e-03,\n",
       "       -2.7339591e-04,  2.3456257e-04, -2.1554286e-05,  2.3295739e-05,\n",
       "        1.0690388e-03,  1.2027451e-03, -2.1127330e-03,  1.7462092e-03,\n",
       "       -5.3515466e-04,  2.1420647e-03, -1.2187769e-03,  9.9512818e-04,\n",
       "        2.7383049e-04,  1.0172164e-03,  1.2209947e-03,  3.0273111e-03,\n",
       "       -1.8035608e-03, -7.7682594e-04, -3.7744900e-05,  1.3072101e-03,\n",
       "        1.4062782e-03,  1.3491437e-03, -3.3407458e-04,  6.3672324e-04,\n",
       "       -1.6963435e-04,  8.5497762e-05,  6.5455685e-04, -1.2914100e-04,\n",
       "        1.7736939e-03, -2.2253531e-03, -1.4742636e-04, -2.5660878e-03,\n",
       "       -3.7128862e-03,  1.2209076e-03, -2.7244177e-04,  9.8393671e-04,\n",
       "       -5.2251504e-04,  9.3816122e-04, -2.4371628e-04, -7.6584716e-04,\n",
       "       -6.1590143e-04, -9.4565109e-04, -1.5977485e-04,  6.1912538e-04,\n",
       "       -1.0344686e-03,  7.7898265e-04, -1.8468190e-03, -8.1098417e-04,\n",
       "        4.1331234e-04,  2.3351819e-04,  1.1876895e-03, -1.5513344e-03,\n",
       "        5.4497324e-04, -5.8462244e-04,  4.4236181e-04,  2.8777923e-03,\n",
       "        1.5669024e-03, -3.6926230e-04,  9.7295223e-04, -2.2800777e-03,\n",
       "        8.0585165e-04,  2.1501668e-04, -9.9735691e-05,  5.8742822e-04,\n",
       "        1.0318871e-03,  8.6431281e-04, -7.6356332e-04,  1.4818235e-03,\n",
       "        1.0298433e-03,  5.2695186e-04, -5.3950603e-04, -3.1779069e-04,\n",
       "        1.1945604e-03,  1.9553949e-03,  1.8352686e-03, -6.4219238e-04,\n",
       "        3.6544603e-04, -1.4248949e-03,  1.1759648e-03, -6.0054421e-04,\n",
       "        5.5006189e-05, -1.0266311e-03,  5.7045300e-04,  1.2210276e-03,\n",
       "       -1.9924978e-03, -1.4986405e-04, -1.6227430e-04,  2.3048248e-03,\n",
       "       -8.7122177e-04,  7.5087906e-04,  2.9222571e-04,  5.7812146e-04,\n",
       "       -7.3843636e-04, -1.8027892e-03, -7.5574784e-04, -4.8208464e-04,\n",
       "       -1.9485052e-03, -7.7137456e-04,  1.8392435e-03,  1.2961515e-03,\n",
       "       -1.0798846e-03, -2.6203622e-04,  3.9782780e-04,  1.7159953e-05,\n",
       "       -2.2942103e-03,  1.1823288e-03, -2.0508133e-03,  2.6436066e-03,\n",
       "       -1.0956412e-03,  2.3348662e-03,  8.2112040e-04, -9.9568604e-04,\n",
       "        7.0951349e-04, -8.2762627e-04,  1.0223265e-03,  2.7534894e-03,\n",
       "       -3.0370647e-04,  9.1133988e-04,  1.0066654e-03, -7.6407648e-04,\n",
       "        4.3306660e-04,  1.1255697e-04, -1.2173266e-03, -5.1849679e-04,\n",
       "       -1.5678692e-03, -2.2298556e-03, -3.4434878e-04,  7.2509173e-04,\n",
       "        1.9386386e-03,  8.6609542e-04, -3.0132236e-03, -2.4134858e-04,\n",
       "       -3.7634888e-04, -1.2267838e-03, -7.7314203e-04,  7.9287007e-04,\n",
       "       -1.6840106e-03,  6.8440067e-04, -3.1337555e-04, -1.9467936e-03,\n",
       "       -1.5497522e-03,  1.3136986e-04,  6.7529868e-04,  2.4947134e-05,\n",
       "       -1.0176197e-04, -2.0614658e-03, -2.6880426e-04, -1.4116828e-03,\n",
       "        2.9028242e-03,  3.1744043e-05, -1.3738136e-03, -1.3071545e-03,\n",
       "        1.7107598e-03,  1.3051882e-03,  1.3664090e-03,  1.0043703e-03,\n",
       "       -2.3266720e-04,  1.1328753e-03, -1.4136753e-04, -1.1640707e-03,\n",
       "        1.2905231e-03,  1.3062352e-03, -4.9330998e-04,  2.3370052e-03,\n",
       "        1.8782490e-05, -2.1072838e-03,  2.0312767e-03, -2.4227539e-04],\n",
       "      dtype=float32)"
      ]
     },
     "execution_count": 14,
     "metadata": {},
     "output_type": "execute_result"
    }
   ],
   "source": [
    "model2.wv.__getitem__('39101601')"
   ]
  },
  {
   "cell_type": "code",
   "execution_count": 15,
   "metadata": {
    "scrolled": true
   },
   "outputs": [
    {
     "name": "stdout",
     "output_type": "stream",
     "text": [
      "0\n",
      "[]\n"
     ]
    }
   ],
   "source": [
    "def NumberofDocs(li,nums):\n",
    "    shortlist=[]\n",
    "    for i in li:\n",
    "        if(i!='nan'):\n",
    "            point = model2.wv.similarity(str(i),nums)\n",
    "            if(point>.4000001):\n",
    "                shortlist.append(i) \n",
    "    \n",
    "    return shortlist\n",
    "\n",
    "result =NumberofDocs(nums,'4045') \n",
    "print(len(result))\n",
    "print(result)"
   ]
  },
  {
   "cell_type": "code",
   "execution_count": 16,
   "metadata": {},
   "outputs": [
    {
     "name": "stdout",
     "output_type": "stream",
     "text": [
      "0\n",
      "[]\n"
     ]
    }
   ],
   "source": [
    "result2 =NumberofDocs(nums,'3526') \n",
    "print(len(result2))\n",
    "print(result2)"
   ]
  },
  {
   "cell_type": "code",
   "execution_count": 17,
   "metadata": {},
   "outputs": [
    {
     "data": {
      "text/plain": [
       "0.6110741"
      ]
     },
     "execution_count": 17,
     "metadata": {},
     "output_type": "execute_result"
    }
   ],
   "source": [
    "model2.wv.similarity('39101601','39101603')"
   ]
  },
  {
   "cell_type": "code",
   "execution_count": 18,
   "metadata": {},
   "outputs": [
    {
     "data": {
      "text/plain": [
       "0.10373564"
      ]
     },
     "execution_count": 18,
     "metadata": {},
     "output_type": "execute_result"
    }
   ],
   "source": [
    "model2.wv.similarity('10101708','4045')"
   ]
  },
  {
   "cell_type": "code",
   "execution_count": 19,
   "metadata": {
    "scrolled": true
   },
   "outputs": [
    {
     "data": {
      "text/plain": [
       "[(\"  percutaneous endoscopic approach.This surgical intervention or procedure is listed in the World Health Organization's International Statistical Classification of Diseases and Related Health Problems or ICD-10 as code 0S564ZZ\",\n",
       "  0.8030943870544434),\n",
       " (' DIFLUCORTOLONE remains the US FDA Preferred Term for this commodity. Diflucortolone bears US NLM identifiers UMLS ID C0012227 and NCI Concept Code C87231. SMILES: FC12C(C3C(C(C(C3)C)C(=O)CO)(CC1O)C)CC(F)C1=CC(=O)C=CC21C.',\n",
       "  0.7926597595214844),\n",
       " (\"  open approach.This surgical intervention or procedure is listed in the World Health Organization's International Statistical Classification of Diseases and Related Health Problems or ICD-10 as code 04RN0KZ\",\n",
       "  0.7919535040855408),\n",
       " (\"  percutaneous approach.This surgical intervention or procedure is listed in the World Health Organization's International Statistical Classification of Diseases and Related Health Problems or ICD-10 as code 0L5B3ZZ\",\n",
       "  0.7918217182159424),\n",
       " (\"  open approach.This measurement intervention or procedure is listed in the World Health Organization's International Statistical Classification of Diseases and Related Health Problems or ICD-10 as code 4A0104Z\",\n",
       "  0.7866613864898682),\n",
       " (' TREPROSTINIL remains the US FDA Preferred Term for this commodity. Treprostinil bears US NLM identifiers UMLS ID C1145760 and NCI Concept Code C61983. SMILES: OC1C(C2C(C1)Cc1c(C2)cccc1OCC(=O)O)CCC(O)CCCCC.',\n",
       "  0.7847299575805664),\n",
       " ('HOSIERY AND SOCKS', 0.7847282290458679),\n",
       " (\"  percutaneous endoscopic approach.This surgical intervention or procedure is listed in the World Health Organization's International Statistical Classification of Diseases and Related Health Problems or ICD-10 as code 0RWD48Z\",\n",
       "  0.7835137844085693),\n",
       " ('Repirinast This classification denotes a histamine-1 receptor antagonist with the molecular formula C20H21NO5',\n",
       "  0.7832009792327881),\n",
       " ('Domestic pet training kits nan', 0.7814334630966187)]"
      ]
     },
     "execution_count": 19,
     "metadata": {},
     "output_type": "execute_result"
    }
   ],
   "source": [
    "model2.wv.most_similar('3105')[:15]"
   ]
  },
  {
   "cell_type": "code",
   "execution_count": 20,
   "metadata": {},
   "outputs": [
    {
     "data": {
      "text/plain": [
       "'\\nmodel2.wv.vocab\\nmodel2.save(\"W2V-Model\")\\n\\ntext = \"AIR CONDITIONING, HEATING, AND VENTILATING: EQUIPMENT, PARTS  HYDRONIC SPECIALTIES\"\\nidt =[\\'101\\'] \\ntext = text.lower()\\nnewEntry = []\\nnewEn =[]\\nstop_words = set(stopwords.words(\\'english\\'))\\nch = [ \\'``\\',\\'``\\', \"\\'\\'\",\\',\\',\\'.\\',\\'\\\\n\\',\"\\'\",\";\",\":\",\"(\",\")\",\"-\",\"--\"]\\n\\n\\nWtest = word_tokenize(text)\\nWtest = [ j for j in Wtest if not j in ch ]\\nWtest = [w for w in Wtest if not w in stop_words]\\nnewEntry.append(Wtest)\\n\\ndef concatenate_list_data(list):\\n    result= \\'\\'\\n    for element in list:\\n        result += str(element+\" \")\\n    return result\\n\\nnewEntry[0] = concatenate_list_data(newEntry[0])\\nnewEntry += idt\\nnewEn.append(newEntry)\\nprint(newEn)\\n\\nnew_mod = gensim.models.Word2Vec.load(\"W2V-Model\")\\nnew_mod.build_vocab(newEn,update = True)\\nnew_mod.train(newEn,total_examples=1,epochs = 1)\\n\\nnew_mod.wv.similarity(\\'30121703.0\\',\\'101\\')\\nnew_mod.wv.most_similar_cosmul(\\'101\\')\\n\\nnew_mod.wv.similar_by_vector(\\'101\\')\\n\\n'"
      ]
     },
     "execution_count": 20,
     "metadata": {},
     "output_type": "execute_result"
    }
   ],
   "source": [
    "\"\"\"\n",
    "book = open_workbook('UNSPSC English v220601 project.xlsx')\n",
    "'''book = open_workbook('Unspec List2b.xlsx')'''\n",
    "'''To work on the UNSPSC sheet you need to change the values of 0 to 12 and 1 to\n",
    "16 in order to make the it work.'''\n",
    "dict_list = []\n",
    "sheet = book.sheet_by_index(0)\n",
    "# read header values into the list\n",
    "keys = [sheet.cell(0, col_index).value for col_index in range(sheet.ncols)]\n",
    "\n",
    "for row_index in range(1, sheet.nrows):\n",
    "    d = {keys[col_index]: sheet.cell(row_index, col_index).value\n",
    "         for col_index in range(sheet.ncols)}\n",
    "    dict_list.append(d)\n",
    "\n",
    "print(len(dict_list))\n",
    "    \n",
    "doclist =[]\n",
    "listOfEntry =[]\n",
    "entrylist = []\n",
    "df7 = pd.DataFrame()\n",
    "\n",
    "\n",
    "for entry in dict_list:\n",
    "    if(entry.get(\"Family\")==\"\"):\n",
    "        continue\n",
    "    elif(entry.get(\"Family\")!=\"\" and entry.get(\"Class\")==\"\"):\n",
    "        if(listOfEntry!=[]):\n",
    "            #print(listOfEntry)\n",
    "            doclist += entrylist\n",
    "            continue\n",
    "    elif(entry.get(\"Commodity\")==\"\"):\n",
    "        continue\n",
    "    else:\n",
    "        if(entry.get(\"Class Definition\")!=\"\"):\n",
    "            f = str(sent_tokenize(entry.get(\"Class Definition\").lower())).strip('[]').strip('\\'')\n",
    "            #print(f)\n",
    "        else:\n",
    "            f=str([\" \"]).strip('[]').strip('\\'')\n",
    "        e = str(sent_tokenize(entry.get(\"Class Title\").lower())).strip('[]').strip('\\'')\n",
    "        #print(e)\n",
    "        g = str(sent_tokenize(entry.get(\"Commodity Title\").lower())).strip('[]').strip('\\'')\n",
    "        #print(g)\n",
    "        if(entry.get(\"Commodity Definition\")!=\"\"):\n",
    "            h = str(sent_tokenize(entry.get(\"Commodity Definition\").lower())).strip('[]').strip('\\'')\n",
    "            #print(h)\n",
    "        else:\n",
    "            h = str([\" \"]).strip('[]').strip('\\'')\n",
    "        i=int(entry.get(\"Commodity\"))\n",
    "        df7 = df7.append({'class':e+f,'commodity':g+h,'level_1': i},ignore_index=True)\n",
    "        \n",
    "  \n",
    "        \n",
    "doclist.append(listOfEntry) \n",
    "\n",
    "print(\"done\")        \n",
    "\"\"\"\n",
    "\n",
    "\"\"\"\n",
    "model2.wv.vocab\n",
    "model2.save(\"W2V-Model\")\n",
    "\n",
    "text = \"AIR CONDITIONING, HEATING, AND VENTILATING: EQUIPMENT, PARTS  HYDRONIC SPECIALTIES\"\n",
    "idt =['101'] \n",
    "text = text.lower()\n",
    "newEntry = []\n",
    "newEn =[]\n",
    "stop_words = set(stopwords.words('english'))\n",
    "ch = [ '``','``', \"''\",',','.','\\\\n',\"'\",\";\",\":\",\"(\",\")\",\"-\",\"--\"]\n",
    "\n",
    "\n",
    "Wtest = word_tokenize(text)\n",
    "Wtest = [ j for j in Wtest if not j in ch ]\n",
    "Wtest = [w for w in Wtest if not w in stop_words]\n",
    "newEntry.append(Wtest)\n",
    "\n",
    "def concatenate_list_data(list):\n",
    "    result= ''\n",
    "    for element in list:\n",
    "        result += str(element+\" \")\n",
    "    return result\n",
    "\n",
    "newEntry[0] = concatenate_list_data(newEntry[0])\n",
    "newEntry += idt\n",
    "newEn.append(newEntry)\n",
    "print(newEn)\n",
    "\n",
    "new_mod = gensim.models.Word2Vec.load(\"W2V-Model\")\n",
    "new_mod.build_vocab(newEn,update = True)\n",
    "new_mod.train(newEn,total_examples=1,epochs = 1)\n",
    "\n",
    "new_mod.wv.similarity('30121703.0','101')\n",
    "new_mod.wv.most_similar_cosmul('101')\n",
    "\n",
    "new_mod.wv.similar_by_vector('101')\n",
    "\n",
    "\"\"\"\n"
   ]
  }
 ],
 "metadata": {
  "kernelspec": {
   "display_name": "Python 3",
   "language": "python",
   "name": "python3"
  },
  "language_info": {
   "codemirror_mode": {
    "name": "ipython",
    "version": 3
   },
   "file_extension": ".py",
   "mimetype": "text/x-python",
   "name": "python",
   "nbconvert_exporter": "python",
   "pygments_lexer": "ipython3",
   "version": "3.7.4"
  }
 },
 "nbformat": 4,
 "nbformat_minor": 2
}
