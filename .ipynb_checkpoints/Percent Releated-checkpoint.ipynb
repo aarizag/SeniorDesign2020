{
 "cells": [
  {
   "cell_type": "code",
   "execution_count": 2,
   "metadata": {},
   "outputs": [
    {
     "name": "stdout",
     "output_type": "stream",
     "text": [
      "***************\n",
      "female.n.01\n",
      "\"female\" \n",
      "Def: an animal that produces gametes (ova) that can be fertilized by male gametes (spermatozoa)\n",
      "***************\n",
      "***Synonyms***\n",
      "{'distaff', 'female_person', 'female'}\n",
      "***Antonyms***\n",
      "{'male', 'androgynous'}\n",
      "***************\n",
      "Synonym used: womanly\n",
      "Def:  befitting or characteristic of a woman especially a mature woman\n",
      "***************\n",
      "75.0 % simalirty in between the two words\n",
      "***************\n"
     ]
    }
   ],
   "source": [
    "from nltk.corpus import wordnet\n",
    "\n",
    "print(\"***************\")\n",
    "\n",
    "#declaring the word to find items for\n",
    "word = \"female\"\n",
    "#init the word\n",
    "syns = wordnet.synsets(word)\n",
    "\n",
    "#this will help later\n",
    "print(syns[0].name())\n",
    "#Prints word\n",
    "print(\"\\\"\" + syns[0].lemmas()[0].name() + \"\\\" \")\n",
    "#Prints def\n",
    "print(\"Def: \" + syns[0].definition()) \n",
    "print(\"***************\")\n",
    "\n",
    "#Finding synonyms\n",
    "synonyms = [] \n",
    "antonyms = []   \n",
    "  \n",
    "for syn in wordnet.synsets(word): \n",
    "    for l in syn.lemmas(): \n",
    "        synonyms.append(l.name()) \n",
    "        if l.antonyms(): \n",
    "            antonyms.append(l.antonyms()[0].name()) \n",
    "\n",
    "\n",
    "print(\"***Synonyms***\")\n",
    "print(set(synonyms))\n",
    "print(\"***Antonyms***\")\n",
    "print(set(antonyms))\n",
    "print(\"***************\")\n",
    "\n",
    "\n",
    "#this makes it able to get the def of the syn\n",
    "synUsed = \"womanly\"\n",
    "syns2 = wordnet.synsets(synUsed)\n",
    "\n",
    "#comparing two words\n",
    "print(\"Synonym used: \" + synUsed)\n",
    "print(\"Def: \",  syns2[0].definition())\n",
    "print(\"***************\")\n",
    "\n",
    "#this is the help later part\n",
    "w1 = wordnet.synset(syns[0].name())\n",
    "typeOfWord = syns[0].name()\n",
    "secondPart = typeOfWord[-5:]\n",
    "w2 = wordnet.synset(synonyms[2] + secondPart) \n",
    "\n",
    "percent = 100 * w1.wup_similarity(w2)\n",
    "percent = round(percent, 2)\n",
    "\n",
    "\n",
    "print(percent, \"% simalirty in between the two words\")\n",
    "print(\"***************\")"
   ]
  },
  {
   "cell_type": "code",
   "execution_count": null,
   "metadata": {},
   "outputs": [],
   "source": []
  }
 ],
 "metadata": {
  "kernelspec": {
   "display_name": "Python 3",
   "language": "python",
   "name": "python3"
  },
  "language_info": {
   "codemirror_mode": {
    "name": "ipython",
    "version": 3
   },
   "file_extension": ".py",
   "mimetype": "text/x-python",
   "name": "python",
   "nbconvert_exporter": "python",
   "pygments_lexer": "ipython3",
   "version": "3.7.4"
  }
 },
 "nbformat": 4,
 "nbformat_minor": 2
}
