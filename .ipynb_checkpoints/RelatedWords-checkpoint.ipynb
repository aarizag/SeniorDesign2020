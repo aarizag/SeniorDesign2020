{
 "cells": [
  {
   "cell_type": "code",
   "execution_count": 1,
   "metadata": {
    "scrolled": true
   },
   "outputs": [
    {
     "name": "stdout",
     "output_type": "stream",
     "text": [
      "What word do you want to get another word for? hose\n",
      "415\n",
      "['tube', 'tubing', 'pipe', 'hosepipe', 'garden hose', 'water', 'sprinkler', 'nozzle', 'fluid', 'tights', 'hose down', 'radiator', 'water cannon', 'pipes', 'irrigate', 'casing', 'radiator hose', 'washer', 'faucet', 'suction', 'extinguisher', 'fire hose', 'panty', 'winch', 'cylinder', 'valve', 'hydraulic', 'water heater', 'hosiery', 'gas', 'uk', 'stocking', 'airline', 'footwear', 'britain', 'garment', 'sock', 'circle', 'hoses', 'u.k.', 'leotards', 'watercannon', 'boiler', 'screw', 'nylon', 'duct', 'pneumatic', 'conditioner', 'ballast', 'shovel', 'heater', 'piping', 'fitted', 'tubes', 'coils', 'pumps', 'pinion', 'mower', 'polyurethane', 'flashlight', 'toilet', 'rack', 'spray', 'plumbing', 'collapsible', 'windshield', 'plunger', 'dryer', 'tub', 'flue', 'rinse', 'radiators', 'culvert', 'steam', 'bucket', 'blades', 'razor', 'condenser', 'paddle', 'pump', 'septic', 'conveyor', 'wires', 'socket', 'paddles', 'rope', 'grate', 'lever', 'wash', 'lance', 'wheels', 'toothbrush', 'towel', 'sling', 'rails', 'buckets', 'washing', 'loading', 'drying', 'mattress', 'conduit', 'cylinders', 'dryers', 'scissors', 'washers', 'cuff', 'glue', 'chimney', 'ropes', 'pellet', 'blade', 'leaky', 'compressor', 'polyethylene', 'dart', 'crank', 'exchanger', 'socks', 'line', 'exhaust', 'shower', 'caterpillar', 'wiper', 'coolant', 'ventilation', 'racks', 'crate', 'machine', 'throat', 'laundry', 'stove', 'taps', 'gear', 'vacuum', 'pads', 'nozzles', 'underneath', 'nails', 'cleaning', 'cleaners', 'slung', 'dripping', 'stockings', 'chenille', 'scoop', 'dope', 'crt', 'jet', 'snitch', 'sleeve', 'whip', 'gut', 'muff', 'lifeline', 'pvc', 'channel', 'tip', 'drainpipe', 'rose', 'passage', 'hint', 'jose', 'united kingdom', 'united kingdom of great britain and northern ireland', 'air hose', 'great britain', 'diphtheria', 'rosewater', 'wolf', 'hydrant', 'jetter', 'blower', 'arrester', 'spile', 'solenoid', 'rammer', 'dishpan', 'wick', 'nylons', 'waterspout', 'rubber', 'puddle', 'waterlogged', 'boggy', 'groundwater', 'waterless', 'baseboard', 'high-pressure', 'aqueous', 'watery', 'rainwater', 'argyles', 'legwear', 'irrigation', 'whirlpool', 'skank', 'bluewater', 'waterpipe', 'waterworks', 'spout', 'sump', 'washout', 'wet', 'meltwater', 'shearwater', 'swamp', 'reservoir', 'waterborne', 'downpour', 'heads-up', 'tip-off', 'sprayer', 'downpipe', 'tailboard', 'stopcock', 'pipework', 'downspout', 'ductwork', 'nailer', 'towline', 'bailer', 'showerhead', 'deluge', 'waterer', 'soak', 'floodwater', 'watertight', 'watersoaked', 'waterbomb', 'rainstorm', 'waterjug', 'waterkeeper', 'flume', 'dewater', 'cross section', 'stockyard', 'watercoaster', 'waterlike', 'waterish', 'bathwater', 'flood', 'antiwater', 'overwater', 'poolwater', 'creekwater', 'torrent', 'sinkwater', 'waterward', 'ptfe', 'waterscape', 'polywater', 'bewater', 'limewater', 'gardener', 'waterbased', 'waterpot', 'watermaker', 'waterwheel', 'tributary', 'water garden', 'aquatic', 'wetten', 'pondwater', 'inundate', 'waterful', 'moisten', 'waterly', 'drainage', 'spurnwater', 'wetness', 'tailwater', 'stock', 'streamwater', 'horticulturist', 'ldpe', 'watermilfoil', 'tadpole', 'spittle', 'moisture', 'showery', 'waterweed', 'lota', 'antifreeze', 'brackishwater', 'eyewater', 'lakewater', 'watermanship', 'teflon', 'unwater', 'eyewatering', 'waterwort', 'waterstuff', 'waterdrop', 'highwater', 'lldpe', 'flatwater', 'waterlog', 'watermaster', 'waterworn', 'dishwater', 'semiwater', 'interflow', 'wateriness', 'boothose', 'waterplay', 'softwater', 'porewater', 'watershoot', 'corrivation', 'streamful', 'hydroelastic', 'limewash', 'boilover', 'streamless', 'sunbow', 'tobacco water', 'catchwater', \"jet d'eau\", 'bedew', 'washbowl', 'overwash', 'pantyhose', 'backwashing', 'waterage', 'waterbag', 'stockist', 'oceanwater', 'spray hose', 'liquid', 'water spout', 'fire extinguisher', 'exhaust pipe', 'hydraulic ram', 'air compressor', 'compressed air', 'bilge pump', 'posthole digger', 'immersion heater', 'flue pipe', 'extension cord', 'socket wrench', 'idler pulley', 'bristle brush', 'exhaust manifold', 'inlet manifold', 'hydraulic pump', 'bathe in', 'water bug', 'extinguish fire', 'spring water', 'air', 'put out fire', 'water balloon', 'tap water', 'sump pump', 'reflect image', 'rose water', 'thin paint', 'water can', 'ziment water', 'soft water', 'water resistant', 'grind water', 'heavy water', 'water gate', 'light water', 'water meter', 'water soluble', 'distil water', 'semi heavy water', 'water meadow', 'still water', 'rice water', 'water slide', 'water bomber', 'make it grow', 'water work', 'hot water heater', 'mineral water', 'hard water', 'clamp', 'tap', 'flange', 'front yard', 'methane rain', 'water frame', 'water down', 'crush ice', 'water flower', 'break water', 'river basin', 'cold water', 'water gauge', 'lash down', 'grow garden', 'steam condenser', 'pour down', 'whip down', 'pelt down', 'water doctor', 'ice crystal', 'fill glass', 'formation water', 'first water', 'water flag', 'bird bath', 'water repellent', 'rain cloud', 'above water', 'water vapor', 'water bottle', 'grow plant', 'water buffalo', 'stainless steel', 'rubber-hose cryptanalysis']\n"
     ]
    }
   ],
   "source": [
    "import requests\n",
    "from selenium import webdriver\n",
    "from bs4 import BeautifulSoup\n",
    "import pandas as pd\n",
    "\n",
    "choice = input(\"What word do you want to get another word for? \")\n",
    "\n",
    "words = [] #List to store rating of the product\n",
    "driver = webdriver.Chrome()\n",
    "driver.get(\"https://relatedwords.org/relatedto/\"+choice+\"\")\n",
    "\n",
    "content = driver.page_source\n",
    "soup = BeautifulSoup(content)\n",
    "a = soup.find('div', attrs={'class':'words'})\n",
    "\n",
    "for i in a.findAll('a',attrs = {'class':'item'}):\n",
    "    name = i.text\n",
    "    words.append(name)\n",
    "    \n",
    "driver.quit()\n",
    "\n",
    "print (len(words))\n",
    "print(words)\n",
    "\n"
   ]
  },
  {
   "cell_type": "code",
   "execution_count": 2,
   "metadata": {},
   "outputs": [
    {
     "ename": "ModuleNotFoundError",
     "evalue": "No module named 'tensorflow'",
     "output_type": "error",
     "traceback": [
      "\u001b[1;31m---------------------------------------------------------------------------\u001b[0m",
      "\u001b[1;31mModuleNotFoundError\u001b[0m                       Traceback (most recent call last)",
      "\u001b[1;32m<ipython-input-2-2fbb57b606df>\u001b[0m in \u001b[0;36m<module>\u001b[1;34m\u001b[0m\n\u001b[1;32m----> 1\u001b[1;33m \u001b[1;32mimport\u001b[0m \u001b[0mtensorflow\u001b[0m \u001b[1;32mas\u001b[0m \u001b[0mtf\u001b[0m\u001b[1;33m\u001b[0m\u001b[1;33m\u001b[0m\u001b[0m\n\u001b[0m\u001b[0;32m      2\u001b[0m \u001b[1;32mimport\u001b[0m \u001b[0mtensorflow_hub\u001b[0m \u001b[1;32mas\u001b[0m \u001b[0mhub\u001b[0m\u001b[1;33m\u001b[0m\u001b[1;33m\u001b[0m\u001b[0m\n\u001b[0;32m      3\u001b[0m \u001b[1;33m\u001b[0m\u001b[0m\n\u001b[0;32m      4\u001b[0m \u001b[0mmodule_url\u001b[0m \u001b[1;33m=\u001b[0m \u001b[1;34m\"https://tfhub.dev/google/universal-sentence-encoder/1?tf-hub-format=compressed\"\u001b[0m\u001b[1;33m\u001b[0m\u001b[1;33m\u001b[0m\u001b[0m\n\u001b[0;32m      5\u001b[0m \u001b[1;33m\u001b[0m\u001b[0m\n",
      "\u001b[1;31mModuleNotFoundError\u001b[0m: No module named 'tensorflow'"
     ]
    }
   ],
   "source": [
    "import tensorflow as tf\n",
    "import tensorflow_hub as hub\n",
    "\n",
    "module_url = \"https://tfhub.dev/google/universal-sentence-encoder/1?tf-hub-format=compressed\"\n",
    "\n",
    "# Import the Universal Sentence Encoder's TF Hub module\n",
    "embed = hub.Module(module_url)\n",
    "\n",
    "# sample text\n",
    "messages = [\n",
    "# Smartphones\n",
    "\"My phone is not good.\",\n",
    "\"Your cellphone looks great.\",\n",
    "\n",
    "# Weather\n",
    "\"Will it snow tomorrow?\",\n",
    "\"Recently a lot of hurricanes have hit the US\",\n",
    "\n",
    "# Food and health\n",
    "\"An apple a day, keeps the doctors away\",\n",
    "\"Eating strawberries is healthy\",\n",
    "]\n",
    "\n",
    "similarity_input_placeholder = tf.placeholder(tf.string, shape=(None))\n",
    "similarity_message_encodings = embed(similarity_input_placeholder)\n",
    "with tf.Session() as session:\n",
    "    session.run(tf.global_variables_initializer())\n",
    "    session.run(tf.tables_initializer())\n",
    "    message_embeddings_ = session.run(similarity_message_encodings, feed_dict={similarity_input_placeholder: messages})\n",
    "\n",
    "    corr = np.inner(message_embeddings_, message_embeddings_)\n",
    "    print(corr)\n",
    "    heatmap(messages, messages, corr)\n",
    "    \n",
    "def heatmap(x_labels, y_labels, values):\n",
    "    fig, ax = plt.subplots()\n",
    "    im = ax.imshow(values)\n",
    "\n",
    "    # We want to show all ticks...\n",
    "    ax.set_xticks(np.arange(len(x_labels)))\n",
    "    ax.set_yticks(np.arange(len(y_labels)))\n",
    "    # ... and label them with the respective list entries\n",
    "    ax.set_xticklabels(x_labels)\n",
    "    ax.set_yticklabels(y_labels)\n",
    "\n",
    "    # Rotate the tick labels and set their alignment.\n",
    "    plt.setp(ax.get_xticklabels(), rotation=45, ha=\"right\", fontsize=10,\n",
    "         rotation_mode=\"anchor\")\n",
    "\n",
    "    # Loop over data dimensions and create text annotations.\n",
    "    for i in range(len(y_labels)):\n",
    "        for j in range(len(x_labels)):\n",
    "            text = ax.text(j, i, \"%.2f\"%values[i, j],\n",
    "                           ha=\"center\", va=\"center\", color=\"w\", \n",
    "fontsize=6)\n",
    "\n",
    "    fig.tight_layout()\n",
    "    plt.show()"
   ]
  },
  {
   "cell_type": "code",
   "execution_count": null,
   "metadata": {},
   "outputs": [],
   "source": []
  }
 ],
 "metadata": {
  "kernelspec": {
   "display_name": "Python 3",
   "language": "python",
   "name": "python3"
  },
  "language_info": {
   "codemirror_mode": {
    "name": "ipython",
    "version": 3
   },
   "file_extension": ".py",
   "mimetype": "text/x-python",
   "name": "python",
   "nbconvert_exporter": "python",
   "pygments_lexer": "ipython3",
   "version": "3.7.4"
  }
 },
 "nbformat": 4,
 "nbformat_minor": 2
}
