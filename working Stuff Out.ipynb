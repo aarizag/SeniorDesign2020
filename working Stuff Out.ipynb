{
 "cells": [
  {
   "cell_type": "code",
   "execution_count": 1,
   "metadata": {},
   "outputs": [
    {
     "name": "stdout",
     "output_type": "stream",
     "text": [
      "Made the files and temp dictionary and corpus in 267.1349198818207\n"
     ]
    }
   ],
   "source": [
    "import os\n",
    "from gensim.models import LsiModel\n",
    "from gensim import similarities,models\n",
    "import gensim\n",
    "from gensim.corpora import MmCorpus\n",
    "import warnings\n",
    "import time\n",
    "import nltk\n",
    "import pandas as pd\n",
    "from nltk.tokenize import word_tokenize\n",
    "from gensim import corpora\n",
    "import operator\n",
    "warnings.simplefilter('ignore')\n",
    "\n",
    "import MakerOfFiles as mf"
   ]
  },
  {
   "cell_type": "code",
   "execution_count": 5,
   "metadata": {},
   "outputs": [
    {
     "name": "stdout",
     "output_type": "stream",
     "text": [
      "Narrowing done in 561.7890722751617\n"
     ]
    }
   ],
   "source": [
    "test = \"MASS TRANSPORTATION - RAIL VEHICLE PARTS AND ACCESSORIES\"\n",
    "test = test.lower()\n",
    "query_doc = word_tokenize(test)\n",
    "\n",
    "\n",
    "listNew = []\n",
    "\n",
    "\n",
    "def reduceList(lengths,sortlist, dictionarys,corpuses):\n",
    "    for i in range(len(lengths)):\n",
    "        mm = MmCorpus(corpuses[i])\n",
    "        tf_idf = models.TfidfModel(mm)\n",
    "        cortfidf = tf_idf[mm]\n",
    "        load_dic = corpora.Dictionary.load_from_text(dictionarys[i])\n",
    "        lsi = LsiModel(mm,num_topics=lengths[i],id2word = load_dic)\n",
    "        index = gensim.similarities.MatrixSimilarity(lsi[mm],num_features=lengths[i])\n",
    "        query_doc_bow = load_dic.doc2bow(query_doc, True)\n",
    "        query_doc_tf_idf = tf_idf[query_doc_bow]\n",
    "        sim = list(zip(sortlist[i],index[lsi[query_doc_tf_idf]]))\n",
    "        sim.sort(key = operator.itemgetter(1),reverse = True)\n",
    "        listNew.append(sim[0:5])\n",
    "        \n",
    "\n",
    "start2=time.time()\n",
    "reduceList(mf.lengths,mf.sortlist,mf.Dictlist,mf.Corlist)\n",
    "    \n",
    "       \n",
    "print(f'Narrowing done in {time.time() - start2}')\n",
    "\n",
    "exceltest = pd.ExcelWriter(\"test2.xlsx\",engine='xlsxwriter')\n",
    "data= pd.DataFrame(listNew)\n",
    "data.to_excel(exceltest,sheet_name='MASS TRANSPORTATION')\n",
    "\n",
    "exceltest.save()"
   ]
  },
  {
   "cell_type": "code",
   "execution_count": null,
   "metadata": {},
   "outputs": [],
   "source": []
  }
 ],
 "metadata": {
  "kernelspec": {
   "display_name": "Python 3",
   "language": "python",
   "name": "python3"
  },
  "language_info": {
   "codemirror_mode": {
    "name": "ipython",
    "version": 3
   },
   "file_extension": ".py",
   "mimetype": "text/x-python",
   "name": "python",
   "nbconvert_exporter": "python",
   "pygments_lexer": "ipython3",
   "version": "3.7.6"
  }
 },
 "nbformat": 4,
 "nbformat_minor": 2
}
