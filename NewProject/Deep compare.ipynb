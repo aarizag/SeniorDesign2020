{
 "cells": [
  {
   "cell_type": "code",
   "execution_count": 1,
   "metadata": {},
   "outputs": [],
   "source": [
    "def listToAscendingOrder(newList2):\n",
    "    #print(\"# puts list in ascending order\")\n",
    "    index_OfGreatest = 0\n",
    "    counter = 0\n",
    "\n",
    "    for i in range(len(newList2)):\n",
    "        # Find index of greatest value\n",
    "        for j in range(len(newList2) - counter):\n",
    "            if(newList2[index_OfGreatest][1] < newList2[j][1]):\n",
    "                index_OfGreatest = j\n",
    "\n",
    "        # use index found to switch greatest index with (last - counter)\n",
    "        if(i != 0):\n",
    "            temp = newList2[index_OfGreatest]\n",
    "            newList2[index_OfGreatest] = newList2[len(newList2) - (counter + 1)]\n",
    "            newList2[len(newList2) - counter] = temp\n",
    "\n",
    "        # increase the counter and reset index of greatest to 0\n",
    "        counter += 1\n",
    "        index_OfGreatest = 0"
   ]
  },
  {
   "cell_type": "code",
   "execution_count": 2,
   "metadata": {},
   "outputs": [],
   "source": [
    "sentence_1_normalized = 'school supply set kit' \n",
    "sentence_2_normalized = 'school equipment supply'\n",
    "from nltk.tokenize import word_tokenize as tokenize_sentence\n",
    "sentence_1_tokenized = tokenize_sentence(sentence_1_normalized)\n",
    "sentence_2_tokenized = tokenize_sentence(sentence_2_normalized)"
   ]
  },
  {
   "cell_type": "code",
   "execution_count": 3,
   "metadata": {},
   "outputs": [
    {
     "name": "stdout",
     "output_type": "stream",
     "text": [
      "5.196152422706632\n"
     ]
    }
   ],
   "source": [
    "## Euclidean Distance\n",
    "#  - distance between two vectors\n",
    "import math\n",
    "def euclidean_distance(u, v):\n",
    "    summation = 0\n",
    "    for i in range(len(u)):\n",
    "        # (u1 - v1)^ 2\n",
    "        summation += ((u[i] - v[i]) * (u[i] - v[i]))\n",
    "    # squareroot result of summation\n",
    "    euclidean_distance = math.sqrt(summation)\n",
    "    return euclidean_distance\n",
    "# Example       \n",
    "print(euclidean_distance([1,2,3], [4,5,6]))"
   ]
  },
  {
   "cell_type": "code",
   "execution_count": 4,
   "metadata": {},
   "outputs": [
    {
     "name": "stdout",
     "output_type": "stream",
     "text": [
      "## Done loading Google's Pre-Trained Word2Vec model\n"
     ]
    }
   ],
   "source": [
    "## Load Google's Pre-Trained Dataset\n",
    "##\n",
    "import wordNet\n",
    "import gensim.models.word2vec as word2vec\n",
    "\n",
    "from gensim.models import KeyedVectors\n",
    "\n",
    "# Google's Pre-Trained Data Set\n",
    "from gensim.models import KeyedVectors\n",
    "file_directory = '../ignore/GoogleNews-vectors-negative300.bin.gz'\n",
    "# Googles Pre-trained data set has 300 futures\n",
    "model = KeyedVectors.load_word2vec_format(file_directory, binary=True)\n",
    "\n",
    "print(\"## Done loading Google's Pre-Trained Word2Vec model\")"
   ]
  },
  {
   "cell_type": "code",
   "execution_count": 5,
   "metadata": {},
   "outputs": [],
   "source": [
    "## Word embedding\n",
    "##\n",
    "# Using Google's pre-train dataset, convert every word in the tokenized sentence into its \n",
    "# position coordinates in a 300 dimension vector space\n",
    "def word_embedding(tokenized_sentence):\n",
    "    list_wordembedding = []\n",
    "    for token in tokenized_sentence:\n",
    "        list_wordembedding.append(model[token]) \n",
    "    return list_wordembedding\n",
    "        \n",
    "# word_embedding() takes in a tokenized sentence \n",
    "# this function will return a list of list containing\n",
    "# the vector position of every word in a sentece"
   ]
  },
  {
   "cell_type": "code",
   "execution_count": 6,
   "metadata": {},
   "outputs": [],
   "source": [
    "#parameter = two normalized sentences\n",
    "def list_vectorPosition(tokenized_sentence1, tokenized_sentence2):\n",
    "    # list at index 0 = sentence 1\n",
    "    # list at index 1 = sentence 2\n",
    "    list1 = []\n",
    "    # the vector position of every word in a sentece\n",
    "    sentence1_vector_position = word_embedding(tokenized_sentence1) # vector position for every word in sentence 1\n",
    "    sentence2_vector_position = word_embedding(tokenized_sentence2) # vector position for every word in sentence 1\n",
    "    list1.append(sentence1_vector_position)\n",
    "    list1.append(sentence2_vector_position)\n",
    "    return list1\n",
    "\n",
    "#list_vectorPosition returns a (list) containing a (list) of (list with 300 values).\n",
    "#list_vectorPosition[0] vector positions for sentence 1\n",
    "#list_vectorPosition[1] vector positions for sentence 2\n",
    "#list_vectorPosition[0][i] returns a list with vector position (300 entries) of word at i\n",
    "\n",
    "list1 = list_vectorPosition(sentence_1_tokenized, sentence_2_tokenized)"
   ]
  },
  {
   "cell_type": "code",
   "execution_count": 7,
   "metadata": {},
   "outputs": [
    {
     "name": "stdout",
     "output_type": "stream",
     "text": [
      "Done!\n"
     ]
    }
   ],
   "source": [
    "def compare(tokenized_sentence1, tokenized_sentence2, list_of_vector_position):\n",
    "    # index 0 = sentence 1\n",
    "    # index 1 = sentence 2\n",
    "    compareFrom = tokenized_sentence1\n",
    "    compareTo = tokenized_sentence2\n",
    "    compareFrom_vector = 0 #list_of_vector_position[0]\n",
    "    compareTo_vector = 1 #list_of_vector_position[1]\n",
    "    if (len(tokenized_sentence1) < len(tokenized_sentence2)):\n",
    "        compareFrom = tokenized_sentence2\n",
    "        compareTo = tokenized_sentence1\n",
    "        compareFrom_vector = 1 # list_of_vector_position[1]\n",
    "        compareTo_vector = 0 # list_of_vector_position[0]\n",
    "    \n",
    "    index_of_most_similar = 0 # j\n",
    "    distance_of_most_similar = 10000\n",
    "    \n",
    "    results = []\n",
    "    \n",
    "    for i in range( len(list_of_vector_position[compareFrom_vector]) ):\n",
    "        for j in range( len(list_of_vector_position[compareTo_vector]) ):\n",
    "            current_distance = euclidean_distance(list_of_vector_position[compareFrom_vector][i], list_of_vector_position[compareTo_vector][j])\n",
    "            \n",
    "            if(distance_of_most_similar > current_distance):\n",
    "                index_of_most_similar = j\n",
    "                distance_of_most_similar = current_distance\n",
    "                \n",
    "        results.append( [compareFrom[i], compareTo[index_of_most_similar], distance_of_most_similar] )\n",
    "        index_of_most_similar = 0\n",
    "        distance_of_most_similar = 10000\n",
    "        \n",
    "    return results\n",
    "    \n",
    "    \n",
    "print(\"Done!\")"
   ]
  },
  {
   "cell_type": "code",
   "execution_count": 8,
   "metadata": {},
   "outputs": [
    {
     "name": "stdout",
     "output_type": "stream",
     "text": [
      "[['school', 'school'], ['supply', 'supply'], ['set', 'school'], ['kit', 'equipment']]\n"
     ]
    }
   ],
   "source": [
    "results = compare(sentence_1_tokenized, sentence_2_tokenized, list1)\n",
    "\n",
    "def removeDistanceScore(list_results):\n",
    "    newList = []\n",
    "    for list in list_results:\n",
    "        newList.append(list[:-1])\n",
    "    return newList\n",
    "results_NoScore = removeDistanceScore(results)\n",
    "print(results_NoScore)"
   ]
  },
  {
   "cell_type": "code",
   "execution_count": 9,
   "metadata": {},
   "outputs": [],
   "source": [
    "def compareResults(sentence_1_normalized, sentence_2_normailzed):\n",
    "    # tokenize normalized sentences\n",
    "    s1_t = tokenize_sentence(sentence_1_normalized) # tokenize sentence 1\n",
    "    s2_t = tokenize_sentence(sentence_2_normailzed) # tokenize sentence 2\n",
    "\n",
    "    list1_final = list_vectorPosition(s1_t, s2_t) # list with vector positions of every word in both sentences\n",
    "    \n",
    "    results_Final = compare(s1_t, s2_t, list1_final) # return list with nearest neighbors and distance score\n",
    "    \n",
    "    results__final_NoScore = removeDistanceScore(results_Final) # remove score list from results\n",
    "    \n",
    "    return results__final_NoScore"
   ]
  },
  {
   "cell_type": "code",
   "execution_count": 10,
   "metadata": {},
   "outputs": [],
   "source": [
    "# load our UNSPSC from our manual comparisons\n",
    "import pandas as pd\n",
    "\n",
    "unspsc_column = 1\n",
    "\n",
    "unspsc = pd.read_excel('Result6.xlsx',sheet_name='31').iloc[:,0]\n",
    "ecomm = pd.read_excel('../NewProject/NormalizedEcomm.xlsx',sheet_name='COMM_ITM').iloc[:,7]"
   ]
  },
  {
   "cell_type": "code",
   "execution_count": 11,
   "metadata": {},
   "outputs": [
    {
     "name": "stdout",
     "output_type": "stream",
     "text": [
      "heating elements electric\n",
      "----------------------------------------------------\n"
     ]
    },
    {
     "ename": "KeyError",
     "evalue": "\"word 'lwd' not in vocabulary\"",
     "output_type": "error",
     "traceback": [
      "\u001b[1;31m---------------------------------------------------------------------------\u001b[0m",
      "\u001b[1;31mKeyError\u001b[0m                                  Traceback (most recent call last)",
      "\u001b[1;32m<ipython-input-11-8a21f6e99553>\u001b[0m in \u001b[0;36m<module>\u001b[1;34m\u001b[0m\n\u001b[0;32m     11\u001b[0m     \u001b[1;32mreturn\u001b[0m \u001b[0mlist_t\u001b[0m\u001b[1;33m\u001b[0m\u001b[1;33m\u001b[0m\u001b[0m\n\u001b[0;32m     12\u001b[0m \u001b[1;33m\u001b[0m\u001b[0m\n\u001b[1;32m---> 13\u001b[1;33m \u001b[0msim_percentage1\u001b[0m \u001b[1;33m=\u001b[0m \u001b[0mpercentage_similarity\u001b[0m\u001b[1;33m(\u001b[0m\u001b[0meCOMM_Line\u001b[0m\u001b[1;33m,\u001b[0m \u001b[0munspsc\u001b[0m\u001b[1;33m)\u001b[0m\u001b[1;33m\u001b[0m\u001b[1;33m\u001b[0m\u001b[0m\n\u001b[0m\u001b[0;32m     14\u001b[0m \u001b[0mlistToAscendingOrder\u001b[0m\u001b[1;33m(\u001b[0m\u001b[0msim_percentage1\u001b[0m\u001b[1;33m)\u001b[0m\u001b[1;33m\u001b[0m\u001b[1;33m\u001b[0m\u001b[0m\n\u001b[0;32m     15\u001b[0m \u001b[1;33m\u001b[0m\u001b[0m\n",
      "\u001b[1;32m<ipython-input-11-8a21f6e99553>\u001b[0m in \u001b[0;36mpercentage_similarity\u001b[1;34m(eCOMM_line_, unspsc_)\u001b[0m\n\u001b[0;32m      6\u001b[0m     \u001b[1;32mfor\u001b[0m \u001b[0mi\u001b[0m \u001b[1;32min\u001b[0m \u001b[0mrange\u001b[0m\u001b[1;33m(\u001b[0m \u001b[0mlen\u001b[0m\u001b[1;33m(\u001b[0m\u001b[0munspsc_\u001b[0m\u001b[1;33m)\u001b[0m\u001b[1;33m)\u001b[0m\u001b[1;33m:\u001b[0m\u001b[1;33m\u001b[0m\u001b[1;33m\u001b[0m\u001b[0m\n\u001b[0;32m      7\u001b[0m         \u001b[1;31m#print(unspsc.iloc[i])\u001b[0m\u001b[1;33m\u001b[0m\u001b[1;33m\u001b[0m\u001b[1;33m\u001b[0m\u001b[0m\n\u001b[1;32m----> 8\u001b[1;33m         \u001b[0mcurrent_result\u001b[0m \u001b[1;33m=\u001b[0m \u001b[0mcompareResults\u001b[0m\u001b[1;33m(\u001b[0m\u001b[0meCOMM_line_\u001b[0m\u001b[1;33m,\u001b[0m \u001b[0munspsc_\u001b[0m\u001b[1;33m.\u001b[0m\u001b[0miloc\u001b[0m\u001b[1;33m[\u001b[0m\u001b[0mi\u001b[0m\u001b[1;33m]\u001b[0m\u001b[1;33m.\u001b[0m\u001b[0mlower\u001b[0m\u001b[1;33m(\u001b[0m\u001b[1;33m)\u001b[0m\u001b[1;33m)\u001b[0m \u001b[1;31m# compare a ecomm line to the current line from UNSPSC\u001b[0m\u001b[1;33m\u001b[0m\u001b[1;33m\u001b[0m\u001b[0m\n\u001b[0m\u001b[0;32m      9\u001b[0m         \u001b[0mnewlist\u001b[0m \u001b[1;33m=\u001b[0m \u001b[1;33m[\u001b[0m\u001b[0munspsc_\u001b[0m\u001b[1;33m.\u001b[0m\u001b[0miloc\u001b[0m\u001b[1;33m[\u001b[0m\u001b[0mi\u001b[0m\u001b[1;33m]\u001b[0m\u001b[1;33m.\u001b[0m\u001b[0mlower\u001b[0m\u001b[1;33m(\u001b[0m\u001b[1;33m)\u001b[0m\u001b[1;33m,\u001b[0m \u001b[0mwordNet\u001b[0m\u001b[1;33m.\u001b[0m\u001b[0maverage_percentage\u001b[0m\u001b[1;33m(\u001b[0m\u001b[0mcurrent_result\u001b[0m\u001b[1;33m)\u001b[0m\u001b[1;33m]\u001b[0m\u001b[1;33m\u001b[0m\u001b[1;33m\u001b[0m\u001b[0m\n\u001b[0;32m     10\u001b[0m         \u001b[0mlist_t\u001b[0m\u001b[1;33m.\u001b[0m\u001b[0mappend\u001b[0m\u001b[1;33m(\u001b[0m \u001b[0mnewlist\u001b[0m \u001b[1;33m)\u001b[0m\u001b[1;33m\u001b[0m\u001b[1;33m\u001b[0m\u001b[0m\n",
      "\u001b[1;32m<ipython-input-9-753b1c373590>\u001b[0m in \u001b[0;36mcompareResults\u001b[1;34m(sentence_1_normalized, sentence_2_normailzed)\u001b[0m\n\u001b[0;32m      4\u001b[0m     \u001b[0ms2_t\u001b[0m \u001b[1;33m=\u001b[0m \u001b[0mtokenize_sentence\u001b[0m\u001b[1;33m(\u001b[0m\u001b[0msentence_2_normailzed\u001b[0m\u001b[1;33m)\u001b[0m \u001b[1;31m# tokenize sentence 2\u001b[0m\u001b[1;33m\u001b[0m\u001b[1;33m\u001b[0m\u001b[0m\n\u001b[0;32m      5\u001b[0m \u001b[1;33m\u001b[0m\u001b[0m\n\u001b[1;32m----> 6\u001b[1;33m     \u001b[0mlist1_final\u001b[0m \u001b[1;33m=\u001b[0m \u001b[0mlist_vectorPosition\u001b[0m\u001b[1;33m(\u001b[0m\u001b[0ms1_t\u001b[0m\u001b[1;33m,\u001b[0m \u001b[0ms2_t\u001b[0m\u001b[1;33m)\u001b[0m \u001b[1;31m# list with vector positions of every word in both sentences\u001b[0m\u001b[1;33m\u001b[0m\u001b[1;33m\u001b[0m\u001b[0m\n\u001b[0m\u001b[0;32m      7\u001b[0m \u001b[1;33m\u001b[0m\u001b[0m\n\u001b[0;32m      8\u001b[0m     \u001b[0mresults_Final\u001b[0m \u001b[1;33m=\u001b[0m \u001b[0mcompare\u001b[0m\u001b[1;33m(\u001b[0m\u001b[0ms1_t\u001b[0m\u001b[1;33m,\u001b[0m \u001b[0ms2_t\u001b[0m\u001b[1;33m,\u001b[0m \u001b[0mlist1_final\u001b[0m\u001b[1;33m)\u001b[0m \u001b[1;31m# return list with nearest neighbors and distance score\u001b[0m\u001b[1;33m\u001b[0m\u001b[1;33m\u001b[0m\u001b[0m\n",
      "\u001b[1;32m<ipython-input-6-04953c4cd23e>\u001b[0m in \u001b[0;36mlist_vectorPosition\u001b[1;34m(tokenized_sentence1, tokenized_sentence2)\u001b[0m\n\u001b[0;32m      6\u001b[0m     \u001b[1;31m# the vector position of every word in a sentece\u001b[0m\u001b[1;33m\u001b[0m\u001b[1;33m\u001b[0m\u001b[1;33m\u001b[0m\u001b[0m\n\u001b[0;32m      7\u001b[0m     \u001b[0msentence1_vector_position\u001b[0m \u001b[1;33m=\u001b[0m \u001b[0mword_embedding\u001b[0m\u001b[1;33m(\u001b[0m\u001b[0mtokenized_sentence1\u001b[0m\u001b[1;33m)\u001b[0m \u001b[1;31m# vector position for every word in sentence 1\u001b[0m\u001b[1;33m\u001b[0m\u001b[1;33m\u001b[0m\u001b[0m\n\u001b[1;32m----> 8\u001b[1;33m     \u001b[0msentence2_vector_position\u001b[0m \u001b[1;33m=\u001b[0m \u001b[0mword_embedding\u001b[0m\u001b[1;33m(\u001b[0m\u001b[0mtokenized_sentence2\u001b[0m\u001b[1;33m)\u001b[0m \u001b[1;31m# vector position for every word in sentence 1\u001b[0m\u001b[1;33m\u001b[0m\u001b[1;33m\u001b[0m\u001b[0m\n\u001b[0m\u001b[0;32m      9\u001b[0m     \u001b[0mlist1\u001b[0m\u001b[1;33m.\u001b[0m\u001b[0mappend\u001b[0m\u001b[1;33m(\u001b[0m\u001b[0msentence1_vector_position\u001b[0m\u001b[1;33m)\u001b[0m\u001b[1;33m\u001b[0m\u001b[1;33m\u001b[0m\u001b[0m\n\u001b[0;32m     10\u001b[0m     \u001b[0mlist1\u001b[0m\u001b[1;33m.\u001b[0m\u001b[0mappend\u001b[0m\u001b[1;33m(\u001b[0m\u001b[0msentence2_vector_position\u001b[0m\u001b[1;33m)\u001b[0m\u001b[1;33m\u001b[0m\u001b[1;33m\u001b[0m\u001b[0m\n",
      "\u001b[1;32m<ipython-input-5-71e82f7229ef>\u001b[0m in \u001b[0;36mword_embedding\u001b[1;34m(tokenized_sentence)\u001b[0m\n\u001b[0;32m      6\u001b[0m     \u001b[0mlist_wordembedding\u001b[0m \u001b[1;33m=\u001b[0m \u001b[1;33m[\u001b[0m\u001b[1;33m]\u001b[0m\u001b[1;33m\u001b[0m\u001b[1;33m\u001b[0m\u001b[0m\n\u001b[0;32m      7\u001b[0m     \u001b[1;32mfor\u001b[0m \u001b[0mtoken\u001b[0m \u001b[1;32min\u001b[0m \u001b[0mtokenized_sentence\u001b[0m\u001b[1;33m:\u001b[0m\u001b[1;33m\u001b[0m\u001b[1;33m\u001b[0m\u001b[0m\n\u001b[1;32m----> 8\u001b[1;33m         \u001b[0mlist_wordembedding\u001b[0m\u001b[1;33m.\u001b[0m\u001b[0mappend\u001b[0m\u001b[1;33m(\u001b[0m\u001b[0mmodel\u001b[0m\u001b[1;33m[\u001b[0m\u001b[0mtoken\u001b[0m\u001b[1;33m]\u001b[0m\u001b[1;33m)\u001b[0m\u001b[1;33m\u001b[0m\u001b[1;33m\u001b[0m\u001b[0m\n\u001b[0m\u001b[0;32m      9\u001b[0m     \u001b[1;32mreturn\u001b[0m \u001b[0mlist_wordembedding\u001b[0m\u001b[1;33m\u001b[0m\u001b[1;33m\u001b[0m\u001b[0m\n\u001b[0;32m     10\u001b[0m \u001b[1;33m\u001b[0m\u001b[0m\n",
      "\u001b[1;32m~\\Anaconda3\\lib\\site-packages\\gensim\\models\\keyedvectors.py\u001b[0m in \u001b[0;36m__getitem__\u001b[1;34m(self, entities)\u001b[0m\n\u001b[0;32m    351\u001b[0m         \u001b[1;32mif\u001b[0m \u001b[0misinstance\u001b[0m\u001b[1;33m(\u001b[0m\u001b[0mentities\u001b[0m\u001b[1;33m,\u001b[0m \u001b[0mstring_types\u001b[0m\u001b[1;33m)\u001b[0m\u001b[1;33m:\u001b[0m\u001b[1;33m\u001b[0m\u001b[1;33m\u001b[0m\u001b[0m\n\u001b[0;32m    352\u001b[0m             \u001b[1;31m# allow calls like trained_model['office'], as a shorthand for trained_model[['office']]\u001b[0m\u001b[1;33m\u001b[0m\u001b[1;33m\u001b[0m\u001b[1;33m\u001b[0m\u001b[0m\n\u001b[1;32m--> 353\u001b[1;33m             \u001b[1;32mreturn\u001b[0m \u001b[0mself\u001b[0m\u001b[1;33m.\u001b[0m\u001b[0mget_vector\u001b[0m\u001b[1;33m(\u001b[0m\u001b[0mentities\u001b[0m\u001b[1;33m)\u001b[0m\u001b[1;33m\u001b[0m\u001b[1;33m\u001b[0m\u001b[0m\n\u001b[0m\u001b[0;32m    354\u001b[0m \u001b[1;33m\u001b[0m\u001b[0m\n\u001b[0;32m    355\u001b[0m         \u001b[1;32mreturn\u001b[0m \u001b[0mvstack\u001b[0m\u001b[1;33m(\u001b[0m\u001b[1;33m[\u001b[0m\u001b[0mself\u001b[0m\u001b[1;33m.\u001b[0m\u001b[0mget_vector\u001b[0m\u001b[1;33m(\u001b[0m\u001b[0mentity\u001b[0m\u001b[1;33m)\u001b[0m \u001b[1;32mfor\u001b[0m \u001b[0mentity\u001b[0m \u001b[1;32min\u001b[0m \u001b[0mentities\u001b[0m\u001b[1;33m]\u001b[0m\u001b[1;33m)\u001b[0m\u001b[1;33m\u001b[0m\u001b[1;33m\u001b[0m\u001b[0m\n",
      "\u001b[1;32m~\\Anaconda3\\lib\\site-packages\\gensim\\models\\keyedvectors.py\u001b[0m in \u001b[0;36mget_vector\u001b[1;34m(self, word)\u001b[0m\n\u001b[0;32m    469\u001b[0m \u001b[1;33m\u001b[0m\u001b[0m\n\u001b[0;32m    470\u001b[0m     \u001b[1;32mdef\u001b[0m \u001b[0mget_vector\u001b[0m\u001b[1;33m(\u001b[0m\u001b[0mself\u001b[0m\u001b[1;33m,\u001b[0m \u001b[0mword\u001b[0m\u001b[1;33m)\u001b[0m\u001b[1;33m:\u001b[0m\u001b[1;33m\u001b[0m\u001b[1;33m\u001b[0m\u001b[0m\n\u001b[1;32m--> 471\u001b[1;33m         \u001b[1;32mreturn\u001b[0m \u001b[0mself\u001b[0m\u001b[1;33m.\u001b[0m\u001b[0mword_vec\u001b[0m\u001b[1;33m(\u001b[0m\u001b[0mword\u001b[0m\u001b[1;33m)\u001b[0m\u001b[1;33m\u001b[0m\u001b[1;33m\u001b[0m\u001b[0m\n\u001b[0m\u001b[0;32m    472\u001b[0m \u001b[1;33m\u001b[0m\u001b[0m\n\u001b[0;32m    473\u001b[0m     \u001b[1;32mdef\u001b[0m \u001b[0mwords_closer_than\u001b[0m\u001b[1;33m(\u001b[0m\u001b[0mself\u001b[0m\u001b[1;33m,\u001b[0m \u001b[0mw1\u001b[0m\u001b[1;33m,\u001b[0m \u001b[0mw2\u001b[0m\u001b[1;33m)\u001b[0m\u001b[1;33m:\u001b[0m\u001b[1;33m\u001b[0m\u001b[1;33m\u001b[0m\u001b[0m\n",
      "\u001b[1;32m~\\Anaconda3\\lib\\site-packages\\gensim\\models\\keyedvectors.py\u001b[0m in \u001b[0;36mword_vec\u001b[1;34m(self, word, use_norm)\u001b[0m\n\u001b[0;32m    466\u001b[0m             \u001b[1;32mreturn\u001b[0m \u001b[0mresult\u001b[0m\u001b[1;33m\u001b[0m\u001b[1;33m\u001b[0m\u001b[0m\n\u001b[0;32m    467\u001b[0m         \u001b[1;32melse\u001b[0m\u001b[1;33m:\u001b[0m\u001b[1;33m\u001b[0m\u001b[1;33m\u001b[0m\u001b[0m\n\u001b[1;32m--> 468\u001b[1;33m             \u001b[1;32mraise\u001b[0m \u001b[0mKeyError\u001b[0m\u001b[1;33m(\u001b[0m\u001b[1;34m\"word '%s' not in vocabulary\"\u001b[0m \u001b[1;33m%\u001b[0m \u001b[0mword\u001b[0m\u001b[1;33m)\u001b[0m\u001b[1;33m\u001b[0m\u001b[1;33m\u001b[0m\u001b[0m\n\u001b[0m\u001b[0;32m    469\u001b[0m \u001b[1;33m\u001b[0m\u001b[0m\n\u001b[0;32m    470\u001b[0m     \u001b[1;32mdef\u001b[0m \u001b[0mget_vector\u001b[0m\u001b[1;33m(\u001b[0m\u001b[0mself\u001b[0m\u001b[1;33m,\u001b[0m \u001b[0mword\u001b[0m\u001b[1;33m)\u001b[0m\u001b[1;33m:\u001b[0m\u001b[1;33m\u001b[0m\u001b[1;33m\u001b[0m\u001b[0m\n",
      "\u001b[1;31mKeyError\u001b[0m: \"word 'lwd' not in vocabulary\""
     ]
    }
   ],
   "source": [
    "eCOMM_Line = ecomm.iloc[4].lower()\n",
    "print(eCOMM_Line)\n",
    "print(\"----------------------------------------------------\")\n",
    "def percentage_similarity(eCOMM_line_, unspsc_):\n",
    "    list_t = []\n",
    "    for i in range( len(unspsc_)):\n",
    "        #print(unspsc.iloc[i])\n",
    "        current_result = compareResults(eCOMM_line_, unspsc_.iloc[i].lower()) # compare a ecomm line to the current line from UNSPSC\n",
    "        newlist = [unspsc_.iloc[i].lower(), wordNet.average_percentage(current_result)]\n",
    "        list_t.append( newlist )\n",
    "    return list_t \n",
    "    \n",
    "sim_percentage1 = percentage_similarity(eCOMM_Line, unspsc)\n",
    "listToAscendingOrder(sim_percentage1)\n",
    "\n",
    "printList(sim_percentage1)"
   ]
  },
  {
   "cell_type": "code",
   "execution_count": null,
   "metadata": {},
   "outputs": [],
   "source": [
    "eCOMM_Line1 = ecomm.iloc[6057].lower().replace(',','')\n",
    "print(eCOMM_Line1)\n",
    "print(\"--------------------------------------------\")\n",
    "sim_percentage2 = percentage_similarity(eCOMM_Line1, unspsc)\n",
    "listToAscendingOrder(sim_percentage2)\n",
    "printList(sim_percentage2)"
   ]
  },
  {
   "cell_type": "code",
   "execution_count": null,
   "metadata": {},
   "outputs": [],
   "source": []
  }
 ],
 "metadata": {
  "kernelspec": {
   "display_name": "Python 3",
   "language": "python",
   "name": "python3"
  },
  "language_info": {
   "codemirror_mode": {
    "name": "ipython",
    "version": 3
   },
   "file_extension": ".py",
   "mimetype": "text/x-python",
   "name": "python",
   "nbconvert_exporter": "python",
   "pygments_lexer": "ipython3",
   "version": "3.7.6"
  }
 },
 "nbformat": 4,
 "nbformat_minor": 4
}
