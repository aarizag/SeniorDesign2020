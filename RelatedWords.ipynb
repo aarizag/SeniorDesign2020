{
 "cells": [
  {
   "cell_type": "code",
   "execution_count": 1,
   "metadata": {
    "scrolled": true
   },
   "outputs": [
    {
     "name": "stdout",
     "output_type": "stream",
     "text": [
      "What word do you want to get another word for? hose\n",
      "415\n",
      "['tube', 'tubing', 'pipe', 'hosepipe', 'garden hose', 'water', 'sprinkler', 'nozzle', 'fluid', 'tights', 'hose down', 'radiator', 'water cannon', 'pipes', 'irrigate', 'casing', 'radiator hose', 'washer', 'faucet', 'suction', 'extinguisher', 'fire hose', 'panty', 'winch', 'cylinder', 'valve', 'hydraulic', 'water heater', 'hosiery', 'gas', 'uk', 'stocking', 'airline', 'footwear', 'britain', 'garment', 'sock', 'circle', 'hoses', 'u.k.', 'leotards', 'watercannon', 'boiler', 'screw', 'nylon', 'duct', 'pneumatic', 'conditioner', 'ballast', 'shovel', 'heater', 'piping', 'fitted', 'tubes', 'coils', 'pumps', 'pinion', 'mower', 'polyurethane', 'flashlight', 'toilet', 'rack', 'spray', 'plumbing', 'collapsible', 'windshield', 'plunger', 'dryer', 'tub', 'flue', 'rinse', 'radiators', 'culvert', 'steam', 'bucket', 'blades', 'razor', 'condenser', 'paddle', 'pump', 'septic', 'conveyor', 'wires', 'socket', 'paddles', 'rope', 'grate', 'lever', 'wash', 'lance', 'wheels', 'toothbrush', 'towel', 'sling', 'rails', 'buckets', 'washing', 'loading', 'drying', 'mattress', 'conduit', 'cylinders', 'dryers', 'scissors', 'washers', 'cuff', 'glue', 'chimney', 'ropes', 'pellet', 'blade', 'leaky', 'compressor', 'polyethylene', 'dart', 'crank', 'exchanger', 'socks', 'line', 'exhaust', 'shower', 'caterpillar', 'wiper', 'coolant', 'ventilation', 'racks', 'crate', 'machine', 'throat', 'laundry', 'stove', 'taps', 'gear', 'vacuum', 'pads', 'nozzles', 'underneath', 'nails', 'cleaning', 'cleaners', 'slung', 'dripping', 'stockings', 'chenille', 'scoop', 'dope', 'crt', 'jet', 'snitch', 'sleeve', 'whip', 'gut', 'muff', 'lifeline', 'pvc', 'channel', 'tip', 'drainpipe', 'rose', 'passage', 'hint', 'jose', 'united kingdom', 'united kingdom of great britain and northern ireland', 'air hose', 'great britain', 'diphtheria', 'rosewater', 'wolf', 'hydrant', 'jetter', 'blower', 'arrester', 'spile', 'solenoid', 'rammer', 'dishpan', 'wick', 'nylons', 'waterspout', 'rubber', 'puddle', 'waterlogged', 'boggy', 'groundwater', 'waterless', 'baseboard', 'high-pressure', 'aqueous', 'watery', 'rainwater', 'argyles', 'legwear', 'irrigation', 'whirlpool', 'skank', 'bluewater', 'waterpipe', 'waterworks', 'spout', 'sump', 'washout', 'wet', 'meltwater', 'shearwater', 'swamp', 'reservoir', 'waterborne', 'downpour', 'heads-up', 'tip-off', 'sprayer', 'downpipe', 'tailboard', 'stopcock', 'pipework', 'downspout', 'ductwork', 'nailer', 'towline', 'bailer', 'showerhead', 'deluge', 'waterer', 'soak', 'floodwater', 'watertight', 'watersoaked', 'waterbomb', 'rainstorm', 'waterjug', 'waterkeeper', 'flume', 'dewater', 'cross section', 'stockyard', 'watercoaster', 'waterlike', 'waterish', 'bathwater', 'flood', 'antiwater', 'overwater', 'poolwater', 'creekwater', 'torrent', 'sinkwater', 'waterward', 'ptfe', 'waterscape', 'polywater', 'bewater', 'limewater', 'gardener', 'waterbased', 'waterpot', 'watermaker', 'waterwheel', 'tributary', 'water garden', 'aquatic', 'wetten', 'pondwater', 'inundate', 'waterful', 'moisten', 'waterly', 'drainage', 'spurnwater', 'wetness', 'tailwater', 'stock', 'streamwater', 'horticulturist', 'ldpe', 'watermilfoil', 'tadpole', 'spittle', 'moisture', 'showery', 'waterweed', 'lota', 'antifreeze', 'brackishwater', 'eyewater', 'lakewater', 'watermanship', 'teflon', 'unwater', 'eyewatering', 'waterwort', 'waterstuff', 'waterdrop', 'highwater', 'lldpe', 'flatwater', 'waterlog', 'watermaster', 'waterworn', 'dishwater', 'semiwater', 'interflow', 'wateriness', 'boothose', 'waterplay', 'softwater', 'porewater', 'watershoot', 'corrivation', 'streamful', 'hydroelastic', 'limewash', 'boilover', 'streamless', 'sunbow', 'tobacco water', 'catchwater', \"jet d'eau\", 'bedew', 'washbowl', 'overwash', 'pantyhose', 'backwashing', 'waterage', 'waterbag', 'stockist', 'oceanwater', 'spray hose', 'liquid', 'water spout', 'fire extinguisher', 'exhaust pipe', 'hydraulic ram', 'air compressor', 'compressed air', 'bilge pump', 'posthole digger', 'immersion heater', 'flue pipe', 'extension cord', 'socket wrench', 'idler pulley', 'bristle brush', 'exhaust manifold', 'inlet manifold', 'hydraulic pump', 'bathe in', 'water bug', 'extinguish fire', 'spring water', 'air', 'put out fire', 'water balloon', 'tap water', 'sump pump', 'reflect image', 'rose water', 'thin paint', 'water can', 'ziment water', 'soft water', 'water resistant', 'grind water', 'heavy water', 'water gate', 'light water', 'water meter', 'water soluble', 'distil water', 'semi heavy water', 'water meadow', 'still water', 'rice water', 'water slide', 'water bomber', 'make it grow', 'water work', 'hot water heater', 'mineral water', 'hard water', 'clamp', 'tap', 'flange', 'front yard', 'methane rain', 'water frame', 'water down', 'crush ice', 'water flower', 'break water', 'river basin', 'cold water', 'water gauge', 'lash down', 'grow garden', 'steam condenser', 'pour down', 'whip down', 'pelt down', 'water doctor', 'ice crystal', 'fill glass', 'formation water', 'first water', 'water flag', 'bird bath', 'water repellent', 'rain cloud', 'above water', 'water vapor', 'water bottle', 'grow plant', 'water buffalo', 'stainless steel', 'rubber-hose cryptanalysis']\n"
     ]
    }
   ],
   "source": [
    "import requests\n",
    "from selenium import webdriver\n",
    "from bs4 import BeautifulSoup\n",
    "import pandas as pd\n",
    "\n",
    "choice = input(\"What word do you want to get another word for? \")\n",
    "\n",
    "words = [] #List to store rating of the product\n",
    "driver = webdriver.Chrome()\n",
    "driver.get(\"https://relatedwords.org/relatedto/\"+choice+\"\")\n",
    "\n",
    "content = driver.page_source\n",
    "soup = BeautifulSoup(content)\n",
    "a = soup.find('div', attrs={'class':'words'})\n",
    "\n",
    "for i in a.findAll('a',attrs = {'class':'item'}):\n",
    "    name = i.text\n",
    "    words.append(name)\n",
    "    \n",
    "driver.quit()\n",
    "\n",
    "print (len(words))\n",
    "print(words)\n",
    "\n"
   ]
  }
 ],
 "metadata": {
  "kernelspec": {
   "display_name": "Python 3",
   "language": "python",
   "name": "python3"
  },
  "language_info": {
   "codemirror_mode": {
    "name": "ipython",
    "version": 3
   },
   "file_extension": ".py",
   "mimetype": "text/x-python",
   "name": "python",
   "nbconvert_exporter": "python",
   "pygments_lexer": "ipython3",
<<<<<<< HEAD
   "version": "3.7.3"
=======
   "version": "3.7.4"
>>>>>>> 140a9ca52362ad6c509aa2039fdd21bbcbc46ca9
  }
 },
 "nbformat": 4,
 "nbformat_minor": 2
}
