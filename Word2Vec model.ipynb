{
 "cells": [
  {
   "cell_type": "code",
   "execution_count": 1,
   "metadata": {
    "scrolled": true
   },
   "outputs": [],
   "source": [
    "import gensim\n",
    "from xlrd import open_workbook\n",
    "import os\n",
    "from nltk.tokenize import word_tokenize, sent_tokenize\n",
    "import json\n",
    "import pandas as pd\n",
    "from nltk.corpus import stopwords\n",
    "\n",
    "import nltk\n",
    "import re\n",
    "from nltk.tokenize import word_tokenize, sent_tokenize\n",
    "from os import listdir, makedirs\n",
    "from os.path import isfile, join, exists\n",
    "import os\n",
    "from nltk.corpus import stopwords\n",
    "from xlrd import open_workbook\n",
    "import json\n",
    "from gensim import similarities\n",
    "import numpy as np"
   ]
  },
  {
   "cell_type": "code",
   "execution_count": 2,
   "metadata": {
    "scrolled": false
   },
   "outputs": [],
   "source": [
    "        \n",
    "unspec_df = pd.read_excel('ignore/UNSPSC English v220601 project.xlsx','Sheet1', index_col=None, na_values=['NA'])\n",
    "unspec = unspec_df.drop(['Family Definition','Family','Family Title','Segment Title','Segment Definition','Segment','Version','Key','Synonym','Acronym'],axis = 1)\n",
    "cols = ['Class Title','Class Definition']\n",
    "cols2 =['Commodity Title','Commodity Definition']\n",
    "unspec[\"class\"] = unspec[cols].apply(lambda row: ' '.join(row.values.astype(str)), axis=1)\n",
    "unspec[\"commodity\"] = unspec[cols2].apply(lambda row: ' '.join(row.values.astype(str)), axis=1)\n",
    "#unspec[\"commodity\"]=[row.replace(' ',',') for row in unspec[\"commodity\"]]\n",
    "#unspec[\"class\"]=[row.replace(' ',',') for row in unspec[\"class\"]]\n",
    "unspec2 = unspec.drop(['Class','Class Title','Class Definition','Commodity Title','Commodity Definition'],axis=1)\n",
    "unspec2=unspec2.rename(columns={\"Commodity\":\"level_1\"})\n",
    "nums = unspec2['level_1'].tolist()"
   ]
  },
  {
   "cell_type": "code",
   "execution_count": 3,
   "metadata": {},
   "outputs": [],
   "source": [
    "county_df = pd.read_excel('ignore/eCAPS_COMM_11072019.xlsx','COMM_CLS', index_col=None, na_values=['NA'])\n",
    "county_df2 = pd.read_excel('ignore/eCAPS_COMM_11072019.xlsx','COMM_ITM', index_col=None, na_values=['NA'])\n",
    "county_df.drop(['COMM_GP','COMM_DET','ACT_INACT_FL','NAICS_CD'],axis=1)\n",
    "county_df2.drop(['COMM_GP','COMM_DET','ACT_INACT_FL','NAICS_CD'],axis=1)\n",
    "countyresult = pd.merge(county_df,county_df2,on='COMM_CLS')\n",
    "cr = countyresult.drop(['DSCR_EXT_y','DSCR_EXT_DV_x','DSCR_EXT_x','COMM_DSCR_UP_x','COMM_CD_x','COMM_ITM_x','COMM_GP_x','COMM_DET_x','ACT_INACT_FL_x','NAICS_CD_x','COMM_DET_y','COMM_GP_y','COMM_DET_y','ACT_INACT_FL_y','NAICS_CD_y','COMM_DSCR_UP_y','DSCR_EXT_DV_y'],axis=1)\n",
    "cr2 = cr.rename(columns={\"KEYWD_x\":\"class\",\"KEYWD_y\":\"commodity\",\"COMM_CD_y\":\"level_1\"})\n",
    "#cr2[\"commodity\"]=[row.replace(' ',',') for row in cr2[\"commodity\"]]\n",
    "#cr2[\"class\"]=[row.replace(' ',',') for row in cr2[\"class\"]]\n"
   ]
  },
  {
   "cell_type": "code",
   "execution_count": 4,
   "metadata": {},
   "outputs": [],
   "source": [
    "\n",
    "df1= cr2[['class','commodity','level_1']]\n",
    "df2 = df1.append(unspec2,ignore_index=True,sort=False)\n"
   ]
  },
  {
   "cell_type": "code",
   "execution_count": 5,
   "metadata": {},
   "outputs": [
    {
     "data": {
      "text/html": [
       "<div>\n",
       "<style scoped>\n",
       "    .dataframe tbody tr th:only-of-type {\n",
       "        vertical-align: middle;\n",
       "    }\n",
       "\n",
       "    .dataframe tbody tr th {\n",
       "        vertical-align: top;\n",
       "    }\n",
       "\n",
       "    .dataframe thead th {\n",
       "        text-align: right;\n",
       "    }\n",
       "</style>\n",
       "<table border=\"1\" class=\"dataframe\">\n",
       "  <thead>\n",
       "    <tr style=\"text-align: right;\">\n",
       "      <th></th>\n",
       "      <th>class</th>\n",
       "      <th>commodity</th>\n",
       "      <th>level_1</th>\n",
       "    </tr>\n",
       "  </thead>\n",
       "  <tbody>\n",
       "    <tr>\n",
       "      <th>0</th>\n",
       "      <td>AIRCRAFT AND AIRPORT, EQUIPMENT, PARTS, AND SU...</td>\n",
       "      <td>RADIO-NAVIGATION-AIRCRAFT</td>\n",
       "      <td>3510</td>\n",
       "    </tr>\n",
       "    <tr>\n",
       "      <th>1</th>\n",
       "      <td>AIRCRAFT AND AIRPORT, EQUIPMENT, PARTS, AND SU...</td>\n",
       "      <td>RADAR-AIRCRAFT</td>\n",
       "      <td>3515</td>\n",
       "    </tr>\n",
       "    <tr>\n",
       "      <th>2</th>\n",
       "      <td>AIRCRAFT AND AIRPORT, EQUIPMENT, PARTS, AND SU...</td>\n",
       "      <td>AIRPLANES</td>\n",
       "      <td>3520</td>\n",
       "    </tr>\n",
       "    <tr>\n",
       "      <th>3</th>\n",
       "      <td>AIRCRAFT AND AIRPORT, EQUIPMENT, PARTS, AND SU...</td>\n",
       "      <td>AUTOMATIC PILOT SYSTEMS</td>\n",
       "      <td>3525</td>\n",
       "    </tr>\n",
       "    <tr>\n",
       "      <th>4</th>\n",
       "      <td>AIRCRAFT AND AIRPORT, EQUIPMENT, PARTS, AND SU...</td>\n",
       "      <td>BAGGAGE HANDLING EQUIPMENT AND PARTS</td>\n",
       "      <td>3526</td>\n",
       "    </tr>\n",
       "    <tr>\n",
       "      <th>5</th>\n",
       "      <td>AIRCRAFT AND AIRPORT, EQUIPMENT, PARTS, AND SU...</td>\n",
       "      <td>BEACONS, VISUAL AND RUNWAY LIGHTS</td>\n",
       "      <td>3527</td>\n",
       "    </tr>\n",
       "    <tr>\n",
       "      <th>6</th>\n",
       "      <td>AIRCRAFT AND AIRPORT, EQUIPMENT, PARTS, AND SU...</td>\n",
       "      <td>ENGINES AND PARTS-AIRPLANE</td>\n",
       "      <td>3530</td>\n",
       "    </tr>\n",
       "    <tr>\n",
       "      <th>7</th>\n",
       "      <td>AIRCRAFT AND AIRPORT, EQUIPMENT, PARTS, AND SU...</td>\n",
       "      <td>ENGINES AND PARTS, HELICOPTER</td>\n",
       "      <td>3535</td>\n",
       "    </tr>\n",
       "    <tr>\n",
       "      <th>8</th>\n",
       "      <td>AIRCRAFT AND AIRPORT, EQUIPMENT, PARTS, AND SU...</td>\n",
       "      <td>EQUIPMENT AND SUPPLIES, AIRPLANE</td>\n",
       "      <td>3540</td>\n",
       "    </tr>\n",
       "    <tr>\n",
       "      <th>9</th>\n",
       "      <td>AIRCRAFT AND AIRPORT, EQUIPMENT, PARTS, AND SU...</td>\n",
       "      <td>EQUIPMENT AND SUPPLIES, HELICOPTER</td>\n",
       "      <td>3545</td>\n",
       "    </tr>\n",
       "    <tr>\n",
       "      <th>10</th>\n",
       "      <td>AIRCRAFT AND AIRPORT, EQUIPMENT, PARTS, AND SU...</td>\n",
       "      <td>FLIGHT INSTRUMENTS: AIRSPEED, ALTIMETERS, ATTI...</td>\n",
       "      <td>3546</td>\n",
       "    </tr>\n",
       "    <tr>\n",
       "      <th>11</th>\n",
       "      <td>AIRCRAFT AND AIRPORT, EQUIPMENT, PARTS, AND SU...</td>\n",
       "      <td>FLIGHT SIMULATOR</td>\n",
       "      <td>3547</td>\n",
       "    </tr>\n",
       "    <tr>\n",
       "      <th>12</th>\n",
       "      <td>AIRCRAFT AND AIRPORT, EQUIPMENT, PARTS, AND SU...</td>\n",
       "      <td>GLIDERS</td>\n",
       "      <td>3548</td>\n",
       "    </tr>\n",
       "    <tr>\n",
       "      <th>13</th>\n",
       "      <td>AIRCRAFT AND AIRPORT, EQUIPMENT, PARTS, AND SU...</td>\n",
       "      <td>HELICOPTERS</td>\n",
       "      <td>3550</td>\n",
       "    </tr>\n",
       "    <tr>\n",
       "      <th>14</th>\n",
       "      <td>AIRCRAFT AND AIRPORT, EQUIPMENT, PARTS, AND SU...</td>\n",
       "      <td>INSTRUMENTS AND TESTERS, HELICOPTER</td>\n",
       "      <td>3565</td>\n",
       "    </tr>\n",
       "  </tbody>\n",
       "</table>\n",
       "</div>"
      ],
      "text/plain": [
       "                                                class  \\\n",
       "0   AIRCRAFT AND AIRPORT, EQUIPMENT, PARTS, AND SU...   \n",
       "1   AIRCRAFT AND AIRPORT, EQUIPMENT, PARTS, AND SU...   \n",
       "2   AIRCRAFT AND AIRPORT, EQUIPMENT, PARTS, AND SU...   \n",
       "3   AIRCRAFT AND AIRPORT, EQUIPMENT, PARTS, AND SU...   \n",
       "4   AIRCRAFT AND AIRPORT, EQUIPMENT, PARTS, AND SU...   \n",
       "5   AIRCRAFT AND AIRPORT, EQUIPMENT, PARTS, AND SU...   \n",
       "6   AIRCRAFT AND AIRPORT, EQUIPMENT, PARTS, AND SU...   \n",
       "7   AIRCRAFT AND AIRPORT, EQUIPMENT, PARTS, AND SU...   \n",
       "8   AIRCRAFT AND AIRPORT, EQUIPMENT, PARTS, AND SU...   \n",
       "9   AIRCRAFT AND AIRPORT, EQUIPMENT, PARTS, AND SU...   \n",
       "10  AIRCRAFT AND AIRPORT, EQUIPMENT, PARTS, AND SU...   \n",
       "11  AIRCRAFT AND AIRPORT, EQUIPMENT, PARTS, AND SU...   \n",
       "12  AIRCRAFT AND AIRPORT, EQUIPMENT, PARTS, AND SU...   \n",
       "13  AIRCRAFT AND AIRPORT, EQUIPMENT, PARTS, AND SU...   \n",
       "14  AIRCRAFT AND AIRPORT, EQUIPMENT, PARTS, AND SU...   \n",
       "\n",
       "                                            commodity level_1  \n",
       "0                           RADIO-NAVIGATION-AIRCRAFT    3510  \n",
       "1                                      RADAR-AIRCRAFT    3515  \n",
       "2                                           AIRPLANES    3520  \n",
       "3                             AUTOMATIC PILOT SYSTEMS    3525  \n",
       "4                BAGGAGE HANDLING EQUIPMENT AND PARTS    3526  \n",
       "5                   BEACONS, VISUAL AND RUNWAY LIGHTS    3527  \n",
       "6                          ENGINES AND PARTS-AIRPLANE    3530  \n",
       "7                       ENGINES AND PARTS, HELICOPTER    3535  \n",
       "8                    EQUIPMENT AND SUPPLIES, AIRPLANE    3540  \n",
       "9                  EQUIPMENT AND SUPPLIES, HELICOPTER    3545  \n",
       "10  FLIGHT INSTRUMENTS: AIRSPEED, ALTIMETERS, ATTI...    3546  \n",
       "11                                   FLIGHT SIMULATOR    3547  \n",
       "12                                            GLIDERS    3548  \n",
       "13                                        HELICOPTERS    3550  \n",
       "14                INSTRUMENTS AND TESTERS, HELICOPTER    3565  "
      ]
     },
     "execution_count": 5,
     "metadata": {},
     "output_type": "execute_result"
    }
   ],
   "source": [
    "df2.head(15)"
   ]
  },
  {
   "cell_type": "code",
   "execution_count": 6,
   "metadata": {},
   "outputs": [],
   "source": [
    "df9 = df2.apply(lambda x: ','.join(x.astype(str)),axis = 1)"
   ]
  },
  {
   "cell_type": "code",
   "execution_count": 7,
   "metadata": {},
   "outputs": [],
   "source": [
    "df_clean2 = pd.DataFrame({'clean':df9})"
   ]
  },
  {
   "cell_type": "code",
   "execution_count": 8,
   "metadata": {},
   "outputs": [
    {
     "data": {
      "text/html": [
       "<div>\n",
       "<style scoped>\n",
       "    .dataframe tbody tr th:only-of-type {\n",
       "        vertical-align: middle;\n",
       "    }\n",
       "\n",
       "    .dataframe tbody tr th {\n",
       "        vertical-align: top;\n",
       "    }\n",
       "\n",
       "    .dataframe thead th {\n",
       "        text-align: right;\n",
       "    }\n",
       "</style>\n",
       "<table border=\"1\" class=\"dataframe\">\n",
       "  <thead>\n",
       "    <tr style=\"text-align: right;\">\n",
       "      <th></th>\n",
       "      <th>clean</th>\n",
       "    </tr>\n",
       "  </thead>\n",
       "  <tbody>\n",
       "    <tr>\n",
       "      <th>0</th>\n",
       "      <td>AIRCRAFT AND AIRPORT, EQUIPMENT, PARTS, AND SU...</td>\n",
       "    </tr>\n",
       "    <tr>\n",
       "      <th>1</th>\n",
       "      <td>AIRCRAFT AND AIRPORT, EQUIPMENT, PARTS, AND SU...</td>\n",
       "    </tr>\n",
       "    <tr>\n",
       "      <th>2</th>\n",
       "      <td>AIRCRAFT AND AIRPORT, EQUIPMENT, PARTS, AND SU...</td>\n",
       "    </tr>\n",
       "    <tr>\n",
       "      <th>3</th>\n",
       "      <td>AIRCRAFT AND AIRPORT, EQUIPMENT, PARTS, AND SU...</td>\n",
       "    </tr>\n",
       "    <tr>\n",
       "      <th>4</th>\n",
       "      <td>AIRCRAFT AND AIRPORT, EQUIPMENT, PARTS, AND SU...</td>\n",
       "    </tr>\n",
       "  </tbody>\n",
       "</table>\n",
       "</div>"
      ],
      "text/plain": [
       "                                               clean\n",
       "0  AIRCRAFT AND AIRPORT, EQUIPMENT, PARTS, AND SU...\n",
       "1  AIRCRAFT AND AIRPORT, EQUIPMENT, PARTS, AND SU...\n",
       "2  AIRCRAFT AND AIRPORT, EQUIPMENT, PARTS, AND SU...\n",
       "3  AIRCRAFT AND AIRPORT, EQUIPMENT, PARTS, AND SU...\n",
       "4  AIRCRAFT AND AIRPORT, EQUIPMENT, PARTS, AND SU..."
      ]
     },
     "execution_count": 8,
     "metadata": {},
     "output_type": "execute_result"
    }
   ],
   "source": [
    "df_clean2.head()"
   ]
  },
  {
   "cell_type": "code",
   "execution_count": 9,
   "metadata": {},
   "outputs": [],
   "source": [
    "sent23 = [row.split(',') for row in df_clean2['clean']]"
   ]
  },
  {
   "cell_type": "code",
   "execution_count": 10,
   "metadata": {},
   "outputs": [
    {
     "name": "stdout",
     "output_type": "stream",
     "text": [
      "[['AIRCRAFT AND AIRPORT', ' EQUIPMENT', ' PARTS', ' AND SUPPLIES', 'RADIO-NAVIGATION-AIRCRAFT', '3510'], ['AIRCRAFT AND AIRPORT', ' EQUIPMENT', ' PARTS', ' AND SUPPLIES', 'RADAR-AIRCRAFT', '3515'], ['AIRCRAFT AND AIRPORT', ' EQUIPMENT', ' PARTS', ' AND SUPPLIES', 'AIRPLANES', '3520'], ['AIRCRAFT AND AIRPORT', ' EQUIPMENT', ' PARTS', ' AND SUPPLIES', 'AUTOMATIC PILOT SYSTEMS', '3525'], ['AIRCRAFT AND AIRPORT', ' EQUIPMENT', ' PARTS', ' AND SUPPLIES', 'BAGGAGE HANDLING EQUIPMENT AND PARTS', '3526']]\n"
     ]
    }
   ],
   "source": [
    "print(sent23[:5])"
   ]
  },
  {
   "cell_type": "code",
   "execution_count": 11,
   "metadata": {},
   "outputs": [
    {
     "name": "stdout",
     "output_type": "stream",
     "text": [
      "163115\n"
     ]
    }
   ],
   "source": [
    "print(len(sent23))"
   ]
  },
  {
   "cell_type": "code",
   "execution_count": 12,
   "metadata": {},
   "outputs": [],
   "source": [
    "model2 = gensim.models.word2vec.Word2Vec(sent23,min_count=1,size=300, workers=6, window= 4,cbow_mean=1)"
   ]
  },
  {
   "cell_type": "code",
   "execution_count": 13,
   "metadata": {},
   "outputs": [
    {
     "name": "stdout",
     "output_type": "stream",
     "text": [
      "466078\n"
     ]
    }
   ],
   "source": [
    "print(len(model2.wv.vocab))"
   ]
  },
  {
   "cell_type": "code",
   "execution_count": 14,
   "metadata": {
    "scrolled": true
   },
   "outputs": [
    {
     "data": {
      "text/plain": [
       "array([-2.80980999e-03,  1.31541258e-03, -1.72519800e-03,  3.51986685e-03,\n",
       "        4.36890405e-03,  2.85443943e-03,  6.72989758e-04, -1.47552625e-03,\n",
       "       -2.68949056e-03, -3.43843061e-03,  1.52570661e-03,  2.52473727e-03,\n",
       "        4.53344034e-03, -3.35490680e-03, -3.65078379e-03,  4.80535557e-04,\n",
       "       -4.79909009e-04, -4.08498629e-04,  9.17964848e-04, -2.01070891e-03,\n",
       "       -2.77642277e-03, -4.75544715e-04, -2.44910107e-03, -3.88924917e-03,\n",
       "        5.22434129e-04, -4.02551005e-03,  1.45596627e-03, -2.17442214e-03,\n",
       "        6.62889041e-04, -1.51107821e-03, -2.90205423e-03,  2.43105390e-03,\n",
       "        3.79093899e-03,  2.98959319e-03, -3.66297038e-03,  2.14953441e-03,\n",
       "        2.89493031e-03, -3.20550578e-04, -1.74015830e-03,  1.09569659e-03,\n",
       "       -8.24619900e-04, -1.98771781e-03, -1.30095263e-03, -5.07510267e-05,\n",
       "        8.23652590e-06,  2.35917838e-03,  3.17131239e-03,  1.06536679e-03,\n",
       "       -3.16652772e-03, -2.16776156e-04, -3.10744718e-03, -1.14115013e-03,\n",
       "        4.69409674e-03, -2.20302073e-03,  5.84781868e-03,  7.87768397e-04,\n",
       "        3.25970328e-03, -2.51803058e-03, -1.10776711e-03,  1.02694531e-03,\n",
       "        1.86733447e-03, -6.35579519e-04, -6.26792898e-04,  3.86137981e-03,\n",
       "        2.32153782e-03,  3.55964177e-04,  3.00988206e-03,  3.06181703e-03,\n",
       "        8.64912407e-04, -4.55687894e-03,  2.02013622e-03,  1.52464991e-03,\n",
       "        1.74013292e-03, -2.93367775e-03, -3.63654946e-03, -2.65523186e-03,\n",
       "        1.06675143e-03,  2.79862317e-04,  2.72958307e-03,  3.18380026e-03,\n",
       "        5.61700144e-04,  3.08350800e-03, -4.11722343e-03, -1.32011529e-03,\n",
       "        6.11605123e-04, -6.51086215e-03,  1.06438366e-03,  2.12011440e-03,\n",
       "       -9.19380866e-04,  4.70923260e-03,  2.72531994e-04,  1.70033396e-04,\n",
       "        1.49698998e-03,  1.64671219e-03, -2.84932787e-03,  3.07415193e-03,\n",
       "        1.29391474e-03, -9.48410656e-04,  2.98576709e-03,  7.63928459e-04,\n",
       "        1.38194428e-03, -2.37511517e-03, -1.84962142e-03, -3.95715330e-03,\n",
       "       -4.35736321e-04,  1.83217716e-03,  4.76450368e-04,  8.41782661e-04,\n",
       "       -1.42499711e-03,  1.82320003e-03, -7.22980709e-04,  7.85043696e-04,\n",
       "        2.46464461e-03,  1.65368989e-03,  2.90274760e-03, -2.50638259e-04,\n",
       "       -2.52420013e-03,  2.53031822e-03, -9.85587132e-04,  3.34667275e-03,\n",
       "       -1.01474125e-03, -1.70805526e-03, -2.62902211e-03,  5.50211291e-04,\n",
       "        4.15769126e-03, -5.22762421e-04, -3.82110593e-03,  1.95153663e-03,\n",
       "        2.26717326e-03, -1.81206095e-03,  3.71012511e-03,  6.76368130e-04,\n",
       "        1.45397149e-03, -4.41077352e-03, -9.40223632e-04,  2.04885006e-03,\n",
       "        2.76275934e-03,  1.85097824e-03, -1.81149680e-03, -2.76352838e-03,\n",
       "        7.68797938e-04, -3.90947025e-05, -2.57978623e-04, -8.64929752e-05,\n",
       "        6.17584083e-05,  3.41172679e-03,  2.13603466e-03,  2.87051243e-03,\n",
       "       -6.35797391e-04, -3.44561622e-03, -3.95783037e-03, -7.20599084e-04,\n",
       "        1.36487768e-03, -1.74541411e-03,  4.09041066e-04,  1.52858003e-04,\n",
       "        1.29217363e-03,  4.48029634e-04, -9.56135802e-04,  1.19082502e-03,\n",
       "        1.64847204e-03,  1.03937928e-05,  1.47885340e-03, -3.16859980e-04,\n",
       "        3.18295788e-03,  8.31981597e-04, -1.57773122e-03,  1.64566198e-04,\n",
       "       -2.03861087e-03, -2.99443491e-04,  1.14458366e-04, -2.14030850e-03,\n",
       "       -2.62903195e-04,  1.11692643e-03,  3.89786554e-03, -4.40494972e-04,\n",
       "        1.06841628e-03, -1.10714522e-03, -1.17403676e-03, -4.43887850e-03,\n",
       "        1.26093964e-03,  1.18964061e-03, -7.65125209e-04,  1.76604791e-03,\n",
       "       -1.22735789e-03,  6.55178330e-04, -2.22071912e-03,  7.09038111e-04,\n",
       "       -1.14267203e-03, -5.37920627e-04, -3.61348083e-03,  2.45913002e-03,\n",
       "        2.56287458e-04, -1.16960809e-03, -5.64666931e-04,  1.46739231e-03,\n",
       "        3.22723039e-03,  1.01818924e-03, -8.25753785e-04,  1.74779887e-03,\n",
       "       -3.08724958e-03,  3.32080922e-03, -4.04681871e-03, -2.31609750e-03,\n",
       "       -3.87413870e-03,  6.42465777e-04,  1.51907979e-03,  3.47227533e-03,\n",
       "        3.88017530e-03, -4.14961949e-03, -1.44325104e-03,  1.75955112e-03,\n",
       "       -4.39093960e-03,  1.30198733e-03,  4.24436992e-04, -4.29404085e-04,\n",
       "        1.76610448e-03, -1.21757295e-03, -8.06601776e-04,  2.44442234e-03,\n",
       "        7.09437416e-04,  2.93378835e-03, -1.39066030e-03,  1.32552581e-03,\n",
       "        8.04931333e-05, -1.84072612e-03, -3.99314100e-04, -2.27430789e-03,\n",
       "       -3.19809793e-03, -9.30396724e-04, -2.73932470e-03, -3.35731031e-03,\n",
       "       -2.29755719e-03,  2.40949937e-03, -5.01740142e-04,  2.88924621e-03,\n",
       "       -2.12519267e-03, -3.09809088e-03, -4.17306833e-03, -7.49170082e-04,\n",
       "       -2.24117027e-03, -1.52984634e-04, -3.97582492e-03, -2.71890289e-03,\n",
       "       -3.46191414e-03,  6.23434375e-04, -4.44493815e-03, -1.18446420e-03,\n",
       "       -9.20615974e-04,  1.61913352e-03,  2.10679066e-03,  1.79162121e-03,\n",
       "       -4.59257513e-03, -1.89351942e-03,  2.75402516e-03, -3.67076689e-04,\n",
       "        3.18712788e-04,  6.48615707e-04,  1.17560604e-03, -8.80094769e-04,\n",
       "       -2.32760227e-04, -6.72540627e-04, -3.88988527e-03, -4.25252458e-03,\n",
       "        1.41128455e-03,  1.88511098e-03,  3.12866503e-03,  3.39685520e-03,\n",
       "        3.27798957e-03, -1.78757054e-03, -1.60308194e-03,  1.55415165e-03,\n",
       "        4.83718095e-03, -1.39877154e-03,  4.81384806e-04, -2.41339486e-03,\n",
       "        3.12774838e-03, -2.38936208e-03,  1.77304400e-03,  1.04851183e-03,\n",
       "        2.66429968e-04, -3.89446667e-03,  4.00322257e-03,  7.13987101e-04,\n",
       "       -2.01911549e-03,  1.18735785e-04,  7.80298142e-05,  2.08111200e-03,\n",
       "        2.30025663e-03, -2.88709090e-03, -8.45987583e-04,  1.86852855e-03,\n",
       "        2.01580580e-03, -8.72723831e-05, -3.70554347e-03,  5.74253827e-05,\n",
       "        3.59260687e-03,  1.76770648e-03, -2.10914970e-03,  2.56894436e-03],\n",
       "      dtype=float32)"
      ]
     },
     "execution_count": 14,
     "metadata": {},
     "output_type": "execute_result"
    }
   ],
   "source": [
    "model2.wv.__getitem__('39101601')"
   ]
  },
  {
   "cell_type": "code",
   "execution_count": 23,
   "metadata": {
    "scrolled": false
   },
   "outputs": [
    {
     "name": "stdout",
     "output_type": "stream",
     "text": [
      "35863\n"
     ]
    }
   ],
   "source": [
    "def NumberofDocs(li,nums):\n",
    "    shortlist=[]\n",
    "    for i in li:\n",
    "        if(i!='nan'):\n",
    "            point = model2.wv.similarity(str(i),nums)\n",
    "            if(point>.9000001):\n",
    "                shortlist.append(i) \n",
    "    \n",
    "    return shortlist\n",
    "\n",
    "result =NumberofDocs(nums,'4045') \n",
    "print(len(result))\n"
   ]
  },
  {
   "cell_type": "code",
   "execution_count": 22,
   "metadata": {},
   "outputs": [
    {
     "name": "stdout",
     "output_type": "stream",
     "text": [
      "0\n",
      "[]\n"
     ]
    }
   ],
   "source": [
    "result2 =NumberofDocs(nums,'3526') \n",
    "print(len(result2))\n",
    "print(result2)"
   ]
  },
  {
   "cell_type": "code",
   "execution_count": 17,
   "metadata": {},
   "outputs": [
    {
     "data": {
      "text/plain": [
       "0.71096516"
      ]
     },
     "execution_count": 17,
     "metadata": {},
     "output_type": "execute_result"
    }
   ],
   "source": [
    "model2.wv.similarity('39101601','39101603')"
   ]
  },
  {
   "cell_type": "code",
   "execution_count": 18,
   "metadata": {},
   "outputs": [
    {
     "data": {
      "text/plain": [
       "0.74658716"
      ]
     },
     "execution_count": 18,
     "metadata": {},
     "output_type": "execute_result"
    }
   ],
   "source": [
    "model2.wv.similarity('10101708','4045')"
   ]
  },
  {
   "cell_type": "code",
   "execution_count": 19,
   "metadata": {
    "scrolled": true
   },
   "outputs": [
    {
     "data": {
      "text/plain": [
       "[('Seam gauge nan', 0.8256432414054871),\n",
       " ('Window screens nan', 0.8251415491104126),\n",
       " ('Green leaf lettuce purees The variety of lettuce known as green leaf lettuce which have been pureed.',\n",
       "  0.8248039484024048),\n",
       " ('85671503', 0.8246505260467529),\n",
       " ('Frozen organic papayas Succulent yellow fruit of a large plant (carica papaya) of the family caricaceae that is considered a tree',\n",
       "  0.8245862722396851),\n",
       " ('  via natural or artificial opening endoscopic This classification denotes the group of activities that yields a surgical intervention or procedure to revision of autologous tissue substitute in larynx',\n",
       "  0.8245682120323181),\n",
       " ('50445302', 0.8242932558059692),\n",
       " ('85632301', 0.8238834738731384),\n",
       " ('Canned or jarred organic chinese garlic stems The variety of organic garlic known as organic chinese garlic stems that has been canned or jarred for preservation.',\n",
       "  0.8237274885177612),\n",
       " ('Non GMO david sun peaches The variety of non GMO peaches known as non GMO david sun peaches. This means that they are\\xa0 produced without the use of methods that genetically modify organisms by means that are not possible under natural conditions. \\xa0 Such methods include cell fusion',\n",
       "  0.8236104249954224)]"
      ]
     },
     "execution_count": 19,
     "metadata": {},
     "output_type": "execute_result"
    }
   ],
   "source": [
    "model2.wv.most_similar('3105')[:15]"
   ]
  },
  {
   "cell_type": "code",
   "execution_count": 20,
   "metadata": {},
   "outputs": [
    {
     "data": {
      "text/plain": [
       "'\\nmodel2.wv.vocab\\nmodel2.save(\"W2V-Model\")\\n\\ntext = \"AIR CONDITIONING, HEATING, AND VENTILATING: EQUIPMENT, PARTS  HYDRONIC SPECIALTIES\"\\nidt =[\\'101\\'] \\ntext = text.lower()\\nnewEntry = []\\nnewEn =[]\\nstop_words = set(stopwords.words(\\'english\\'))\\nch = [ \\'``\\',\\'``\\', \"\\'\\'\",\\',\\',\\'.\\',\\'\\\\n\\',\"\\'\",\";\",\":\",\"(\",\")\",\"-\",\"--\"]\\n\\n\\nWtest = word_tokenize(text)\\nWtest = [ j for j in Wtest if not j in ch ]\\nWtest = [w for w in Wtest if not w in stop_words]\\nnewEntry.append(Wtest)\\n\\ndef concatenate_list_data(list):\\n    result= \\'\\'\\n    for element in list:\\n        result += str(element+\" \")\\n    return result\\n\\nnewEntry[0] = concatenate_list_data(newEntry[0])\\nnewEntry += idt\\nnewEn.append(newEntry)\\nprint(newEn)\\n\\nnew_mod = gensim.models.Word2Vec.load(\"W2V-Model\")\\nnew_mod.build_vocab(newEn,update = True)\\nnew_mod.train(newEn,total_examples=1,epochs = 1)\\n\\nnew_mod.wv.similarity(\\'30121703.0\\',\\'101\\')\\nnew_mod.wv.most_similar_cosmul(\\'101\\')\\n\\nnew_mod.wv.similar_by_vector(\\'101\\')\\n\\n'"
      ]
     },
     "execution_count": 20,
     "metadata": {},
     "output_type": "execute_result"
    }
   ],
   "source": [
    "\"\"\"\n",
    "book = open_workbook('UNSPSC English v220601 project.xlsx')\n",
    "'''book = open_workbook('Unspec List2b.xlsx')'''\n",
    "'''To work on the UNSPSC sheet you need to change the values of 0 to 12 and 1 to\n",
    "16 in order to make the it work.'''\n",
    "dict_list = []\n",
    "sheet = book.sheet_by_index(0)\n",
    "# read header values into the list\n",
    "keys = [sheet.cell(0, col_index).value for col_index in range(sheet.ncols)]\n",
    "\n",
    "for row_index in range(1, sheet.nrows):\n",
    "    d = {keys[col_index]: sheet.cell(row_index, col_index).value\n",
    "         for col_index in range(sheet.ncols)}\n",
    "    dict_list.append(d)\n",
    "\n",
    "print(len(dict_list))\n",
    "    \n",
    "doclist =[]\n",
    "listOfEntry =[]\n",
    "entrylist = []\n",
    "df7 = pd.DataFrame()\n",
    "\n",
    "\n",
    "for entry in dict_list:\n",
    "    if(entry.get(\"Family\")==\"\"):\n",
    "        continue\n",
    "    elif(entry.get(\"Family\")!=\"\" and entry.get(\"Class\")==\"\"):\n",
    "        if(listOfEntry!=[]):\n",
    "            #print(listOfEntry)\n",
    "            doclist += entrylist\n",
    "            continue\n",
    "    elif(entry.get(\"Commodity\")==\"\"):\n",
    "        continue\n",
    "    else:\n",
    "        if(entry.get(\"Class Definition\")!=\"\"):\n",
    "            f = str(sent_tokenize(entry.get(\"Class Definition\").lower())).strip('[]').strip('\\'')\n",
    "            #print(f)\n",
    "        else:\n",
    "            f=str([\" \"]).strip('[]').strip('\\'')\n",
    "        e = str(sent_tokenize(entry.get(\"Class Title\").lower())).strip('[]').strip('\\'')\n",
    "        #print(e)\n",
    "        g = str(sent_tokenize(entry.get(\"Commodity Title\").lower())).strip('[]').strip('\\'')\n",
    "        #print(g)\n",
    "        if(entry.get(\"Commodity Definition\")!=\"\"):\n",
    "            h = str(sent_tokenize(entry.get(\"Commodity Definition\").lower())).strip('[]').strip('\\'')\n",
    "            #print(h)\n",
    "        else:\n",
    "            h = str([\" \"]).strip('[]').strip('\\'')\n",
    "        i=int(entry.get(\"Commodity\"))\n",
    "        df7 = df7.append({'class':e+f,'commodity':g+h,'level_1': i},ignore_index=True)\n",
    "        \n",
    "  \n",
    "        \n",
    "doclist.append(listOfEntry) \n",
    "\n",
    "print(\"done\")        \n",
    "\"\"\"\n",
    "\n",
    "\"\"\"\n",
    "model2.wv.vocab\n",
    "model2.save(\"W2V-Model\")\n",
    "\n",
    "text = \"AIR CONDITIONING, HEATING, AND VENTILATING: EQUIPMENT, PARTS  HYDRONIC SPECIALTIES\"\n",
    "idt =['101'] \n",
    "text = text.lower()\n",
    "newEntry = []\n",
    "newEn =[]\n",
    "stop_words = set(stopwords.words('english'))\n",
    "ch = [ '``','``', \"''\",',','.','\\\\n',\"'\",\";\",\":\",\"(\",\")\",\"-\",\"--\"]\n",
    "\n",
    "\n",
    "Wtest = word_tokenize(text)\n",
    "Wtest = [ j for j in Wtest if not j in ch ]\n",
    "Wtest = [w for w in Wtest if not w in stop_words]\n",
    "newEntry.append(Wtest)\n",
    "\n",
    "def concatenate_list_data(list):\n",
    "    result= ''\n",
    "    for element in list:\n",
    "        result += str(element+\" \")\n",
    "    return result\n",
    "\n",
    "newEntry[0] = concatenate_list_data(newEntry[0])\n",
    "newEntry += idt\n",
    "newEn.append(newEntry)\n",
    "print(newEn)\n",
    "\n",
    "new_mod = gensim.models.Word2Vec.load(\"W2V-Model\")\n",
    "new_mod.build_vocab(newEn,update = True)\n",
    "new_mod.train(newEn,total_examples=1,epochs = 1)\n",
    "\n",
    "new_mod.wv.similarity('30121703.0','101')\n",
    "new_mod.wv.most_similar_cosmul('101')\n",
    "\n",
    "new_mod.wv.similar_by_vector('101')\n",
    "\n",
    "\"\"\"\n"
   ]
  }
 ],
 "metadata": {
  "kernelspec": {
   "display_name": "Python 3",
   "language": "python",
   "name": "python3"
  },
  "language_info": {
   "codemirror_mode": {
    "name": "ipython",
    "version": 3
   },
   "file_extension": ".py",
   "mimetype": "text/x-python",
   "name": "python",
   "nbconvert_exporter": "python",
   "pygments_lexer": "ipython3",
   "version": "3.7.6"
  }
 },
 "nbformat": 4,
 "nbformat_minor": 2
}
