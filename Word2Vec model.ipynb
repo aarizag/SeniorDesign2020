{
 "cells": [
  {
   "cell_type": "code",
   "execution_count": 1,
   "metadata": {
    "scrolled": true
   },
   "outputs": [],
   "source": [
    "import gensim\n",
    "from xlrd import open_workbook\n",
    "import os\n",
    "from nltk.tokenize import word_tokenize, sent_tokenize\n",
    "import json\n",
    "import pandas as pd\n",
    "from nltk.corpus import stopwords\n",
    "\n",
    "import nltk\n",
    "import re\n",
    "from nltk.tokenize import word_tokenize, sent_tokenize\n",
    "from os import listdir, makedirs\n",
    "from os.path import isfile, join, exists\n",
    "import os\n",
    "from nltk.corpus import stopwords\n",
    "from xlrd import open_workbook\n",
    "import json\n",
    "from gensim import similarities\n",
    "import numpy as np"
   ]
  },
  {
   "cell_type": "code",
   "execution_count": 2,
   "metadata": {
    "scrolled": false
   },
   "outputs": [],
   "source": [
    "\"\"\"\n",
    "book = open_workbook('UNSPSC English v220601 project.xlsx')\n",
    "'''book = open_workbook('Unspec List2b.xlsx')'''\n",
    "'''To work on the UNSPSC sheet you need to change the values of 0 to 12 and 1 to\n",
    "16 in order to make the it work.'''\n",
    "dict_list = []\n",
    "sheet = book.sheet_by_index(0)\n",
    "# read header values into the list\n",
    "keys = [sheet.cell(0, col_index).value for col_index in range(sheet.ncols)]\n",
    "\n",
    "for row_index in range(1, sheet.nrows):\n",
    "    d = {keys[col_index]: sheet.cell(row_index, col_index).value\n",
    "         for col_index in range(sheet.ncols)}\n",
    "    dict_list.append(d)\n",
    "\n",
    "print(len(dict_list))\n",
    "    \n",
    "doclist =[]\n",
    "listOfEntry =[]\n",
    "entrylist = []\n",
    "df7 = pd.DataFrame()\n",
    "\n",
    "\n",
    "for entry in dict_list:\n",
    "    if(entry.get(\"Family\")==\"\"):\n",
    "        continue\n",
    "    elif(entry.get(\"Family\")!=\"\" and entry.get(\"Class\")==\"\"):\n",
    "        if(listOfEntry!=[]):\n",
    "            #print(listOfEntry)\n",
    "            doclist += entrylist\n",
    "            continue\n",
    "    elif(entry.get(\"Commodity\")==\"\"):\n",
    "        continue\n",
    "    else:\n",
    "        if(entry.get(\"Class Definition\")!=\"\"):\n",
    "            f = str(sent_tokenize(entry.get(\"Class Definition\").lower())).strip('[]').strip('\\'')\n",
    "            #print(f)\n",
    "        else:\n",
    "            f=str([\" \"]).strip('[]').strip('\\'')\n",
    "        e = str(sent_tokenize(entry.get(\"Class Title\").lower())).strip('[]').strip('\\'')\n",
    "        #print(e)\n",
    "        g = str(sent_tokenize(entry.get(\"Commodity Title\").lower())).strip('[]').strip('\\'')\n",
    "        #print(g)\n",
    "        if(entry.get(\"Commodity Definition\")!=\"\"):\n",
    "            h = str(sent_tokenize(entry.get(\"Commodity Definition\").lower())).strip('[]').strip('\\'')\n",
    "            #print(h)\n",
    "        else:\n",
    "            h = str([\" \"]).strip('[]').strip('\\'')\n",
    "        i=int(entry.get(\"Commodity\"))\n",
    "        df7 = df7.append({'class':e+f,'commodity':g+h,'level_1': i},ignore_index=True)\n",
    "        \n",
    "  \n",
    "        \n",
    "doclist.append(listOfEntry) \n",
    "\n",
    "print(\"done\")        \n",
    "\"\"\"        \n",
    "unspec_df = pd.read_excel('UNSPSC English v220601 project.xlsx','Sheet1', index_col=None, na_values=['NA'])\n",
    "unspec = unspec_df.drop(['Family Definition','Family','Family Title','Segment Title','Segment Definition','Segment','Version','Key','Synonym','Acronym'],axis = 1)\n",
    "cols = ['Class Title','Class Definition']\n",
    "cols2 =['Commodity Title','Commodity Definition']\n",
    "unspec[\"class\"] = unspec[cols].apply(lambda row: ' '.join(row.values.astype(str)), axis=1)\n",
    "unspec[\"commodity\"] = unspec[cols2].apply(lambda row: ' '.join(row.values.astype(str)), axis=1)\n",
    "unspec2 = unspec.drop(['Class','Class Title','Class Definition','Commodity Title','Commodity Definition'],axis=1)\n",
    "unspec2=unspec2.rename(columns={\"Commodity\":\"level_1\"})\n"
   ]
  },
  {
   "cell_type": "code",
   "execution_count": 3,
   "metadata": {},
   "outputs": [],
   "source": [
    "county_df = pd.read_excel('eCAPS_COMM_11072019.xlsx','COMM_CLS', index_col=None, na_values=['NA'])\n",
    "county_df2 = pd.read_excel('eCAPS_COMM_11072019.xlsx','COMM_ITM', index_col=None, na_values=['NA'])\n",
    "county_df.drop(['COMM_GP','COMM_DET','ACT_INACT_FL','NAICS_CD'],axis=1)\n",
    "county_df2.drop(['COMM_GP','COMM_DET','ACT_INACT_FL','NAICS_CD'],axis=1)\n",
    "countyresult = pd.merge(county_df,county_df2,on='COMM_CLS')\n",
    "cr = countyresult.drop(['DSCR_EXT_y','DSCR_EXT_DV_x','DSCR_EXT_x','COMM_DSCR_UP_x','COMM_CD_x','COMM_ITM_x','COMM_GP_x','COMM_DET_x','ACT_INACT_FL_x','NAICS_CD_x','COMM_DET_y','COMM_GP_y','COMM_DET_y','ACT_INACT_FL_y','NAICS_CD_y','COMM_DSCR_UP_y','DSCR_EXT_DV_y'],axis=1)\n",
    "cr2 = cr.rename(columns={\"KEYWD_x\":\"class\",\"KEYWD_y\":\"commodity\",\"COMM_CD_y\":\"level_1\"})\n"
   ]
  },
  {
   "cell_type": "code",
   "execution_count": 4,
   "metadata": {},
   "outputs": [],
   "source": [
    "\n",
    "df1= cr2[['class','commodity','level_1']]\n",
    "df2 = df1.append(unspec2,ignore_index=True,sort=False)\n"
   ]
  },
  {
   "cell_type": "code",
   "execution_count": 5,
   "metadata": {},
   "outputs": [
    {
     "data": {
      "text/html": [
       "<div>\n",
       "<style scoped>\n",
       "    .dataframe tbody tr th:only-of-type {\n",
       "        vertical-align: middle;\n",
       "    }\n",
       "\n",
       "    .dataframe tbody tr th {\n",
       "        vertical-align: top;\n",
       "    }\n",
       "\n",
       "    .dataframe thead th {\n",
       "        text-align: right;\n",
       "    }\n",
       "</style>\n",
       "<table border=\"1\" class=\"dataframe\">\n",
       "  <thead>\n",
       "    <tr style=\"text-align: right;\">\n",
       "      <th></th>\n",
       "      <th>class</th>\n",
       "      <th>commodity</th>\n",
       "      <th>level_1</th>\n",
       "    </tr>\n",
       "  </thead>\n",
       "  <tbody>\n",
       "    <tr>\n",
       "      <th>0</th>\n",
       "      <td>AIRCRAFT AND AIRPORT, EQUIPMENT, PARTS, AND SU...</td>\n",
       "      <td>RADIO-NAVIGATION-AIRCRAFT</td>\n",
       "      <td>3510</td>\n",
       "    </tr>\n",
       "    <tr>\n",
       "      <th>1</th>\n",
       "      <td>AIRCRAFT AND AIRPORT, EQUIPMENT, PARTS, AND SU...</td>\n",
       "      <td>RADAR-AIRCRAFT</td>\n",
       "      <td>3515</td>\n",
       "    </tr>\n",
       "    <tr>\n",
       "      <th>2</th>\n",
       "      <td>AIRCRAFT AND AIRPORT, EQUIPMENT, PARTS, AND SU...</td>\n",
       "      <td>AIRPLANES</td>\n",
       "      <td>3520</td>\n",
       "    </tr>\n",
       "    <tr>\n",
       "      <th>3</th>\n",
       "      <td>AIRCRAFT AND AIRPORT, EQUIPMENT, PARTS, AND SU...</td>\n",
       "      <td>AUTOMATIC PILOT SYSTEMS</td>\n",
       "      <td>3525</td>\n",
       "    </tr>\n",
       "    <tr>\n",
       "      <th>4</th>\n",
       "      <td>AIRCRAFT AND AIRPORT, EQUIPMENT, PARTS, AND SU...</td>\n",
       "      <td>BAGGAGE HANDLING EQUIPMENT AND PARTS</td>\n",
       "      <td>3526</td>\n",
       "    </tr>\n",
       "  </tbody>\n",
       "</table>\n",
       "</div>"
      ],
      "text/plain": [
       "                                               class  \\\n",
       "0  AIRCRAFT AND AIRPORT, EQUIPMENT, PARTS, AND SU...   \n",
       "1  AIRCRAFT AND AIRPORT, EQUIPMENT, PARTS, AND SU...   \n",
       "2  AIRCRAFT AND AIRPORT, EQUIPMENT, PARTS, AND SU...   \n",
       "3  AIRCRAFT AND AIRPORT, EQUIPMENT, PARTS, AND SU...   \n",
       "4  AIRCRAFT AND AIRPORT, EQUIPMENT, PARTS, AND SU...   \n",
       "\n",
       "                              commodity level_1  \n",
       "0             RADIO-NAVIGATION-AIRCRAFT    3510  \n",
       "1                        RADAR-AIRCRAFT    3515  \n",
       "2                             AIRPLANES    3520  \n",
       "3               AUTOMATIC PILOT SYSTEMS    3525  \n",
       "4  BAGGAGE HANDLING EQUIPMENT AND PARTS    3526  "
      ]
     },
     "execution_count": 5,
     "metadata": {},
     "output_type": "execute_result"
    }
   ],
   "source": [
    "df2.head()"
   ]
  },
  {
   "cell_type": "code",
   "execution_count": 6,
   "metadata": {},
   "outputs": [],
   "source": [
    "df9 = df2.apply(lambda x: ','.join(x.astype(str)),axis = 1)"
   ]
  },
  {
   "cell_type": "code",
   "execution_count": 7,
   "metadata": {},
   "outputs": [],
   "source": [
    "df_clean2 = pd.DataFrame({'clean':df9})"
   ]
  },
  {
   "cell_type": "code",
   "execution_count": 8,
   "metadata": {},
   "outputs": [],
   "source": [
    "sent23 = [row.split(',') for row in df_clean2['clean']]"
   ]
  },
  {
   "cell_type": "code",
   "execution_count": 9,
   "metadata": {},
   "outputs": [
    {
     "name": "stdout",
     "output_type": "stream",
     "text": [
      "163115\n"
     ]
    }
   ],
   "source": [
    "print(len(sent23))"
   ]
  },
  {
   "cell_type": "code",
   "execution_count": 10,
   "metadata": {},
   "outputs": [],
   "source": [
    "model2 = gensim.models.Word2Vec(sent23,min_count=1,size=300, workers=6, window= 5,sg=1)"
   ]
  },
  {
   "cell_type": "code",
   "execution_count": 11,
   "metadata": {},
   "outputs": [
    {
     "data": {
      "text/plain": [
       "array([-6.85129641e-03, -2.76205334e-04, -1.12283807e-02,  3.37327644e-03,\n",
       "        3.47680482e-03, -9.92406812e-03, -7.40479399e-03, -3.67545942e-03,\n",
       "       -9.20144934e-03,  8.66645202e-03,  9.77519993e-03, -1.56449601e-02,\n",
       "       -3.39640700e-03, -1.85167836e-03, -3.23084160e-03,  1.52392760e-02,\n",
       "       -6.99438853e-03,  6.38173660e-04,  6.86117588e-03, -3.25707806e-04,\n",
       "       -1.01559628e-02,  7.68182892e-03, -6.34609163e-03,  5.36206504e-03,\n",
       "       -1.48594929e-02,  5.11966925e-03, -7.74337503e-04, -1.26256084e-03,\n",
       "       -2.06868513e-03,  7.62484968e-03,  6.03216747e-03,  7.48218503e-03,\n",
       "        1.97902285e-02, -2.87198252e-03, -4.34847490e-04,  9.09088179e-03,\n",
       "       -1.13778724e-03,  2.79324631e-05, -1.28321617e-03, -2.59092194e-03,\n",
       "        4.11928204e-06, -9.27977730e-03,  1.10031534e-02, -5.05001005e-03,\n",
       "       -3.03095137e-03, -3.44610563e-03,  1.41873548e-03, -1.39590828e-02,\n",
       "        2.93532223e-03, -2.17752066e-03,  1.66607974e-03, -6.98467158e-03,\n",
       "        2.33955518e-03,  1.12742018e-02,  1.71249639e-02, -3.57564935e-03,\n",
       "       -9.71898343e-03,  1.01668593e-02, -2.57376372e-03,  1.60657230e-03,\n",
       "       -6.53013401e-03,  1.45475904e-03,  1.39634311e-02,  1.13511495e-02,\n",
       "       -8.94023106e-03, -5.45992632e-04, -3.89336515e-03,  5.77300321e-04,\n",
       "        9.23486426e-04,  1.98964728e-03,  1.33648878e-02,  2.05758191e-03,\n",
       "        1.11576756e-02,  1.99800190e-02, -2.02693930e-03, -4.82135266e-03,\n",
       "       -3.51482001e-03,  5.35319513e-03,  3.51807615e-03, -2.71259947e-03,\n",
       "       -7.73273269e-03,  5.27947862e-03,  8.12440366e-03,  4.06307494e-03,\n",
       "        3.65846860e-03,  7.55147962e-03, -1.22157233e-02, -9.87785030e-03,\n",
       "       -6.39914442e-03,  6.06473768e-03, -2.74178479e-03, -8.55804328e-03,\n",
       "       -1.51797170e-02, -3.51351197e-03, -1.16608087e-02, -3.31708277e-03,\n",
       "       -8.65470152e-03, -1.82859451e-02,  4.34249872e-03, -1.26778791e-02,\n",
       "        6.34371885e-04, -6.57175761e-03,  1.83583330e-03, -2.87671108e-03,\n",
       "       -1.71653018e-03, -2.01077876e-03, -5.93257975e-03,  4.77248151e-03,\n",
       "        9.18395875e-04,  9.03277751e-03,  1.19941905e-02,  6.34916360e-03,\n",
       "        3.28805903e-03, -8.31402466e-03,  7.73015944e-03, -2.17962707e-03,\n",
       "        4.85141436e-03, -6.88945409e-03, -1.25575508e-03, -2.93104397e-03,\n",
       "        3.48639418e-03, -1.28459313e-03,  5.20314788e-03,  9.53133125e-03,\n",
       "        1.43024493e-02,  4.92827641e-03,  6.95354398e-03, -1.19220670e-02,\n",
       "        5.17683104e-03, -1.34715931e-02,  3.39540746e-03,  1.44627667e-03,\n",
       "       -6.45544892e-03,  1.55591057e-03,  4.37658187e-03,  2.21082196e-03,\n",
       "       -8.15044157e-04, -5.14968624e-03,  1.66679942e-03, -2.88215606e-03,\n",
       "       -7.63046509e-03, -1.02498720e-03, -4.72852727e-03,  1.87475991e-03,\n",
       "        8.46943446e-03, -5.14280889e-03, -5.13608661e-03,  3.32692987e-03,\n",
       "        1.67237185e-02, -6.18733652e-03,  3.55417561e-03, -6.90281019e-03,\n",
       "       -5.58524067e-03,  1.30940750e-02,  2.11828249e-03,  3.70366010e-03,\n",
       "        1.31566264e-02, -4.95142350e-03, -1.22745391e-02,  7.84499850e-03,\n",
       "        9.17209871e-03,  7.87532981e-03,  1.03635555e-02, -1.51045350e-02,\n",
       "       -2.94114673e-03,  9.11216950e-04,  6.87786471e-03,  3.64965969e-03,\n",
       "        4.52663284e-04, -3.79554322e-03, -8.24485533e-03, -7.83360191e-03,\n",
       "       -2.67562782e-03,  1.00047328e-02,  6.92270277e-03, -4.60294425e-04,\n",
       "       -7.21233804e-03, -4.00450965e-03,  2.46512122e-03, -7.37743685e-03,\n",
       "       -8.60089902e-03, -1.76354460e-02,  7.21383328e-03,  6.96949428e-04,\n",
       "        7.79335806e-03,  1.09548103e-02, -2.70582456e-03, -1.28188757e-02,\n",
       "       -1.95073371e-04, -7.40046497e-04,  1.13289198e-02,  5.39092766e-03,\n",
       "        1.81371381e-03,  1.40333839e-03,  4.89557441e-03,  2.54401937e-03,\n",
       "       -7.53603992e-04,  1.92800176e-03,  6.70885947e-03,  1.54544581e-02,\n",
       "        3.20080575e-03,  1.10591473e-02,  1.51414750e-02, -1.16293854e-03,\n",
       "        8.66101682e-03, -5.38364146e-03,  2.11269967e-03,  1.69467796e-02,\n",
       "        3.33309500e-03, -1.33932792e-02,  9.92192328e-03, -9.52452980e-03,\n",
       "       -7.63488049e-03, -2.00552182e-04,  1.89337775e-03, -3.70215392e-04,\n",
       "       -5.06489479e-04, -4.32463689e-03,  9.26991366e-03, -4.21907986e-03,\n",
       "        8.69238982e-04, -9.80033632e-03, -7.15140661e-04, -1.41098164e-03,\n",
       "        3.34656145e-03, -1.27435699e-02,  6.85680518e-03,  8.94904509e-03,\n",
       "       -9.89008695e-03,  3.62394238e-03, -7.43879750e-03,  9.06689279e-03,\n",
       "       -1.17887007e-02,  7.34001165e-03, -4.31117648e-03,  5.29210456e-03,\n",
       "       -8.23359285e-03, -2.89443694e-03,  3.09197744e-03,  6.42892718e-03,\n",
       "       -3.24364984e-03, -4.65338212e-03,  3.58388852e-03,  7.02714256e-04,\n",
       "        9.68766958e-03,  4.44080099e-04,  1.71883181e-02, -6.53274124e-03,\n",
       "        6.80443831e-04, -1.54773460e-03,  3.13048065e-03, -1.17364554e-02,\n",
       "       -5.93808386e-03, -7.91569799e-03,  9.19329468e-03,  3.58706930e-05,\n",
       "       -7.80782569e-03,  7.71570113e-03, -5.44999307e-03, -5.83824469e-04,\n",
       "        8.29790719e-03,  8.64491041e-04,  1.46953331e-03,  2.33376119e-03,\n",
       "        5.21117030e-03, -4.87368088e-03, -3.16290231e-03, -7.83947203e-03,\n",
       "       -7.48505630e-03,  7.92307721e-04, -8.67297687e-03,  1.18203117e-02,\n",
       "        5.27987117e-03, -5.86632825e-03,  1.74679502e-03,  1.45336492e-02,\n",
       "       -1.07680922e-02, -3.76896933e-03, -8.28746520e-03, -3.56896175e-03,\n",
       "       -4.11210954e-03, -9.38159693e-03, -3.62170185e-03,  8.81566294e-03,\n",
       "        8.96125624e-04,  9.65378899e-03,  8.58860463e-03,  1.60196107e-02,\n",
       "       -4.03791573e-03,  6.73800986e-03, -1.27841914e-02,  2.63435673e-03,\n",
       "       -8.45328998e-03,  4.36071446e-03, -1.12972744e-02, -3.52064916e-03,\n",
       "       -3.50158871e-03,  3.07579478e-03,  1.15382401e-02, -1.30535907e-03],\n",
       "      dtype=float32)"
      ]
     },
     "execution_count": 11,
     "metadata": {},
     "output_type": "execute_result"
    }
   ],
   "source": [
    "model2.wv.__getitem__('39101601')"
   ]
  },
  {
   "cell_type": "code",
   "execution_count": null,
   "metadata": {},
   "outputs": [],
   "source": []
  },
  {
   "cell_type": "code",
   "execution_count": 12,
   "metadata": {},
   "outputs": [
    {
     "data": {
      "text/plain": [
       "0.8112489"
      ]
     },
     "execution_count": 12,
     "metadata": {},
     "output_type": "execute_result"
    }
   ],
   "source": [
    "model2.wv.similarity('39101601','39101603')"
   ]
  },
  {
   "cell_type": "code",
   "execution_count": 16,
   "metadata": {},
   "outputs": [
    {
     "data": {
      "text/plain": [
       "0.9365732"
      ]
     },
     "execution_count": 16,
     "metadata": {},
     "output_type": "execute_result"
    }
   ],
   "source": [
    "model2.wv.similarity('39101601','3105')"
   ]
  },
  {
   "cell_type": "code",
   "execution_count": 14,
   "metadata": {
    "scrolled": true
   },
   "outputs": [
    {
     "data": {
      "text/plain": [
       "[(' INDUSTRIAL TYPE', 0.9911402463912964),\n",
       " ('FILTERS AND FILTER MEDIA', 0.991096019744873),\n",
       " ('3109', 0.9903091192245483),\n",
       " (' VENTED AND UNVENTED) AND PARTS', 0.9901311993598938),\n",
       " (' AIR CONDITIONING: HERMETICALLY SEALED', 0.9899585843086243),\n",
       " (' COOLING TOWER WATER TREATMENT: PH', 0.9892481565475464),\n",
       " ('GRILLES', 0.988997757434845),\n",
       " ('AIR CONDITIONERS: CONTROLLED ENVIRONMENT (FOR COMPUTER ROOMS',\n",
       "  0.9889377355575562),\n",
       " (' AND PARTS AND ACCESSORIES NOT INDIVIDUALLY ITEMIZED)', 0.9889260530471802),\n",
       " ('FILTER COATING', 0.9889007806777954)]"
      ]
     },
     "execution_count": 14,
     "metadata": {},
     "output_type": "execute_result"
    }
   ],
   "source": [
    "model2.wv.most_similar('3105')[:15]"
   ]
  },
  {
   "cell_type": "code",
   "execution_count": 15,
   "metadata": {},
   "outputs": [
    {
     "data": {
      "text/plain": [
       "'\\nmodel2.wv.vocab\\nmodel2.save(\"W2V-Model\")\\n\\ntext = \"AIR CONDITIONING, HEATING, AND VENTILATING: EQUIPMENT, PARTS  HYDRONIC SPECIALTIES\"\\nidt =[\\'101\\'] \\ntext = text.lower()\\nnewEntry = []\\nnewEn =[]\\nstop_words = set(stopwords.words(\\'english\\'))\\nch = [ \\'``\\',\\'``\\', \"\\'\\'\",\\',\\',\\'.\\',\\'\\\\n\\',\"\\'\",\";\",\":\",\"(\",\")\",\"-\",\"--\"]\\n\\n\\nWtest = word_tokenize(text)\\nWtest = [ j for j in Wtest if not j in ch ]\\nWtest = [w for w in Wtest if not w in stop_words]\\nnewEntry.append(Wtest)\\n\\ndef concatenate_list_data(list):\\n    result= \\'\\'\\n    for element in list:\\n        result += str(element+\" \")\\n    return result\\n\\nnewEntry[0] = concatenate_list_data(newEntry[0])\\nnewEntry += idt\\nnewEn.append(newEntry)\\nprint(newEn)\\n\\nnew_mod = gensim.models.Word2Vec.load(\"W2V-Model\")\\nnew_mod.build_vocab(newEn,update = True)\\nnew_mod.train(newEn,total_examples=1,epochs = 1)\\n\\nnew_mod.wv.similarity(\\'30121703.0\\',\\'101\\')\\nnew_mod.wv.most_similar_cosmul(\\'101\\')\\n\\nnew_mod.wv.similar_by_vector(\\'101\\')\\n\\n'"
      ]
     },
     "execution_count": 15,
     "metadata": {},
     "output_type": "execute_result"
    }
   ],
   "source": [
    "\"\"\"\n",
    "model2.wv.vocab\n",
    "model2.save(\"W2V-Model\")\n",
    "\n",
    "text = \"AIR CONDITIONING, HEATING, AND VENTILATING: EQUIPMENT, PARTS  HYDRONIC SPECIALTIES\"\n",
    "idt =['101'] \n",
    "text = text.lower()\n",
    "newEntry = []\n",
    "newEn =[]\n",
    "stop_words = set(stopwords.words('english'))\n",
    "ch = [ '``','``', \"''\",',','.','\\\\n',\"'\",\";\",\":\",\"(\",\")\",\"-\",\"--\"]\n",
    "\n",
    "\n",
    "Wtest = word_tokenize(text)\n",
    "Wtest = [ j for j in Wtest if not j in ch ]\n",
    "Wtest = [w for w in Wtest if not w in stop_words]\n",
    "newEntry.append(Wtest)\n",
    "\n",
    "def concatenate_list_data(list):\n",
    "    result= ''\n",
    "    for element in list:\n",
    "        result += str(element+\" \")\n",
    "    return result\n",
    "\n",
    "newEntry[0] = concatenate_list_data(newEntry[0])\n",
    "newEntry += idt\n",
    "newEn.append(newEntry)\n",
    "print(newEn)\n",
    "\n",
    "new_mod = gensim.models.Word2Vec.load(\"W2V-Model\")\n",
    "new_mod.build_vocab(newEn,update = True)\n",
    "new_mod.train(newEn,total_examples=1,epochs = 1)\n",
    "\n",
    "new_mod.wv.similarity('30121703.0','101')\n",
    "new_mod.wv.most_similar_cosmul('101')\n",
    "\n",
    "new_mod.wv.similar_by_vector('101')\n",
    "\n",
    "\"\"\""
   ]
  }
 ],
 "metadata": {
  "kernelspec": {
   "display_name": "Python 3",
   "language": "python",
   "name": "python3"
  },
  "language_info": {
   "codemirror_mode": {
    "name": "ipython",
    "version": 3
   },
   "file_extension": ".py",
   "mimetype": "text/x-python",
   "name": "python",
   "nbconvert_exporter": "python",
   "pygments_lexer": "ipython3",
   "version": "3.7.3"
  }
 },
 "nbformat": 4,
 "nbformat_minor": 2
}
