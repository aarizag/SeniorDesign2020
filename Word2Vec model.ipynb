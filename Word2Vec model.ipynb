{
 "cells": [
  {
   "cell_type": "code",
   "execution_count": 1,
   "metadata": {
    "scrolled": true
   },
   "outputs": [],
   "source": [
    "import gensim\n",
    "from xlrd import open_workbook\n",
    "import os\n",
    "from nltk.tokenize import word_tokenize, sent_tokenize\n",
    "import json\n",
    "import pandas as pd\n",
    "from nltk.corpus import stopwords\n",
    "import pprint\n",
    "import nltk\n",
    "import re\n",
    "from os import listdir, makedirs\n",
    "from os.path import isfile, join, exists\n",
    "import os\n",
    "from nltk.corpus import stopwords\n",
    "from xlrd import open_workbook\n",
    "import json\n",
    "from gensim import similarities\n",
    "import numpy as np"
   ]
  },
  {
   "cell_type": "code",
   "execution_count": 2,
   "metadata": {
    "scrolled": false
   },
   "outputs": [],
   "source": [
<<<<<<< HEAD
    "       \n",
    "unspec_df = pd.read_excel('ignore/UNSPSC English v220601 project.xlsx','Sheet1', index_col=None, na_values=['NA'])\n",
    "unspec = unspec_df.drop(['Family Definition','Family','Family Title','Segment Title','Segment Definition','Segment','Version','Key','Synonym','Acronym'],axis = 1)\n",
    "cols = ['Class Title','Class Definition']\n",
    "cols2 =['Commodity Title','Commodity Definition']\n",
    "col3 = ['class','commodity']\n",
    "unspec[\"class\"] = unspec[cols].apply(lambda row: ','.join(row.values.astype(str)), axis=1)\n",
    "unspec[\"commodity\"] = unspec[cols2].apply(lambda row: ','.join(row.values.astype(str)), axis=1)\n",
    "unspec[\"combine\"]= unspec[col3].apply(lambda row: ', '.join(row.values.astype(str)),axis=1)\n",
    "unspec[\"combine\"]=[row.replace('nan','')for row in unspec[\"combine\"]]\n",
    "unspec2 = unspec.drop(['Class','Class Title','Class Definition','Commodity Title','Commodity Definition','class','commodity'],axis=1)\n",
=======
    "        \n",
    "unspec_df = pd.read_excel('ignore/UNSPSC English v220601 project.xlsx','Sheet1', index_col=None, na_values=['NA'])\n",
    "unspec = unspec_df.drop(['Family Definition','Family','Family Title','Segment Title','Segment Definition','Segment','Version','Key','Synonym','Acronym'],axis = 1)\n",
    "cols = ['Class Title','Commodity Title']\n",
    "\n",
    "unspec[\"combine\"] = unspec[cols].apply(lambda row: ' '.join(row.values.astype(str)), axis=1)\n",
    "#unspec[\"commodity\"] = unspec[cols2].apply(lambda row: ' '.join(row.values.astype(str)), axis=1)\n",
    "#unspec[\"commodity\"]=[row.replace(' ',',') for row in unspec[\"commodity\"]]\n",
    "#unspec[\"class\"]=[row.replace(' ',',') for row in unspec[\"class\"]]\n",
    "unspec2 = unspec.drop(['Class','Class Title','Class Definition','Commodity Title','Commodity Definition'],axis=1)\n",
>>>>>>> 15c60e2d947079db48599ec18e746ac1d2d87bbf
    "unspec2=unspec2.rename(columns={\"Commodity\":\"level_1\"})\n",
    "nums = unspec2['level_1'].tolist()"
   ]
  },
  {
   "cell_type": "code",
   "execution_count": 3,
   "metadata": {},
   "outputs": [],
   "source": [
    "county_df = pd.read_excel('ignore/eCAPS_COMM_11072019.xlsx','COMM_CLS', index_col=None, na_values=['NA'])\n",
    "county_df2 = pd.read_excel('ignore/eCAPS_COMM_11072019.xlsx','COMM_ITM', index_col=None, na_values=['NA'])\n",
    "county_df.drop(['COMM_GP','COMM_DET','ACT_INACT_FL','NAICS_CD'],axis=1)\n",
    "county_df2.drop(['COMM_GP','COMM_DET','ACT_INACT_FL','NAICS_CD'],axis=1)\n",
    "countyresult = pd.merge(county_df,county_df2,on='COMM_CLS')\n",
    "cr = countyresult.drop(['DSCR_EXT_y','DSCR_EXT_DV_x','DSCR_EXT_x','COMM_DSCR_UP_x','COMM_CD_x','COMM_ITM_x','COMM_GP_x','COMM_DET_x','ACT_INACT_FL_x','NAICS_CD_x','COMM_DET_y','COMM_GP_y','COMM_DET_y','ACT_INACT_FL_y','NAICS_CD_y','COMM_DSCR_UP_y','DSCR_EXT_DV_y'],axis=1)\n",
    "cr2 = cr.rename(columns={\"KEYWD_x\":\"class\",\"KEYWD_y\":\"commodity\",\"COMM_CD_y\":\"level_1\"})\n",
<<<<<<< HEAD
    "cr2[\"commodity\"]= [row.replace(' ',',')for row in cr2[\"commodity\"]]\n",
    "col4=[\"class\",\"commodity\"]\n",
    "cr2[\"combine\"]= cr2[col4].apply(lambda row: ', '.join(row.values.astype(str)),axis=1)\n"
=======
    "#cr2[\"commodity\"]=[row.replace(' ',',') for row in cr2[\"commodity\"]]\n",
    "#cr2[\"class\"]=[row.replace(' ',',') for row in cr2[\"class\"]]\n"
>>>>>>> 15c60e2d947079db48599ec18e746ac1d2d87bbf
   ]
  },
  {
   "cell_type": "code",
   "execution_count": 5,
   "metadata": {},
   "outputs": [],
   "source": [
    "cols4 = ['class','commodity']\n",
    "cr2[\"combine\"]= cr2[cols4].apply(lambda row:' '.join(row.values.astype(str)),axis=1)\n",
    "cr2[\"combine\"]=[row.replace(',','') for row in cr2['combine']]\n",
    "\n",
    "df1= cr2[['combine','level_1']]\n",
    "df2 = df1.append(unspec2,ignore_index=True,sort=False)\n"
   ]
  },
  {
   "cell_type": "code",
   "execution_count": 6,
   "metadata": {},
   "outputs": [
    {
     "data": {
      "text/html": [
       "<div>\n",
       "<style scoped>\n",
       "    .dataframe tbody tr th:only-of-type {\n",
       "        vertical-align: middle;\n",
       "    }\n",
       "\n",
       "    .dataframe tbody tr th {\n",
       "        vertical-align: top;\n",
       "    }\n",
       "\n",
       "    .dataframe thead th {\n",
       "        text-align: right;\n",
       "    }\n",
       "</style>\n",
       "<table border=\"1\" class=\"dataframe\">\n",
       "  <thead>\n",
       "    <tr style=\"text-align: right;\">\n",
       "      <th></th>\n",
       "      <th>combine</th>\n",
       "      <th>level_1</th>\n",
       "    </tr>\n",
       "  </thead>\n",
       "  <tbody>\n",
       "    <tr>\n",
       "      <th>0</th>\n",
<<<<<<< HEAD
       "      <td>AIRCRAFT AND AIRPORT, EQUIPMENT, PARTS, AND SU...</td>\n",
=======
       "      <td>AIRCRAFT AND AIRPORT EQUIPMENT PARTS AND SUPPL...</td>\n",
>>>>>>> 15c60e2d947079db48599ec18e746ac1d2d87bbf
       "      <td>3510</td>\n",
       "    </tr>\n",
       "    <tr>\n",
       "      <th>1</th>\n",
<<<<<<< HEAD
       "      <td>AIRCRAFT AND AIRPORT, EQUIPMENT, PARTS, AND SU...</td>\n",
=======
       "      <td>AIRCRAFT AND AIRPORT EQUIPMENT PARTS AND SUPPL...</td>\n",
>>>>>>> 15c60e2d947079db48599ec18e746ac1d2d87bbf
       "      <td>3515</td>\n",
       "    </tr>\n",
       "    <tr>\n",
       "      <th>2</th>\n",
<<<<<<< HEAD
       "      <td>AIRCRAFT AND AIRPORT, EQUIPMENT, PARTS, AND SU...</td>\n",
=======
       "      <td>AIRCRAFT AND AIRPORT EQUIPMENT PARTS AND SUPPL...</td>\n",
>>>>>>> 15c60e2d947079db48599ec18e746ac1d2d87bbf
       "      <td>3520</td>\n",
       "    </tr>\n",
       "    <tr>\n",
       "      <th>3</th>\n",
<<<<<<< HEAD
       "      <td>AIRCRAFT AND AIRPORT, EQUIPMENT, PARTS, AND SU...</td>\n",
=======
       "      <td>AIRCRAFT AND AIRPORT EQUIPMENT PARTS AND SUPPL...</td>\n",
>>>>>>> 15c60e2d947079db48599ec18e746ac1d2d87bbf
       "      <td>3525</td>\n",
       "    </tr>\n",
       "    <tr>\n",
       "      <th>4</th>\n",
<<<<<<< HEAD
       "      <td>AIRCRAFT AND AIRPORT, EQUIPMENT, PARTS, AND SU...</td>\n",
=======
       "      <td>AIRCRAFT AND AIRPORT EQUIPMENT PARTS AND SUPPL...</td>\n",
>>>>>>> 15c60e2d947079db48599ec18e746ac1d2d87bbf
       "      <td>3526</td>\n",
       "    </tr>\n",
       "    <tr>\n",
       "      <th>5</th>\n",
       "      <td>AIRCRAFT AND AIRPORT EQUIPMENT PARTS AND SUPPL...</td>\n",
       "      <td>3527</td>\n",
       "    </tr>\n",
       "    <tr>\n",
       "      <th>6</th>\n",
       "      <td>AIRCRAFT AND AIRPORT EQUIPMENT PARTS AND SUPPL...</td>\n",
       "      <td>3530</td>\n",
       "    </tr>\n",
       "    <tr>\n",
       "      <th>7</th>\n",
       "      <td>AIRCRAFT AND AIRPORT EQUIPMENT PARTS AND SUPPL...</td>\n",
       "      <td>3535</td>\n",
       "    </tr>\n",
       "    <tr>\n",
       "      <th>8</th>\n",
       "      <td>AIRCRAFT AND AIRPORT EQUIPMENT PARTS AND SUPPL...</td>\n",
       "      <td>3540</td>\n",
       "    </tr>\n",
       "    <tr>\n",
       "      <th>9</th>\n",
       "      <td>AIRCRAFT AND AIRPORT EQUIPMENT PARTS AND SUPPL...</td>\n",
       "      <td>3545</td>\n",
       "    </tr>\n",
       "    <tr>\n",
       "      <th>10</th>\n",
       "      <td>AIRCRAFT AND AIRPORT EQUIPMENT PARTS AND SUPPL...</td>\n",
       "      <td>3546</td>\n",
       "    </tr>\n",
       "    <tr>\n",
       "      <th>11</th>\n",
       "      <td>AIRCRAFT AND AIRPORT EQUIPMENT PARTS AND SUPPL...</td>\n",
       "      <td>3547</td>\n",
       "    </tr>\n",
       "    <tr>\n",
       "      <th>12</th>\n",
       "      <td>AIRCRAFT AND AIRPORT EQUIPMENT PARTS AND SUPPL...</td>\n",
       "      <td>3548</td>\n",
       "    </tr>\n",
       "    <tr>\n",
       "      <th>13</th>\n",
       "      <td>AIRCRAFT AND AIRPORT EQUIPMENT PARTS AND SUPPL...</td>\n",
       "      <td>3550</td>\n",
       "    </tr>\n",
       "    <tr>\n",
       "      <th>14</th>\n",
       "      <td>AIRCRAFT AND AIRPORT EQUIPMENT PARTS AND SUPPL...</td>\n",
       "      <td>3565</td>\n",
       "    </tr>\n",
       "  </tbody>\n",
       "</table>\n",
       "</div>"
      ],
      "text/plain": [
<<<<<<< HEAD
       "                                             combine level_1\n",
       "0  AIRCRAFT AND AIRPORT, EQUIPMENT, PARTS, AND SU...    3510\n",
       "1  AIRCRAFT AND AIRPORT, EQUIPMENT, PARTS, AND SU...    3515\n",
       "2  AIRCRAFT AND AIRPORT, EQUIPMENT, PARTS, AND SU...    3520\n",
       "3  AIRCRAFT AND AIRPORT, EQUIPMENT, PARTS, AND SU...    3525\n",
       "4  AIRCRAFT AND AIRPORT, EQUIPMENT, PARTS, AND SU...    3526"
=======
       "                                              combine level_1\n",
       "0   AIRCRAFT AND AIRPORT EQUIPMENT PARTS AND SUPPL...    3510\n",
       "1   AIRCRAFT AND AIRPORT EQUIPMENT PARTS AND SUPPL...    3515\n",
       "2   AIRCRAFT AND AIRPORT EQUIPMENT PARTS AND SUPPL...    3520\n",
       "3   AIRCRAFT AND AIRPORT EQUIPMENT PARTS AND SUPPL...    3525\n",
       "4   AIRCRAFT AND AIRPORT EQUIPMENT PARTS AND SUPPL...    3526\n",
       "5   AIRCRAFT AND AIRPORT EQUIPMENT PARTS AND SUPPL...    3527\n",
       "6   AIRCRAFT AND AIRPORT EQUIPMENT PARTS AND SUPPL...    3530\n",
       "7   AIRCRAFT AND AIRPORT EQUIPMENT PARTS AND SUPPL...    3535\n",
       "8   AIRCRAFT AND AIRPORT EQUIPMENT PARTS AND SUPPL...    3540\n",
       "9   AIRCRAFT AND AIRPORT EQUIPMENT PARTS AND SUPPL...    3545\n",
       "10  AIRCRAFT AND AIRPORT EQUIPMENT PARTS AND SUPPL...    3546\n",
       "11  AIRCRAFT AND AIRPORT EQUIPMENT PARTS AND SUPPL...    3547\n",
       "12  AIRCRAFT AND AIRPORT EQUIPMENT PARTS AND SUPPL...    3548\n",
       "13  AIRCRAFT AND AIRPORT EQUIPMENT PARTS AND SUPPL...    3550\n",
       "14  AIRCRAFT AND AIRPORT EQUIPMENT PARTS AND SUPPL...    3565"
>>>>>>> 15c60e2d947079db48599ec18e746ac1d2d87bbf
      ]
     },
     "execution_count": 6,
     "metadata": {},
     "output_type": "execute_result"
    }
   ],
   "source": [
    "df2.head(15)"
   ]
  },
  {
   "cell_type": "code",
   "execution_count": 7,
   "metadata": {},
   "outputs": [],
   "source": [
    "df9 = df2.apply(lambda x: ','.join(x.astype(str)),axis = 1)"
   ]
  },
  {
   "cell_type": "code",
   "execution_count": 8,
   "metadata": {},
   "outputs": [
    {
     "data": {
      "text/plain": [
       "0    AIRCRAFT AND AIRPORT, EQUIPMENT, PARTS, AND SU...\n",
       "1    AIRCRAFT AND AIRPORT, EQUIPMENT, PARTS, AND SU...\n",
       "2    AIRCRAFT AND AIRPORT, EQUIPMENT, PARTS, AND SU...\n",
       "3    AIRCRAFT AND AIRPORT, EQUIPMENT, PARTS, AND SU...\n",
       "4    AIRCRAFT AND AIRPORT, EQUIPMENT, PARTS, AND SU...\n",
       "dtype: object"
      ]
     },
     "execution_count": 7,
     "metadata": {},
     "output_type": "execute_result"
    }
   ],
   "source": [
    "df9.head()"
   ]
  },
  {
   "cell_type": "code",
   "execution_count": 9,
   "metadata": {},
   "outputs": [
    {
     "data": {
      "text/html": [
       "<div>\n",
       "<style scoped>\n",
       "    .dataframe tbody tr th:only-of-type {\n",
       "        vertical-align: middle;\n",
       "    }\n",
       "\n",
       "    .dataframe tbody tr th {\n",
       "        vertical-align: top;\n",
       "    }\n",
       "\n",
       "    .dataframe thead th {\n",
       "        text-align: right;\n",
       "    }\n",
       "</style>\n",
       "<table border=\"1\" class=\"dataframe\">\n",
       "  <thead>\n",
       "    <tr style=\"text-align: right;\">\n",
       "      <th></th>\n",
       "      <th>clean</th>\n",
       "    </tr>\n",
       "  </thead>\n",
       "  <tbody>\n",
       "    <tr>\n",
       "      <th>0</th>\n",
       "      <td>AIRCRAFT AND AIRPORT EQUIPMENT PARTS AND SUPPL...</td>\n",
       "    </tr>\n",
       "    <tr>\n",
       "      <th>1</th>\n",
       "      <td>AIRCRAFT AND AIRPORT EQUIPMENT PARTS AND SUPPL...</td>\n",
       "    </tr>\n",
       "    <tr>\n",
       "      <th>2</th>\n",
       "      <td>AIRCRAFT AND AIRPORT EQUIPMENT PARTS AND SUPPL...</td>\n",
       "    </tr>\n",
       "    <tr>\n",
       "      <th>3</th>\n",
       "      <td>AIRCRAFT AND AIRPORT EQUIPMENT PARTS AND SUPPL...</td>\n",
       "    </tr>\n",
       "    <tr>\n",
       "      <th>4</th>\n",
       "      <td>AIRCRAFT AND AIRPORT EQUIPMENT PARTS AND SUPPL...</td>\n",
       "    </tr>\n",
       "  </tbody>\n",
       "</table>\n",
       "</div>"
      ],
      "text/plain": [
       "                                               clean\n",
       "0  AIRCRAFT AND AIRPORT EQUIPMENT PARTS AND SUPPL...\n",
       "1  AIRCRAFT AND AIRPORT EQUIPMENT PARTS AND SUPPL...\n",
       "2  AIRCRAFT AND AIRPORT EQUIPMENT PARTS AND SUPPL...\n",
       "3  AIRCRAFT AND AIRPORT EQUIPMENT PARTS AND SUPPL...\n",
       "4  AIRCRAFT AND AIRPORT EQUIPMENT PARTS AND SUPPL..."
      ]
     },
     "execution_count": 9,
     "metadata": {},
     "output_type": "execute_result"
    }
   ],
   "source": [
    "df_clean2.head()"
   ]
  },
  {
   "cell_type": "code",
   "execution_count": 10,
   "metadata": {},
   "outputs": [],
   "source": [
<<<<<<< HEAD
    "df_clean2 = pd.DataFrame({'clean':df9})"
=======
    "df_clean2['clean'] = [row.replace(' ',',') for row in df_clean2['clean']]\n",
    "df_clean2['clean'] = [row.lower() for row in df_clean2['clean']]\n",
    "sent23 = [row.split(',') for row in df_clean2['clean']]\n"
>>>>>>> 15c60e2d947079db48599ec18e746ac1d2d87bbf
   ]
  },
  {
   "cell_type": "code",
<<<<<<< HEAD
   "execution_count": 9,
   "metadata": {
    "scrolled": true
   },
=======
   "execution_count": 11,
   "metadata": {},
   "outputs": [
    {
     "name": "stdout",
     "output_type": "stream",
     "text": [
      "[['aircraft', 'and', 'airport', 'equipment', 'parts', 'and', 'supplies', 'radio-navigation-aircraft', '3510'], ['aircraft', 'and', 'airport', 'equipment', 'parts', 'and', 'supplies', 'radar-aircraft', '3515'], ['aircraft', 'and', 'airport', 'equipment', 'parts', 'and', 'supplies', 'airplanes', '3520'], ['aircraft', 'and', 'airport', 'equipment', 'parts', 'and', 'supplies', 'automatic', 'pilot', 'systems', '3525'], ['aircraft', 'and', 'airport', 'equipment', 'parts', 'and', 'supplies', 'baggage', 'handling', 'equipment', 'and', 'parts', '3526']]\n"
     ]
    }
   ],
   "source": [
    "print(sent23[:5])"
   ]
  },
  {
   "cell_type": "code",
   "execution_count": 12,
   "metadata": {},
>>>>>>> 15c60e2d947079db48599ec18e746ac1d2d87bbf
   "outputs": [
    {
     "data": {
      "text/html": [
       "<div>\n",
       "<style scoped>\n",
       "    .dataframe tbody tr th:only-of-type {\n",
       "        vertical-align: middle;\n",
       "    }\n",
       "\n",
       "    .dataframe tbody tr th {\n",
       "        vertical-align: top;\n",
       "    }\n",
       "\n",
       "    .dataframe thead th {\n",
       "        text-align: right;\n",
       "    }\n",
       "</style>\n",
       "<table border=\"1\" class=\"dataframe\">\n",
       "  <thead>\n",
       "    <tr style=\"text-align: right;\">\n",
       "      <th></th>\n",
       "      <th>clean</th>\n",
       "    </tr>\n",
       "  </thead>\n",
       "  <tbody>\n",
       "    <tr>\n",
       "      <th>0</th>\n",
       "      <td>AIRCRAFT AND AIRPORT, EQUIPMENT, PARTS, AND SU...</td>\n",
       "    </tr>\n",
       "    <tr>\n",
       "      <th>1</th>\n",
       "      <td>AIRCRAFT AND AIRPORT, EQUIPMENT, PARTS, AND SU...</td>\n",
       "    </tr>\n",
       "    <tr>\n",
       "      <th>2</th>\n",
       "      <td>AIRCRAFT AND AIRPORT, EQUIPMENT, PARTS, AND SU...</td>\n",
       "    </tr>\n",
       "    <tr>\n",
       "      <th>3</th>\n",
       "      <td>AIRCRAFT AND AIRPORT, EQUIPMENT, PARTS, AND SU...</td>\n",
       "    </tr>\n",
       "    <tr>\n",
       "      <th>4</th>\n",
       "      <td>AIRCRAFT AND AIRPORT, EQUIPMENT, PARTS, AND SU...</td>\n",
       "    </tr>\n",
       "  </tbody>\n",
       "</table>\n",
       "</div>"
      ],
      "text/plain": [
       "                                               clean\n",
       "0  AIRCRAFT AND AIRPORT, EQUIPMENT, PARTS, AND SU...\n",
       "1  AIRCRAFT AND AIRPORT, EQUIPMENT, PARTS, AND SU...\n",
       "2  AIRCRAFT AND AIRPORT, EQUIPMENT, PARTS, AND SU...\n",
       "3  AIRCRAFT AND AIRPORT, EQUIPMENT, PARTS, AND SU...\n",
       "4  AIRCRAFT AND AIRPORT, EQUIPMENT, PARTS, AND SU..."
      ]
     },
     "execution_count": 9,
     "metadata": {},
     "output_type": "execute_result"
    }
   ],
   "source": [
    "df_clean2.head()"
   ]
  },
  {
   "cell_type": "code",
<<<<<<< HEAD
   "execution_count": 10,
   "metadata": {},
   "outputs": [],
   "source": [
    "sent23 = [row.split(',') for row in df_clean2['clean']]\n"
=======
   "execution_count": 13,
   "metadata": {},
   "outputs": [],
   "source": [
    "model2 = gensim.models.word2vec.Word2Vec(sent23,min_count=1,size=300, workers=6, window= 4,cbow_mean=1)"
   ]
  },
  {
   "cell_type": "code",
   "execution_count": 14,
   "metadata": {},
   "outputs": [
    {
     "name": "stdout",
     "output_type": "stream",
     "text": [
      "187813\n"
     ]
    }
   ],
   "source": [
    "print(len(model2.wv.vocab))"
>>>>>>> 15c60e2d947079db48599ec18e746ac1d2d87bbf
   ]
  },
  {
   "cell_type": "code",
<<<<<<< HEAD
   "execution_count": 11,
   "metadata": {},
   "outputs": [
    {
     "name": "stdout",
     "output_type": "stream",
     "text": [
      "[['Fresh cut amaranthuses', 'Fresh cut blooms of amaranthuses', ' Fresh cut upright green amaranthus', 'Fresh cut bloom of the upright green variety of amaranthus', '10311804'], ['Fresh cut amaranthuses', 'Fresh cut blooms of amaranthuses', ' Fresh cut upright red amaranthus', 'Fresh cut bloom of the upright red variety of amaranthus', '10311805'], ['Fresh cut amaryllises', 'Fresh cut blooms of amaryllises', ' ', '', 'nan'], ['Fresh cut amaryllises', 'Fresh cut blooms of amaryllises', ' Fresh cut naranja amaryllis', 'Fresh cut bloom of the naranja variety of amaryllises', '10311901'], ['Fresh cut amaryllises', 'Fresh cut blooms of amaryllises', ' Fresh cut orange nagano amaryllis', 'Fresh cut bloom of the orange nagano variety of amaryllises', '10311902'], ['Fresh cut amaryllises', 'Fresh cut blooms of amaryllises', ' Fresh cut pygmee mini amaryllis', 'Fresh cut bloom of the pygmee mini variety of amaryllises', '10311903'], ['Fresh cut amaryllises', 'Fresh cut blooms of amaryllises', ' Fresh cut red lion amaryllis', 'Fresh cut bloom of the red lion variety of amaryllises', '10311904'], ['Fresh cut amaryllises', 'Fresh cut blooms of amaryllises', ' Fresh cut rilona amaryllis', 'Fresh cut bloom of the rilona variety of amaryllises', '10311905'], ['Fresh cut amaryllises', 'Fresh cut blooms of amaryllises', ' Fresh cut royal velvet amaryllis', 'Fresh cut bloom of the royal velvet variety of amaryllises', '10311906'], ['Fresh cut amaryllises', 'Fresh cut blooms of amaryllises', ' Fresh cut sonatini orange amaryllis', 'Fresh cut bloom of the sonatini orange variety of amaryllises', '10311907'], ['Fresh cut amaryllises', 'Fresh cut blooms of amaryllises', ' Fresh cut sonatini red amaryllis', 'Fresh cut bloom of the sonatini red variety of amaryllises', '10311908'], ['Fresh cut amaryllises', 'Fresh cut blooms of amaryllises', ' Fresh cut tango amaryllis', 'Fresh cut bloom of the tango variety of amaryllises', '10311909'], ['Fresh cut amaryllises', 'Fresh cut blooms of amaryllises', ' Fresh cut tinto night amaryllis', 'Fresh cut bloom of the tinto night variety of amaryllises', '10311910']]\n"
     ]
=======
   "execution_count": 15,
   "metadata": {
    "scrolled": true
   },
   "outputs": [
    {
     "data": {
      "text/plain": [
       "array([-2.55968352e-03,  9.77216102e-03, -2.60031171e-04, -5.62213315e-03,\n",
       "        4.44196258e-03,  5.57307154e-03,  8.25643726e-03,  2.57271458e-05,\n",
       "       -3.98010667e-03, -1.40160033e-02,  6.70524593e-03,  2.36363243e-03,\n",
       "        9.25859131e-05, -9.08325333e-03, -1.09329373e-02, -2.13891244e-03,\n",
       "        1.75239006e-03,  6.08968502e-03, -2.29708129e-03,  3.75260622e-03,\n",
       "        2.93695042e-03, -7.79266469e-03, -9.17604379e-03,  8.87211133e-03,\n",
       "        9.45735723e-03, -2.84460559e-03,  4.35312139e-03, -2.78576510e-04,\n",
       "        1.05827237e-02,  5.24432305e-03,  1.77744438e-03,  9.28361714e-03,\n",
       "       -2.64482014e-03, -3.53116589e-03,  6.93371985e-03,  8.82329477e-04,\n",
       "        1.54977909e-03,  3.34964925e-03, -4.89596394e-04,  1.07638317e-03,\n",
       "        9.86651704e-03, -4.46996232e-03,  7.74481427e-03,  1.18771587e-02,\n",
       "        1.56716781e-03, -7.52434134e-03,  3.56508605e-03,  4.01683990e-03,\n",
       "       -3.20835528e-03,  4.86750575e-03,  4.91160899e-03, -1.20476941e-02,\n",
       "        7.21196830e-03,  1.49840713e-02, -3.25508346e-03,  1.66746154e-02,\n",
       "       -5.25604235e-03,  1.08690863e-03,  1.03963725e-02, -2.58249673e-03,\n",
       "       -1.12587949e-02,  7.51996599e-03,  2.76688905e-03, -2.97016837e-03,\n",
       "       -3.00712045e-03,  5.19659324e-03, -7.44221208e-04,  4.94928285e-03,\n",
       "       -2.01284513e-03, -3.93457897e-03,  5.94776217e-03, -2.97995913e-03,\n",
       "       -9.05823428e-03,  4.27997625e-03, -1.59831103e-02,  1.00032566e-02,\n",
       "       -3.53053841e-03, -1.79022463e-04, -1.05777867e-02, -7.28424452e-03,\n",
       "       -2.35541933e-03,  4.70915576e-03,  5.18912217e-03,  3.98281170e-03,\n",
       "        3.46746668e-03, -3.92342405e-03, -1.03594491e-03, -6.44302368e-03,\n",
       "       -1.81342289e-02, -3.89367528e-03,  6.86031254e-03,  2.76473234e-03,\n",
       "       -8.71267694e-04, -1.10243843e-03,  1.05353044e-02,  8.88049137e-03,\n",
       "        4.33296955e-04,  1.61072967e-04,  3.73461540e-03, -3.32701253e-03,\n",
       "       -3.03516537e-03,  6.05044980e-03,  5.04006748e-05, -2.72420142e-03,\n",
       "        4.55104979e-03, -1.42707787e-02, -1.38928113e-03, -5.21256402e-03,\n",
       "        2.92553031e-03,  2.18998585e-02,  2.02276045e-04,  3.17319093e-04,\n",
       "        1.01154103e-04,  2.14913581e-03, -7.88736902e-03, -1.33494381e-03,\n",
       "        4.96392325e-03,  1.33677814e-02, -2.10181950e-03,  1.84627008e-02,\n",
       "        1.15580335e-02, -4.16299002e-03, -3.66216688e-03, -1.20697599e-02,\n",
       "        5.28541021e-03, -2.95990147e-03,  1.35264201e-02, -9.01323184e-03,\n",
       "        1.27009796e-02,  1.80264935e-03,  7.63527863e-03, -8.10068334e-04,\n",
       "       -1.05936825e-02,  1.41071230e-02,  4.64817043e-03,  3.08667682e-03,\n",
       "       -7.40272086e-03,  1.27364378e-02, -3.27524031e-03, -4.08287905e-03,\n",
       "       -9.93470475e-03, -1.08536333e-02,  8.22455063e-03, -1.32304998e-02,\n",
       "        3.90581973e-03, -1.02747241e-02, -3.25835048e-04,  5.91331208e-03,\n",
       "       -1.67109101e-04, -3.38397105e-03,  3.98313953e-03,  3.84795107e-03,\n",
       "        1.66338459e-02,  5.17213857e-03, -3.16792051e-04, -7.57330609e-03,\n",
       "        4.71337559e-03,  2.49762274e-03,  2.32232414e-04, -3.80079076e-03,\n",
       "        2.79538915e-03,  2.68079923e-04,  2.71723606e-03, -6.92040566e-03,\n",
       "        5.37512265e-03,  5.78657491e-04, -7.56793935e-03,  8.34998116e-03,\n",
       "       -7.27902120e-03, -1.12472046e-02,  1.74494442e-02,  6.08316902e-03,\n",
       "       -6.59872964e-03,  5.67752821e-03,  1.00981980e-03,  1.48020254e-03,\n",
       "       -1.29488471e-03, -8.32824688e-03,  8.77714343e-03, -7.13882269e-03,\n",
       "       -1.60073433e-02, -5.51329320e-03, -5.49167534e-03, -5.70091978e-03,\n",
       "       -1.38960185e-03, -7.28502683e-03,  5.84528921e-03,  2.60130572e-03,\n",
       "       -9.77527164e-03, -2.40658107e-03, -5.90724498e-03, -1.22393370e-02,\n",
       "        6.36538537e-03, -3.10636591e-03, -3.06032202e-03,  3.08053521e-03,\n",
       "        8.51995777e-03, -2.67127459e-03, -1.80678221e-03,  6.89965719e-03,\n",
       "       -8.71783495e-03, -1.22217042e-03,  1.79033577e-02,  1.00296754e-02,\n",
       "        8.40178318e-03, -4.22615651e-03, -3.70906456e-03, -1.12090539e-03,\n",
       "       -8.12086556e-03, -4.80525009e-03, -3.92382219e-03,  1.83521565e-02,\n",
       "       -7.44699966e-04, -6.44373707e-03,  8.01911950e-03,  3.20422114e-05,\n",
       "       -1.42738398e-03,  1.05872508e-02,  1.94867961e-02,  6.94879098e-03,\n",
       "        8.92049167e-03, -1.23988511e-02, -1.16175162e-02, -1.79911610e-02,\n",
       "        8.48518871e-03, -4.85246908e-03,  1.04944166e-02,  1.39815803e-03,\n",
       "        4.78418544e-03,  6.10722555e-03, -1.69035643e-02, -1.08822612e-02,\n",
       "        1.64468994e-03,  5.28236059e-03,  9.00502596e-03,  2.97446363e-03,\n",
       "        4.27888334e-03, -7.91033823e-03,  5.75524941e-03, -1.02156932e-02,\n",
       "        5.71228005e-03, -7.17333890e-03,  4.94674500e-03,  1.53710088e-03,\n",
       "        7.54893804e-03, -2.36757705e-03,  7.04133511e-03, -3.13084386e-03,\n",
       "       -1.30818912e-03, -9.98590514e-03,  2.87135917e-05,  7.80869322e-03,\n",
       "       -5.08734677e-03, -1.28822823e-04,  9.27318074e-03, -1.04945833e-02,\n",
       "        1.53946690e-03,  4.41720895e-03,  6.80962624e-03,  1.57678500e-03,\n",
       "        8.38985085e-04,  1.35487597e-02, -7.03434460e-03,  3.07525392e-03,\n",
       "       -1.02262609e-02, -3.39537440e-03, -1.24382693e-03, -6.18316873e-04,\n",
       "       -1.07065775e-03, -1.58878528e-02, -4.03381744e-03, -6.37859618e-03,\n",
       "       -7.59124197e-03,  1.56923942e-02,  1.93199813e-02, -2.12551793e-03,\n",
       "       -5.50587894e-03, -7.35053932e-03, -1.40546460e-03,  1.14996480e-02,\n",
       "        5.66537911e-03, -5.72400459e-04, -2.76503945e-03, -1.88452024e-02,\n",
       "        3.50940041e-03,  8.44319910e-03, -2.01905309e-03, -4.73455386e-03,\n",
       "        3.61766503e-03,  3.05150170e-03, -6.32505305e-03,  6.96779520e-04,\n",
       "        5.38981520e-03, -4.78002569e-03,  6.41213171e-03, -1.40082920e-02,\n",
       "       -3.88302235e-03, -4.49408591e-03,  8.88767000e-03,  3.58473323e-03],\n",
       "      dtype=float32)"
      ]
     },
     "execution_count": 15,
     "metadata": {},
     "output_type": "execute_result"
>>>>>>> 15c60e2d947079db48599ec18e746ac1d2d87bbf
    }
   ],
   "source": [
    "print(sent23[10542:10555])"
   ]
  },
  {
   "cell_type": "code",
<<<<<<< HEAD
   "execution_count": 12,
   "metadata": {},
   "outputs": [
    {
     "name": "stdout",
     "output_type": "stream",
     "text": [
      "163115\n"
     ]
    }
   ],
   "source": [
    "print(len(sent23))"
   ]
  },
  {
   "cell_type": "code",
   "execution_count": 13,
   "metadata": {},
   "outputs": [],
   "source": [
    "model2 = gensim.models.word2vec.Word2Vec(sent23,min_count=1,size=300, workers=6, window= 2)"
   ]
  },
  {
   "cell_type": "code",
   "execution_count": 20,
=======
   "execution_count": 16,
>>>>>>> 15c60e2d947079db48599ec18e746ac1d2d87bbf
   "metadata": {
    "scrolled": false
   },
   "outputs": [
    {
     "name": "stdout",
     "output_type": "stream",
     "text": [
<<<<<<< HEAD
      "47685\n",
      "                                                  combine   level_1\n",
      "6656    Livestock,, Alpaca,The alpaca -from quechua al...  10101518\n",
      "6657    Livestock,, Buffalo or bison,Large, shaggy her...  10101519\n",
      "6661                         Birds and fowl,, Live ducks,  10101602\n",
      "6666    Birds and fowl,, Live guinea fowl,Type of bird...  10101607\n",
      "6672                               Live fish,, Live eels,  10101705\n",
      "6674    Live fish,, Live palometa fish or mylossoma au...  10101707\n",
      "6676    Live fish,, Live red belly pacu fish,A type of...  10101709\n",
      "6678    Live fish,, Live paiche fish,A type of tropica...  10101711\n",
      "6681    Live fish,, Live maparate fish,A type of catfi...  10101714\n",
      "6682    Live fish,, Live lumptail sea robin fish,A typ...  10101715\n",
      "6684    Live fish,, Live ispi fish,A type of pupfish n...  10101717\n",
      "6685    Live fish,, Live frigate tuna fish or melva fi...  10101718\n",
      "6687    Live fish,, Live acarahuazu fish,A tropical fr...  10101720\n",
      "6689    Live fish,, Live armored catfish or carachama,...  10101722\n",
      "6690    Live fish,, Live black prochilodus,A tropical ...  10101723\n",
      "6691    Live fish,, Live blochs catfish,A tropical fre...  10101724\n",
      "6693    Live fish,, Live cabinza grunt,A type of ocean...  10101726\n",
      "6695    Live fish,, Live cascafe fish,A tropical zone ...  10101728\n",
      "6701    Shellfish and aquatic invertebrates,, Live shr...  10101801\n",
      "6708    Shellfish and aquatic invertebrates,, Live squid,  10101808\n",
      "6710    Shellfish and aquatic invertebrates,, Live spo...  10101810\n",
      "6711    Shellfish and aquatic invertebrates,, Live lob...  10101811\n",
      "6720    Insects,, Live southern black widow,A type of ...  10101908\n",
      "6725    Wild animals,, Live bothrops pit viper snake,A...  10102003\n",
      "6726    Wild animals,, Live chironius or vine snake,A ...  10102004\n",
      "6729    Wild animals,, Live epicrates or rainbow boa s...  10102007\n",
      "6731    Wild animals,, Live bushmaster or lachesis sna...  10102009\n",
      "6732    Wild animals,, Live coral or micrurus snake,A ...  10102010\n",
      "6734    Wild animals,, Live philodryas snake,A type of...  10102012\n",
      "6739    Wild animals,, Live monkeys,Monkeys are haplor...  10102017\n",
      "...                                                   ...       ...\n",
      "163025  Hospital buildings and structures,Structures a...  95122003\n",
      "163027  Hospital buildings and structures,Structures a...  95122005\n",
      "163029  Hospital buildings and structures,Structures a...  95122007\n",
      "163032  Accommodation buildings and structures,Buildin...  95122101\n",
      "163035  Accommodation buildings and structures,Buildin...  95122104\n",
      "163036  Accommodation buildings and structures,Buildin...  95122105\n",
      "163042  Sports and health buildings and structures,Bui...  95122304\n",
      "163043  Sports and health buildings and structures,Bui...  95122305\n",
      "163049  Industrial buildings and structures,Buildings ...  95122402\n",
      "163050  Industrial buildings and structures,Buildings ...  95122403\n",
      "163056  Agricultural and farming and fishing buildings...  95122505\n",
      "163058  Religious buildings and structures,Buildings a...  95122601\n",
      "163060  Religious buildings and structures,Buildings a...  95122603\n",
      "163061  Religious buildings and structures,Buildings a...  95122604\n",
      "163062  Religious buildings and structures,Buildings a...  95122605\n",
      "163065  Defense buildings and structures,Buildings or ...  95122702\n",
      "163066  Defense buildings and structures,Buildings or ...  95122703\n",
      "163076  Portable commercial and industrial buildings a...  95131604\n",
      "163078  Portable commercial and industrial buildings a...  95131606\n",
      "163081  Tents and membrane structures,Temporary struct...  95131702\n",
      "163084  Prefabricated farm buildings and structures,Bu...  95141501\n",
      "163092  Prefabricated residential buildings and struct...  95141606\n",
      "163094  Prefabricated commercial and industrial buildi...  95141701\n",
      "163095  Prefabricated commercial and industrial buildi...  95141702\n",
      "163096  Prefabricated commercial and industrial buildi...  95141703\n",
      "163101  Prefabricated commercial and industrial buildi...  95141708\n",
      "163107  Prefabricated emergency relief buildings and s...  95141801\n",
      "163109  Prefabricated emergency relief buildings and s...  95141803\n",
      "163111  Prefabricated medical buildings and structures...  95141901\n",
      "163112  Prefabricated medical buildings and structures...  95141902\n",
      "\n",
      "[47685 rows x 2 columns]\n"
=======
      "212\n"
>>>>>>> 15c60e2d947079db48599ec18e746ac1d2d87bbf
     ]
    }
   ],
   "source": [
    "def NumberofDocs(li,nums):\n",
    "    shortlist=[]\n",
    "    number=0.0\n",
    "    for i in li:\n",
    "        if(i!='nan'):\n",
    "            point = model2.wv.similarity(str(i),nums)\n",
<<<<<<< HEAD
    "            if(point>0.8):\n",
=======
    "            if(point>.7000001):\n",
>>>>>>> 15c60e2d947079db48599ec18e746ac1d2d87bbf
    "                shortlist.append(i) \n",
    "    \n",
    "    return shortlist\n",
    "\n",
    "result =NumberofDocs(nums,'4045') \n",
<<<<<<< HEAD
    "print(len(result))\n",
    "print(result)\n",
    "print(df2.loc[df2['level_1'].isin(result)])"
=======
    "print(len(result))\n"
>>>>>>> 15c60e2d947079db48599ec18e746ac1d2d87bbf
   ]
  },
  {
   "cell_type": "code",
<<<<<<< HEAD
   "execution_count": 21,
=======
   "execution_count": 17,
>>>>>>> 15c60e2d947079db48599ec18e746ac1d2d87bbf
   "metadata": {},
   "outputs": [
    {
     "name": "stdout",
     "output_type": "stream",
     "text": [
<<<<<<< HEAD
      "351\n",
      "                                                 combine   level_1\n",
      "7012   Residues other than animal feed,, Residue of l...  10152103\n",
      "17226       Earth moving machinery,, Combat earthmovers,  22101534\n",
      "18005  Metal bending machines,Machines that apply dir...  23251504\n",
      "18542  Securing and protecting supplies,, Tamper proo...  24141504\n",
      "18918           Braking systems and components,, Rotors,  25171705\n",
      "19158             Vehicle interior systems,, Headliners,  25174404\n",
      "19536                       Engines,, Pneumatic engines,  26101502\n",
      "19597  Engine components and accessories,, Carburetor...  26101756\n",
      "19743                         Clutches,, Plate clutches,  26111901\n",
      "19950  Exhaust structures or screening equipment,, St...  26131606\n",
      "20109                           Forming tools,, Mallets,  27111601\n",
      "20297  Agriculture, forestry and garden handtools,A s...  27112012\n",
      "20534  Tool attachments and accessories,The comoditie...  27112820\n",
      "20725                     Beams,, Stainless steel beams,  30101705\n",
      "20780                                Plate,, Iron plate,  30102203\n",
      "21016                             Bricks,, Stone bricks,  30131604\n",
      "21945  Machined v process castings,, Zinc v process m...  31121013\n",
      "21993  Machined sand castings,, Lead sand machined ca...  31121215\n",
      "22101  Machined centrifugal castings,, Bronze centrif...  31121712\n",
      "22373         Vacuum moldings,, Plastic vacuum moldings,  31141601\n",
      "22473                               Ropes,, Cotton rope,  31151501\n",
      "22646                                Nuts,, Anchor nuts,  31161701\n",
      "23043                             Gears,, Helical gears,  31171714\n",
      "23076     Abrasives and abrasive media,, Abrasive belts,  31191507\n",
      "23118                     Tape,, Adhesive transfer tape,  31201522\n",
      "23189                 Paints and primers,, Spray paints,  31211507\n",
      "23284  Machined plate stock,, Stainless steel machine...  31231210\n",
      "23598  Machined hydro static extrusions,, Non ferrous...  31291109\n",
      "23603  Machined hydro static extrusions,, Steel machi...  31291114\n",
      "23627  Machined impact extrusions,, Zinc machined imp...  31291217\n",
      "...                                                  ...       ...\n",
      "83895       Machining services,, Flame cutting services,  73181015\n",
      "83933          Forming services,, Roll forming services,  73181203\n",
      "83939      Heat treatment services,, Annealing services,  73181302\n",
      "84000        Nonhazardous waste disposal,, Garbage dump,  76121601\n",
      "84024  Waste incineration services,A service we use w...  76122201\n",
      "84032  Recycling services,, Recycling of computer bas...  76122305\n",
      "84033           Recycling services,, Recycling of paper,  76122306\n",
      "84048    Refuse disposal and treatment fees,, Labor fee,  76122405\n",
      "84083  Environmental advisory services,, Environmenta...  77101706\n",
      "84127  Air pollution,, Air pollution monitoring or me...  77121504\n",
      "84136  Soil pollution,, Polluted soil treatment or re...  77121603\n",
      "84151  Water pollution,, Groundwater pollution monito...  77121707\n",
      "84157     Oil pollution,, Oil spillage control services,  77131502\n",
      "84253  Passenger air transportation,, Sightseeing ser...  78111504\n",
      "84300  General goods storage,, Palletized cargo storage,  78131601\n",
      "84327     Navigational services,, Drawbridge operations,  78141702\n",
      "84464  Temporary personnel services,, Temporary techn...  80111604\n",
      "84641  Trade shows and exhibits,, Talent or entertain...  80141903\n",
      "84844       Computer programmers,, Programming for HTML,  81111603\n",
      "84856  Management information systems MIS,, Wide area...  81111701\n",
      "84902         Internet services,, Internet domain names,  81112107\n",
      "84961  Monetary systems and issues,, Monetary liquidity,  81121604\n",
      "84990  Production planning and control,, Production s...  81141703\n",
      "85149  Editorial and support services,, Editing servi...  82111801\n",
      "85263    Film processing services,, Microfiche services,  82131503\n",
      "85275            Art design services,, Photocomposition,  82141503\n",
      "85338        Oil and gas utilities,, Supply of fuel oil,  83101602\n",
      "85369  Mobile communications services,, Satellite or ...  83111602\n",
      "85552  Pension funds,, Union or guild administered pe...  84131702\n",
      "85775  Funeral and associated services,The services a...  85171501\n",
      "\n",
      "[351 rows x 2 columns]\n"
=======
      "490\n",
      "[10111308, 10151504, 10151506, 10201931, 10202169, 10215404, 10301705, 10302767, 10317703, 10318338, 10424301, 10426042, 10432028, 14111706, 15131601, 20101506, 20101805, 20102105, 20111701, 20121007, 20121203, 20121325, 20121406, 20121407, 20121429, 20121437, 20121445, 20121509, 20121519, 20121716, 20121720, 20121902, 20122004, 20122303, 20122403, 20122410, 20122824, 20122845, 21101701, 22101527, 22101539, 22101619, 22101623, 22101625, 22101702, 22101716, 22101722, 22101905, 23101540, 23121508, 23151508, 23151520, 23151609, 23151702, 23151704, 23151814, 23151821, 23152101, 23153022, 23251803, 24101631, 24101643, 24102201, 25101929, 25111513, 25111929, 25191522, 25191707, 25191734, 25191804, 25191816, 25191823, 26101706, 26111707, 26121640, 26131610, 26142303, 27111713, 27112044, 27112101, 30181808, 30191803, 30262002, 31101603, 31101608, 31151705, 31151707, 31201501, 31241803, 31242107, 32101534, 32131005, 32131013, 32141102, 39101806, 39111603, 39111703, 39112401, 39121004, 39121007, 39121021, 39121029, 39121909, 39122106, 39122314, 39131713, 40101825, 40141604, 40141750, 40161603, 41101709, 41103418, 41103419, 41103516, 41103809, 41103905, 41104003, 41104010, 41104124, 41104203, 41104422, 41104426, 41104927, 41105502, 41111502, 41111507, 41111527, 41111701, 41111702, 41111810, 41111816, 41111916, 41112235, 41112521, 41113045, 41113612, 41114219, 41114507, 41114623, 41114719, 41115307, 41115308, 41115309, 41115322, 41115701, 41116105, 41116202, 41131505, 41181730, 41191501, 41202045, 42121506, 42121701, 42131701, 42131704, 42142504, 42142527, 42142736, 42143520, 42151637, 42151647, 42151673, 42151708, 42152204, 42152211, 42152901, 42152905, 42181904, 42183038, 42183058, 42191601, 42191602, 42191605, 42191701, 42221503, 42222101, 42231906, 42272509, 42272521, 42281511, 42281515, 42294726, 42294729, 42294958, 42295304, 43191513, 43201602, 43202207, 43211604, 43231505, 43231514, 44102906, 44102912, 44121808, 45101501, 45101506, 45101513, 45101615, 45101903, 45121713, 46121501, 46121508, 46151702, 46161514, 46171620, 46182403, 46191605, 47101523, 47121604, 47121805, 48101510, 48101918, 49181511, 49211818, 49221521, 49241604, 50111513, 50121537, 50316005, 50324203, 50324908, 50324915, 50413201, 50426840, 50444114, 50456004, 50524931, 50546203, 52131701, 52131702, 52141510, 52141551, 52141565, 52141566, 52141603, 52141801, 52151506, 52151607, 52151609, 52151659, 52151663, 52151668, 52152002, 52161505, 52161507, 52161511, 52161524, 52161535, 52161537, 52161538, 52161549, 53102704, 53121705, 53131506, 53131602, 53131610, 53141601, 53141614, 53141615, 53141619, 54101703, 54101707, 55101514, 55111505, 55111515, 55121704, 55121737, 55121908, 56101522, 56101704, 56111705, 56111801, 56111903, 56111907, 56122001, 60101730, 60103104, 60103905, 60103909, 60103915, 60103919, 60103920, 60104006, 60104008, 60104201, 60104401, 60104503, 60104512, 60104611, 60104701, 60104706, 60104718, 60104802, 60105103, 60105203, 60105502, 60106601, 60106602, 60111402, 60121104, 60121106, 60121107, 60121110, 60121111, 60121112, 60121113, 60121232, 60121513, 60121523, 60121705, 60121707, 60121715, 60124320, 60124403, 60124509, 60131003, 60131402, 60131505, 60141201, 60141302, 60141402, 64101703, 64101902, 64121502, 64121503, 70101704, 70111508, 70111707, 70121505, 70121606, 70121706, 70122004, 70122008, 70131501, 70131503, 70131505, 70131605, 70141602, 70141902, 70142003, 70171710, 71101502, 71112007, 71121001, 71121012, 71122303, 71122409, 71122703, 71131103, 71131409, 71141005, 72141213, 72141601, 72151004, 72151507, 72151606, 72153202, 72154017, 72154031, 72154064, 72154065, 72154066, 73152105, 73171606, 76122406, 78101501, 78111811, 78142001, 78181810, 80131502, 80141616, 81101706, 81111801, 81112603, 81141503, 85121801, 85121802, 85121803, 85121804, 85121807, 85121808, 85121811, 85151701, 85251515, 85252705, 85271702, 85271902, 85283901, 85292702, 85293801, 85343701, 85353203, 85353605, 85425502, 85427307, 85428305, 85434502, 85435103, 85442804, 85442809, 85442906, 85443407, 85447103, 85447304, 85447604, 85451101, 85451206, 85452803, 85453413, 85454102, 85541812, 85841004, 85841008, 85841214, 85861014, 85901004, 85901102, 85901106, 85901108, 85901112, 85901114, 85901118, 85901124, 85901143, 85901149, 85901201, 85901270, 85901515, 85901837, 85902135, 85902206, 85902214, 85902226, 85902229, 85902234, 85902239, 85902245, 85902246, 85902254, 85902305, 85902306, 85902319, 85902334, 85902361, 85902363, 85902422, 85902531, 85902801, 85902820, 85902826, 85903059, 85903122, 85903123, 85903127, 85903132, 85903166, 85903304, 85903522, 85903715, 85903731, 85904021, 85904105, 85904240, 85904309, 90101605, 94121506, 95101702, 95111606, 95111611, 95121504, 95121611, 95121628, 95121645, 95121647, 95121702, 95121703, 95121705, 95121707, 95121709, 95121803, 95121908, 95122005, 95122402, 95131601, 95131603, 95141708, 95141803, 95141901, 95141902, 95141904]\n"
>>>>>>> 15c60e2d947079db48599ec18e746ac1d2d87bbf
     ]
    }
   ],
   "source": [
    "result2 =NumberofDocs(nums,'3526') \n",
    "print(len(result2))\n",
    "print(df2.loc[df2['level_1'].isin(result2)])"
   ]
  },
  {
   "cell_type": "code",
<<<<<<< HEAD
   "execution_count": 16,
=======
   "execution_count": 18,
>>>>>>> 15c60e2d947079db48599ec18e746ac1d2d87bbf
   "metadata": {},
   "outputs": [
    {
     "data": {
      "text/plain": [
<<<<<<< HEAD
       "0.83012986"
      ]
     },
     "execution_count": 16,
=======
       "0.860146"
      ]
     },
     "execution_count": 18,
>>>>>>> 15c60e2d947079db48599ec18e746ac1d2d87bbf
     "metadata": {},
     "output_type": "execute_result"
    }
   ],
   "source": [
    "model2.wv.similarity('10101707','4045')"
   ]
  },
  {
   "cell_type": "code",
<<<<<<< HEAD
   "execution_count": 17,
=======
   "execution_count": 19,
>>>>>>> 15c60e2d947079db48599ec18e746ac1d2d87bbf
   "metadata": {},
   "outputs": [
    {
     "data": {
      "text/plain": [
<<<<<<< HEAD
       "0.6577544"
      ]
     },
     "execution_count": 17,
=======
       "-0.0619056"
      ]
     },
     "execution_count": 19,
>>>>>>> 15c60e2d947079db48599ec18e746ac1d2d87bbf
     "metadata": {},
     "output_type": "execute_result"
    }
   ],
   "source": [
<<<<<<< HEAD
    "model2.wv.similarity('85903723','4045')"
=======
    "model2.wv.similarity('10101708','4045')"
>>>>>>> 15c60e2d947079db48599ec18e746ac1d2d87bbf
   ]
  },
  {
   "cell_type": "code",
<<<<<<< HEAD
   "execution_count": 18,
=======
   "execution_count": 20,
>>>>>>> 15c60e2d947079db48599ec18e746ac1d2d87bbf
   "metadata": {
    "scrolled": true
   },
   "outputs": [
    {
     "data": {
      "text/plain": [
<<<<<<< HEAD
       "[(' (MILIARIA', 0.9131325483322144),\n",
       " (' WITHOUT COMA K71.10)', 0.9128967523574829),\n",
       " ('11-diol', 0.9126417636871338),\n",
       " ('This classification denotes the group of activities that yields a surgical intervention or procedure to removal of drainage device from retroperitoneum',\n",
       "  0.9125745296478271),\n",
       " (' (OTH DISORDERS RESULTING FROM IMPAIRED RENAL TUBULAR FUNCTION N25.89)',\n",
       "  0.9122788906097412),\n",
       " (' virus not identified', 0.9122744798660278),\n",
       " (' WITH COMA K71.11)', 0.9122116565704346),\n",
       " (' (OTHER VOMITING of NEWBORN P92.9)', 0.9121987819671631),\n",
       " (' (SEPSIS of NEWBORN due to other STREPTOCOCCI P36.19)', 0.9121073484420776),\n",
       " (' UNSPECIFIED L29.3)', 0.9119848012924194)]"
      ]
     },
     "execution_count": 18,
=======
       "[('85414904', 0.5256083011627197),\n",
       " ('2010', 0.5138950943946838),\n",
       " ('nsaid\\xa0\\xa0', 0.5090764760971069),\n",
       " ('85433104', 0.49921196699142456),\n",
       " ('57091', 0.49762099981307983),\n",
       " ('51181577', 0.4960807263851166),\n",
       " ('51192413', 0.48748186230659485),\n",
       " ('11181501', 0.48328033089637756),\n",
       " ('baskets-freezer', 0.4798641502857208),\n",
       " ('51241553', 0.4777511656284332)]"
      ]
     },
     "execution_count": 20,
>>>>>>> 15c60e2d947079db48599ec18e746ac1d2d87bbf
     "metadata": {},
     "output_type": "execute_result"
    }
   ],
   "source": [
    "model2.wv.most_similar('3105')[:15]"
   ]
  },
  {
   "cell_type": "code",
<<<<<<< HEAD
   "execution_count": 19,
=======
   "execution_count": 21,
>>>>>>> 15c60e2d947079db48599ec18e746ac1d2d87bbf
   "metadata": {},
   "outputs": [
    {
     "data": {
      "text/plain": [
       "'\\nbook = open_workbook(\\'UNSPSC English v220601 project.xlsx\\')\\n\\'\\'\\'book = open_workbook(\\'Unspec List2b.xlsx\\')\\'\\'\\'\\n\\'\\'\\'To work on the UNSPSC sheet you need to change the values of 0 to 12 and 1 to\\n16 in order to make the it work.\\'\\'\\'\\ndict_list = []\\nsheet = book.sheet_by_index(0)\\n# read header values into the list\\nkeys = [sheet.cell(0, col_index).value for col_index in range(sheet.ncols)]\\n\\nfor row_index in range(1, sheet.nrows):\\n    d = {keys[col_index]: sheet.cell(row_index, col_index).value\\n         for col_index in range(sheet.ncols)}\\n    dict_list.append(d)\\n\\nprint(len(dict_list))\\n    \\ndoclist =[]\\nlistOfEntry =[]\\nentrylist = []\\ndf7 = pd.DataFrame()\\n\\n\\nfor entry in dict_list:\\n    if(entry.get(\"Family\")==\"\"):\\n        continue\\n    elif(entry.get(\"Family\")!=\"\" and entry.get(\"Class\")==\"\"):\\n        if(listOfEntry!=[]):\\n            #print(listOfEntry)\\n            doclist += entrylist\\n            continue\\n    elif(entry.get(\"Commodity\")==\"\"):\\n        continue\\n    else:\\n        if(entry.get(\"Class Definition\")!=\"\"):\\n            f = str(sent_tokenize(entry.get(\"Class Definition\").lower())).strip(\\'[]\\').strip(\\'\\'\\')\\n            #print(f)\\n        else:\\n            f=str([\" \"]).strip(\\'[]\\').strip(\\'\\'\\')\\n        e = str(sent_tokenize(entry.get(\"Class Title\").lower())).strip(\\'[]\\').strip(\\'\\'\\')\\n        #print(e)\\n        g = str(sent_tokenize(entry.get(\"Commodity Title\").lower())).strip(\\'[]\\').strip(\\'\\'\\')\\n        #print(g)\\n        if(entry.get(\"Commodity Definition\")!=\"\"):\\n            h = str(sent_tokenize(entry.get(\"Commodity Definition\").lower())).strip(\\'[]\\').strip(\\'\\'\\')\\n            #print(h)\\n        else:\\n            h = str([\" \"]).strip(\\'[]\\').strip(\\'\\'\\')\\n        i=int(entry.get(\"Commodity\"))\\n        df7 = df7.append({\\'class\\':e+f,\\'commodity\\':g+h,\\'level_1\\': i},ignore_index=True)\\n        \\n  \\n        \\ndoclist.append(listOfEntry) \\n\\nprint(\"done\")        \\n\\n\\n\\n\\nmodel2.wv.vocab\\nmodel2.save(\"W2V-Model\")\\n\\ntext = \"AIR CONDITIONING, HEATING, AND VENTILATING: EQUIPMENT, PARTS  HYDRONIC SPECIALTIES\"\\nidt =[\\'101\\'] \\ntext = text.lower()\\nnewEntry = []\\nnewEn =[]\\nstop_words = set(stopwords.words(\\'english\\'))\\nch = [ \\'``\\',\\'``\\', \"\\'\\'\",\\',\\',\\'.\\',\\'\\\\n\\',\"\\'\",\";\",\":\",\"(\",\")\",\"-\",\"--\"]\\n\\n\\nWtest = word_tokenize(text)\\nWtest = [ j for j in Wtest if not j in ch ]\\nWtest = [w for w in Wtest if not w in stop_words]\\nnewEntry.append(Wtest)\\n\\ndef concatenate_list_data(list):\\n    result= \\'\\'\\n    for element in list:\\n        result += str(element+\" \")\\n    return result\\n\\nnewEntry[0] = concatenate_list_data(newEntry[0])\\nnewEntry += idt\\nnewEn.append(newEntry)\\nprint(newEn)\\n\\nnew_mod = gensim.models.Word2Vec.load(\"W2V-Model\")\\nnew_mod.build_vocab(newEn,update = True)\\nnew_mod.train(newEn,total_examples=1,epochs = 1)\\n\\nnew_mod.wv.similarity(\\'30121703.0\\',\\'101\\')\\nnew_mod.wv.most_similar_cosmul(\\'101\\')\\n\\nnew_mod.wv.similar_by_vector(\\'101\\')\\n\\n'"
      ]
     },
<<<<<<< HEAD
     "execution_count": 19,
=======
     "execution_count": 21,
>>>>>>> 15c60e2d947079db48599ec18e746ac1d2d87bbf
     "metadata": {},
     "output_type": "execute_result"
    }
   ],
   "source": [
    "\"\"\"\n",
    "book = open_workbook('UNSPSC English v220601 project.xlsx')\n",
    "'''book = open_workbook('Unspec List2b.xlsx')'''\n",
    "'''To work on the UNSPSC sheet you need to change the values of 0 to 12 and 1 to\n",
    "16 in order to make the it work.'''\n",
    "dict_list = []\n",
    "sheet = book.sheet_by_index(0)\n",
    "# read header values into the list\n",
    "keys = [sheet.cell(0, col_index).value for col_index in range(sheet.ncols)]\n",
    "\n",
    "for row_index in range(1, sheet.nrows):\n",
    "    d = {keys[col_index]: sheet.cell(row_index, col_index).value\n",
    "         for col_index in range(sheet.ncols)}\n",
    "    dict_list.append(d)\n",
    "\n",
    "print(len(dict_list))\n",
    "    \n",
    "doclist =[]\n",
    "listOfEntry =[]\n",
    "entrylist = []\n",
    "df7 = pd.DataFrame()\n",
    "\n",
    "\n",
    "for entry in dict_list:\n",
    "    if(entry.get(\"Family\")==\"\"):\n",
    "        continue\n",
    "    elif(entry.get(\"Family\")!=\"\" and entry.get(\"Class\")==\"\"):\n",
    "        if(listOfEntry!=[]):\n",
    "            #print(listOfEntry)\n",
    "            doclist += entrylist\n",
    "            continue\n",
    "    elif(entry.get(\"Commodity\")==\"\"):\n",
    "        continue\n",
    "    else:\n",
    "        if(entry.get(\"Class Definition\")!=\"\"):\n",
    "            f = str(sent_tokenize(entry.get(\"Class Definition\").lower())).strip('[]').strip('\\'')\n",
    "            #print(f)\n",
    "        else:\n",
    "            f=str([\" \"]).strip('[]').strip('\\'')\n",
    "        e = str(sent_tokenize(entry.get(\"Class Title\").lower())).strip('[]').strip('\\'')\n",
    "        #print(e)\n",
    "        g = str(sent_tokenize(entry.get(\"Commodity Title\").lower())).strip('[]').strip('\\'')\n",
    "        #print(g)\n",
    "        if(entry.get(\"Commodity Definition\")!=\"\"):\n",
    "            h = str(sent_tokenize(entry.get(\"Commodity Definition\").lower())).strip('[]').strip('\\'')\n",
    "            #print(h)\n",
    "        else:\n",
    "            h = str([\" \"]).strip('[]').strip('\\'')\n",
    "        i=int(entry.get(\"Commodity\"))\n",
    "        df7 = df7.append({'class':e+f,'commodity':g+h,'level_1': i},ignore_index=True)\n",
    "        \n",
    "  \n",
    "        \n",
    "doclist.append(listOfEntry) \n",
    "\n",
    "print(\"done\")        \n",
<<<<<<< HEAD
    "\n",
    "\n",
    "\n",
    "\n",
=======
    "\"\"\"\n",
    "\n",
    "\"\"\"\n",
>>>>>>> 15c60e2d947079db48599ec18e746ac1d2d87bbf
    "model2.wv.vocab\n",
    "model2.save(\"W2V-Model\")\n",
    "\n",
    "text = \"AIR CONDITIONING, HEATING, AND VENTILATING: EQUIPMENT, PARTS  HYDRONIC SPECIALTIES\"\n",
    "idt =['101'] \n",
    "text = text.lower()\n",
    "newEntry = []\n",
    "newEn =[]\n",
    "stop_words = set(stopwords.words('english'))\n",
    "ch = [ '``','``', \"''\",',','.','\\\\n',\"'\",\";\",\":\",\"(\",\")\",\"-\",\"--\"]\n",
    "\n",
    "\n",
    "Wtest = word_tokenize(text)\n",
    "Wtest = [ j for j in Wtest if not j in ch ]\n",
    "Wtest = [w for w in Wtest if not w in stop_words]\n",
    "newEntry.append(Wtest)\n",
    "\n",
    "def concatenate_list_data(list):\n",
    "    result= ''\n",
    "    for element in list:\n",
    "        result += str(element+\" \")\n",
    "    return result\n",
    "\n",
    "newEntry[0] = concatenate_list_data(newEntry[0])\n",
    "newEntry += idt\n",
    "newEn.append(newEntry)\n",
    "print(newEn)\n",
    "\n",
    "new_mod = gensim.models.Word2Vec.load(\"W2V-Model\")\n",
    "new_mod.build_vocab(newEn,update = True)\n",
    "new_mod.train(newEn,total_examples=1,epochs = 1)\n",
    "\n",
    "new_mod.wv.similarity('30121703.0','101')\n",
    "new_mod.wv.most_similar_cosmul('101')\n",
    "\n",
    "new_mod.wv.similar_by_vector('101')\n",
    "\n",
    "\"\"\"\n"
   ]
  },
  {
   "cell_type": "code",
   "execution_count": null,
   "metadata": {},
   "outputs": [],
   "source": []
  }
 ],
 "metadata": {
  "kernelspec": {
   "display_name": "Python 3",
   "language": "python",
   "name": "python3"
  },
  "language_info": {
   "codemirror_mode": {
    "name": "ipython",
    "version": 3
   },
   "file_extension": ".py",
   "mimetype": "text/x-python",
   "name": "python",
   "nbconvert_exporter": "python",
   "pygments_lexer": "ipython3",
<<<<<<< HEAD
   "version": "3.7.3"
=======
   "version": "3.7.6"
>>>>>>> 15c60e2d947079db48599ec18e746ac1d2d87bbf
  }
 },
 "nbformat": 4,
 "nbformat_minor": 2
}
