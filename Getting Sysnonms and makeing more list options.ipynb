{
 "cells": [
  {
   "cell_type": "code",
   "execution_count": 14,
   "metadata": {
    "scrolled": true
   },
   "outputs": [
    {
     "name": "stdout",
     "output_type": "stream",
     "text": [
      "6\n",
      "0.75597036\n",
      "['woman', 'wearing', 'different', 'colored', 'socks']\n",
      "[['female', 'lady', 'skirt', '\\n              [slang]'], ['breaking', 'burning out', 'busting', 'doing in', 'doing up', 'draining', 'exhausting', 'fagging', 'fatiguing', 'frazzling', 'harassing', 'killing', 'knocking out', 'outwearing', 'tiring', 'tuckering (out)', 'washing out', 'wearing out', 'wearying'], ['disparate', 'dissimilar', 'distant', 'distinct', 'distinctive', 'distinguishable', 'diverse', 'nonidentical', 'other', 'unalike', 'unlike'], ['chromatic', 'colorful', 'kaleidoscopic', 'motley', 'multicolored', 'multihued', 'polychromatic', 'polychrome', 'prismatic', 'rainbow', 'varicolored', 'varied', 'variegated', 'various'], ['hose', ' (or hoses)', 'stockings']]\n"
     ]
    },
    {
     "data": {
      "text/plain": [
       "'\\n\\nnewlisttocompare = []\\nlistofPercent = []\\nNlist =[]\\ncount = 0    \\nfor a in query_doc:\\n    temp=a\\n    for b in listofSysn:\\n        syns = wordnet.synsets(temp)\\n        w1 = wordnet.synset(syns[0].name())\\n        typeOfWord = syns[0].name()\\n        secondPart = typeOfWord[-5:]\\n        Nlist.append(b)\\n        w2 = wordnet.synset(Nlist[0] + secondPart) \\n        percent = 100 * w1.wup_similarity(w2)\\n        percent = round(percent, 2)\\n        listofPercent.append(percent)\\n        Nlist.clear()\\n        query_doc[count]=b\\n        newlisttocompare.append(query_doc)\\n    count += 1\\n        \\nprint(newlisttocompare)\\n'"
      ]
     },
     "execution_count": 14,
     "metadata": {},
     "output_type": "execute_result"
    }
   ],
   "source": [
    "import nltk,re,pprint\n",
    "import os\n",
    "from nltk.tokenize import word_tokenize, sent_tokenize\n",
    "import gensim\n",
    "from nltk.corpus import stopwords\n",
    "from nltk.corpus import wordnet\n",
    "\n",
    "\n",
    "sentence = \"the man is wearing different colored hose. the gentleman garments are alternet dyed socks. the male is clothes on his feet are multicolored. the female socks are polychromatic. the maiden is clothes on his feet are multicolored. the madam garments are alternet dyed socks.\"\n",
    "    \n",
    "\n",
    "sen = sent_tokenize(sentence)\n",
    "list1=[]\n",
    "\n",
    "stop_words = set(stopwords.words('english'))\n",
    "\n",
    "for i in sen:\n",
    "    sen2 = word_tokenize(i)\n",
    "    sen2 = [w for w in sen2 if not w in stop_words]\n",
    "    list1.append(sen2)\n",
    "    \n",
    "print(len(list1))\n",
    "\n",
    "\n",
    "\n",
    "dictionary = gensim.corpora.Dictionary(list1)\n",
    "corpus = [dictionary.doc2bow(entry) for entry in list1]\n",
    "\n",
    "tf_idf = gensim.models.TfidfModel(corpus)\n",
    "\n",
    "\n",
    "sims = gensim.similarities.Similarity('dir', tf_idf[corpus], num_features=len(dictionary))\n",
    "\n",
    "test = \" the woman is wearing different colored socks\"\n",
    "\n",
    "query_doc = word_tokenize(test)\n",
    "query_doc = [w for w in query_doc if not w in stop_words]\n",
    "query_doc_bow = dictionary.doc2bow(query_doc, True)\n",
    "\n",
    "query_doc_tf_idf = tf_idf[query_doc_bow]\n",
    "\n",
    "print(max(sims[query_doc_tf_idf]))\n",
    "\n",
    "\n",
    "#this will be the part where we get the sysnonyms for the word in each list.\n",
    "\n",
    "import requests\n",
    "from selenium import webdriver\n",
    "from bs4 import BeautifulSoup\n",
    "import pandas as pd\n",
    "\n",
    "listofSysn = []\n",
    "\n",
    "print(query_doc)\n",
    "for w in query_doc:\n",
    "    choice = w\n",
    "    words = [] #List to store rating of the product\n",
    "    driver = webdriver.Chrome()\n",
    "    driver.get(\"https://www.merriam-webster.com/thesaurus/\"+choice+\"\")\n",
    "    content = driver.page_source\n",
    "    soup = BeautifulSoup(content)\n",
    "    a = soup.find('div', attrs={'class':'thes-list-content synonyms_list'})\n",
    "    for i in a.find('ul',{'class':'mw-list'}):\n",
    "            name = i.text\n",
    "            words.append(name.replace(',','').rstrip())\n",
    "    listofSysn.append(words)\n",
    "    driver.quit()\n",
    "\n",
    "print(listofSysn)\n",
    "\n",
    "\"\"\"\n",
    "\n",
    "newlisttocompare = []\n",
    "listofPercent = []\n",
    "Nlist =[]\n",
    "count = 0    \n",
    "for a in query_doc:\n",
    "    temp=a\n",
    "    for b in listofSysn:\n",
    "        syns = wordnet.synsets(temp)\n",
    "        w1 = wordnet.synset(syns[0].name())\n",
    "        typeOfWord = syns[0].name()\n",
    "        secondPart = typeOfWord[-5:]\n",
    "        Nlist.append(b)\n",
    "        w2 = wordnet.synset(Nlist[0] + secondPart) \n",
    "        percent = 100 * w1.wup_similarity(w2)\n",
    "        percent = round(percent, 2)\n",
    "        listofPercent.append(percent)\n",
    "        Nlist.clear()\n",
    "        query_doc[count]=b\n",
    "        newlisttocompare.append(query_doc)\n",
    "    count += 1\n",
    "        \n",
    "print(newlisttocompare)\n",
    "\"\"\""
   ]
  },
  {
   "cell_type": "code",
   "execution_count": 12,
   "metadata": {},
   "outputs": [
    {
     "name": "stdout",
     "output_type": "stream",
     "text": [
      "3\n",
      "{1: ['feminine', 'hose', 'polychromatic']}\n",
      "{2: ['womanish', 'hose', 'polychromatic']}\n",
      "{3: ['womanlike', 'hose', 'polychromatic']}\n",
      "{4: ['womanly', 'hose', 'polychromatic']}\n",
      "{5: ['female', 'sock', 'polychromatic']}\n",
      "{6: ['female', 'stocking', 'polychromatic']}\n",
      "{7: ['female', 'hose', 'chromatic']}\n",
      "{8: ['female', 'hose', 'colored']}\n",
      "{9: ['female', 'hose', 'colorful']}\n",
      "{10: ['female', 'hose', 'kaleidoscopic']}\n",
      "{11: ['female', 'hose', 'motley']}\n",
      "{12: ['female', 'hose', 'multicolored']}\n",
      "{13: ['female', 'hose', 'multihued']}\n",
      "{14: ['female', 'hose', 'polychrome']}\n",
      "{15: ['female', 'hose', 'prismatic']}\n",
      "{16: ['female', 'hose', 'rainbow']}\n",
      "{17: ['female', 'hose', 'varicolored']}\n",
      "{18: ['female', 'hose', 'varied']}\n",
      "{19: ['female', 'hose', 'variegated']}\n",
      "{20: ['female', 'hose', 'various']}\n",
      "{}\n",
      "[]\n"
     ]
    },
    {
     "data": {
      "text/plain": [
       "'\\n            \\nfor b in listofSysn:\\n    temp=query[count]\\n    syns = wordnet.synsets(temp)\\n    for c in b:\\n        print(c)\\n        Nlist = c\\n        w1 = wordnet.synset(syns[0].name())\\n        typeOfWord = syns[0].name()\\n        secondPart = typeOfWord[-5:]\\n        if(secondPart == \".n.01\"):\\n            w2 = wordnet.synset(Nlist[0] +secondPart) \\n            percent = 100 * w1.wup_similarity(w2)\\n            percent = round(percent, 2)\\n            listofPercent.append(percent)\\n        query[count]=c\\n        newlisttocompare.append(query)\\n    query[count]= temp\\n    count += 1\\n        \\nprint(newlisttocompare)'"
      ]
     },
     "execution_count": 12,
     "metadata": {},
     "output_type": "execute_result"
    }
   ],
   "source": [
    "import os\n",
    "import json\n",
    "newlisttocompare = []\n",
    "listofPercent = []\n",
    "templist=[['feminine', 'womanish', 'womanlike', 'womanly'], ['sock', 'stocking'], ['chromatic', 'colored', 'colorful', 'kaleidoscopic', 'motley', 'multicolored', 'multihued', 'polychrome', 'prismatic', 'rainbow', 'varicolored', 'varied', 'variegated', 'various']]\n",
    "count = 0\n",
    "count2 = 1\n",
    "testdict = {}\n",
    "query = ['female', 'hose', 'polychromatic']\n",
    "q2 = query\n",
    "\n",
    "print(len(templist))\n",
    "\n",
    "f = open(\"listS\",\"w+\")\n",
    "\n",
    "for b in templist:\n",
    "    temp=query[count]\n",
    "    for c in b:\n",
    "        q2[count]=c\n",
    "        testdict.update({count2:q2})\n",
    "        print(testdict)\n",
    "        f.write(json.dumps(testdict))\n",
    "        count2 += 1\n",
    "        testdict.clear()\n",
    "    q2[count]= temp\n",
    "    count += 1\n",
    "\n",
    "    \n",
    "\n",
    "  \n",
    "\n",
    "\"\"\"\n",
    "            \n",
    "for b in listofSysn:\n",
    "    temp=query[count]\n",
    "    syns = wordnet.synsets(temp)\n",
    "    for c in b:\n",
    "        print(c)\n",
    "        Nlist = c\n",
    "        w1 = wordnet.synset(syns[0].name())\n",
    "        typeOfWord = syns[0].name()\n",
    "        secondPart = typeOfWord[-5:]\n",
    "        if(secondPart == \".n.01\"):\n",
    "            w2 = wordnet.synset(Nlist[0] +secondPart) \n",
    "            percent = 100 * w1.wup_similarity(w2)\n",
    "            percent = round(percent, 2)\n",
    "            listofPercent.append(percent)\n",
    "        query[count]=c\n",
    "        newlisttocompare.append(query)\n",
    "    query[count]= temp\n",
    "    count += 1\n",
    "        \n",
    "print(newlisttocompare)\"\"\"  "
   ]
  },
  {
   "cell_type": "code",
   "execution_count": null,
   "metadata": {},
   "outputs": [],
   "source": []
  }
 ],
 "metadata": {
  "kernelspec": {
   "display_name": "Python 3",
   "language": "python",
   "name": "python3"
  },
  "language_info": {
   "codemirror_mode": {
    "name": "ipython",
    "version": 3
   },
   "file_extension": ".py",
   "mimetype": "text/x-python",
   "name": "python",
   "nbconvert_exporter": "python",
   "pygments_lexer": "ipython3",
<<<<<<< HEAD
   "version": "3.7.3"
=======
   "version": "3.7.4"
>>>>>>> 140a9ca52362ad6c509aa2039fdd21bbcbc46ca9
  }
 },
 "nbformat": 4,
 "nbformat_minor": 2
}
