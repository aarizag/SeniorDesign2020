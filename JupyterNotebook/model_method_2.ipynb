{
 "cells": [
  {
   "cell_type": "code",
   "execution_count": 1,
   "metadata": {},
   "outputs": [
    {
     "name": "stdout",
     "output_type": "stream",
     "text": [
      "## Done loading Google's Pre-Trained Word2Vec model\n"
     ]
    }
   ],
   "source": [
    "## Load Google's Pre-Trained Dataset\n",
    "##\n",
    "\n",
    "import gensim.models.word2vec as word2vec\n",
    "\n",
    "from gensim.models import KeyedVectors\n",
    "\n",
    "# Google's Pre-Trained Data Set\n",
    "from gensim.models import KeyedVectors\n",
    "file_directory = '/Users/norinchea/Desktop/SeniorProject/wordEmbedding/Google/GoogleNews-vectors-negative300-SLIM.bin'\n",
    "# Googles Pre-trained data set has 300 futures\n",
    "model = KeyedVectors.load_word2vec_format(file_directory, binary=True)\n",
    "\n",
    "print(\"## Done loading Google's Pre-Trained Word2Vec model\")"
   ]
  },
  {
   "cell_type": "code",
   "execution_count": 2,
   "metadata": {},
   "outputs": [],
   "source": [
    "## Normalize Data\n",
    "##\n",
    "\n",
    "## I will run a script normalizing all data from the UNSPSC and eCOMM Files\n",
    "## For this example I will manually normalize both sentences\n",
    "# sentence_1_normalized = 'president greets press chicago' \n",
    "# sentence_2_normalized = 'leader speaks media illinois' \n",
    "\n",
    "sentence_1_normalized = 'school supply set kit' \n",
    "sentence_2_normalized = 'school equipment supply'\n",
    "\n",
    "# sentence_1_normalized = 'elevators escalators build type' \n",
    "# sentence_2_normalized = 'elevators'"
   ]
  },
  {
   "cell_type": "code",
   "execution_count": 4,
   "metadata": {},
   "outputs": [
    {
     "name": "stdout",
     "output_type": "stream",
     "text": [
      "['school', 'equipment', 'supply']\n"
     ]
    }
   ],
   "source": [
    "## Tokenize both normalized sentences being compared\n",
    "##\n",
    "from nltk.tokenize import word_tokenize as tokenize_sentence\n",
    "\n",
    "# before tokenizing a sentence, the sentence has to be normalized\n",
    "sentence_1_tokenized = tokenize_sentence(sentence_1_normalized)\n",
    "sentence_2_tokenized = tokenize_sentence(sentence_2_normalized)\n",
    "\n",
    "print(sentence_2_tokenized)\n"
   ]
  },
  {
   "cell_type": "code",
   "execution_count": 5,
   "metadata": {},
   "outputs": [
    {
     "name": "stdout",
     "output_type": "stream",
     "text": [
      "Done\n"
     ]
    }
   ],
   "source": [
    "## Word embedding\n",
    "##\n",
    "\n",
    "# Using Google's pre-train dataset, convert every word in the tokenized sentence into its \n",
    "# position coordinates in a 300 dimension vector space\n",
    "def word_embedding(tokenized_sentence):\n",
    "    list_wordembedding = []\n",
    "    for token in tokenized_sentence:\n",
    "        list_wordembedding.append(model[token]) \n",
    "    return list_wordembedding\n",
    "        \n",
    "# word_embedding() takes in a tokenized sentence \n",
    "# this function will return a list of list containing\n",
    "# the vector position of every word in a sentece\n",
    "word_embedded_sentence_1 = word_embedding(sentence_1_tokenized)\n",
    "word_embedded_sentence_2 = word_embedding(sentence_2_tokenized)\n",
    "\n",
    "#print(len(word_embedded_sentence_2[0]))\n",
    "print(\"Done\")"
   ]
  },
  {
   "cell_type": "code",
   "execution_count": 6,
   "metadata": {},
   "outputs": [
    {
     "name": "stdout",
     "output_type": "stream",
     "text": [
      "[0, 1]\n"
     ]
    }
   ],
   "source": [
    "## combine both lists of list\n",
    "# this array will consist of 2 values\n",
    "# combine at index 0 will contain the vector positions of sentence 1\n",
    "#         at index 1 will contain the vector positions of sentence 2\n",
    "combined = []\n",
    "combined.append(word_embedded_sentence_1)\n",
    "combined.append(word_embedded_sentence_2)\n",
    "\n",
    "\n",
    "## In order to start finding the nearest neighbor of each word from one sentence \n",
    "#  we have to compare the length of both and determine which sentence will be comapred to which sentence. \n",
    "#  For Example:\n",
    "#  'president  greets   press   chicago' \n",
    "#  'obama      speaks           illinois'\n",
    "# the word 'press' will have to find its closest unrelated neighbor word\n",
    "def lead_sentence(lists):\n",
    "    index_lead = 0 # if both are same lengths then sentence 1 will be comapred to sentence 2\n",
    "    main = 1\n",
    "    if (len(lists[0]) > len(lists[1])):\n",
    "        index_lead = 0\n",
    "    elif (len(lists[0]) < len(lists[1])):\n",
    "        index_lead = 1\n",
    "        main = 0\n",
    "    return [index_lead, main]\n",
    "    \n",
    "#print(len(word_embedded_sentence_2))\n",
    "# meaning sentence at index 0 will compared to sentence at vector 1\n",
    "print(lead_sentence(combined))"
   ]
  },
  {
   "cell_type": "code",
   "execution_count": 7,
   "metadata": {},
   "outputs": [
    {
     "name": "stdout",
     "output_type": "stream",
     "text": [
      "5.196152422706632\n"
     ]
    }
   ],
   "source": [
    "## Euclidean Distance\n",
    "#  - distance between two vectors\n",
    "import math\n",
    "def euclidean_distance(u, v):\n",
    "    summation = 0\n",
    "    for i in range(len(u)):\n",
    "        # (u1 - v1)^ 2\n",
    "        summation += ((u[i] - v[i]) * (u[i] - v[i]))\n",
    "    # squareroot result of summation\n",
    "    euclidean_distance = math.sqrt(summation)\n",
    "    return euclidean_distance\n",
    "# Example       \n",
    "print(euclidean_distance([1,2,3], [4,5,6]))"
   ]
  },
  {
   "cell_type": "code",
   "execution_count": null,
   "metadata": {},
   "outputs": [],
   "source": []
  },
  {
   "cell_type": "code",
   "execution_count": 8,
   "metadata": {},
   "outputs": [],
   "source": [
    "# u = sentence_1\n",
    "# v = sentence_2\n",
    "# lists = vector positions of sentence 1 and 2 are appended to a python list named 'combined'\n",
    "# lists = List of list of list\n",
    "# lists = combined\n",
    "def most_similar(lists):\n",
    "    # lead determined which sentence will be compared to which sentence\n",
    "    #                 index 0, 1\n",
    "    # example: returns --> [1,0]\n",
    "    #                  --> sentence at index 1 will be comapred to sentence at index 0\n",
    "    lead = lead_sentence(lists)\n",
    "    \n",
    "    compare_from_index = lead[0]\n",
    "    compare_to_index = lead[1]\n",
    "    \n",
    "    index_of_most_similar = 0 # j\n",
    "    # comparing first words from both sentence 1 and sentence 2 as a starting point\n",
    "    # distance between president and obama\n",
    "    distance_of_most_similar = 9000\n",
    "    \n",
    "    list_results = []\n",
    "    for i in range(len( lists[compare_from_index] )):\n",
    "        for j in range(len( lists[compare_to_index] )):\n",
    "            current_distance = euclidean_distance(lists[compare_from_index][i], lists[compare_to_index][j])\n",
    "            if(distance_of_most_similar > current_distance):\n",
    "                index_of_most_similar = j\n",
    "                distance_of_most_similar = current_distance\n",
    "        # [which word, most silimar word, distance]\n",
    "        list_results.append( [i, index_of_most_similar, distance_of_most_similar] )\n",
    "        index_of_most_similar = 0\n",
    "        distance_of_most_similar = 9000\n",
    "        \n",
    "    return list_results\n",
    "        \n",
    "            "
   ]
  },
  {
   "cell_type": "code",
   "execution_count": 9,
   "metadata": {},
   "outputs": [
    {
     "data": {
      "text/plain": [
       "[[0, 0, 0.0],\n",
       " [1, 2, 0.0],\n",
       " [2, 0, 3.0438728091451535],\n",
       " [3, 1, 3.4905076674588074]]"
      ]
     },
     "execution_count": 9,
     "metadata": {},
     "output_type": "execute_result"
    }
   ],
   "source": [
    "results = most_similar(combined)\n",
    "results"
   ]
  },
  {
   "cell_type": "code",
   "execution_count": 19,
   "metadata": {},
   "outputs": [
    {
     "name": "stdout",
     "output_type": "stream",
     "text": [
      "[['school', 'school'], ['supply', 'supply'], ['set', 'school'], ['kit', 'equipment']]\n"
     ]
    }
   ],
   "source": [
    "def converttoWord(listoflists, token_sentence1, token_sentence2):\n",
    "    newList = []\n",
    "    for i in range(len(listoflists)):\n",
    "        newList.append( [token_sentence1[listoflists[i][0]] , token_sentence2[listoflists[i][1]] ] )\n",
    "    return newList\n",
    "\n",
    "if(len(sentence_1_tokenized) >= len(sentence_2_tokenized)):\n",
    "    print( converttoWord(results, sentence_1_tokenized, sentence_2_tokenized) )\n",
    "elif(len(sentence_1_tokenized) < len(sentence_2_tokenized)):\n",
    "    print( converttoWord(results, sentence_2_tokenized, sentence_1_tokenized) )"
   ]
  },
  {
   "cell_type": "code",
   "execution_count": 13,
   "metadata": {},
   "outputs": [],
   "source": [
    "#[['elevators', 'elevator'], ['escalators', 'elevator'], ['build', 'front'], ['type', 'front']]"
   ]
  },
  {
   "cell_type": "code",
   "execution_count": null,
   "metadata": {},
   "outputs": [],
   "source": []
  },
  {
   "cell_type": "code",
   "execution_count": null,
   "metadata": {},
   "outputs": [],
   "source": []
  },
  {
   "cell_type": "code",
   "execution_count": 12,
   "metadata": {},
   "outputs": [],
   "source": [
    "# print( len(combined) ) \n",
    "# print( len(combined[1]) ) \n",
    "# print( len(combined[0][0]) )\n",
    "\n",
    "# #Example\n",
    "# # combined[1][0][299]\n",
    "# #[sentence 2][word obama][which index of matrices for vector of sentence 2]\n",
    "# print( combined[1][0][299] )\n",
    "\n",
    "# print(model[sentence_2_tokenized[0]])"
   ]
  },
  {
   "cell_type": "code",
   "execution_count": null,
   "metadata": {},
   "outputs": [],
   "source": []
  },
  {
   "cell_type": "code",
   "execution_count": 1,
   "metadata": {},
   "outputs": [
    {
     "name": "stdout",
     "output_type": "stream",
     "text": [
      "90.05681818181819\n"
     ]
    }
   ],
   "source": [
    "import wordNet # script to find average percenteage\n",
    "\n",
    "# Takes in a list of list as a parameter\n",
    "list1 = [['school', 'school'], ['supply', 'supply'], ['set', 'school'], ['kit', 'equipment']]\n",
    "\n",
    "# displays a list with the similarity percantage of each pair\n",
    "#list2 = wordNet.results(list1)\n",
    "\n",
    "list3 = wordNet.average_percentage(list1)\n",
    "\n",
    "#print(list2)\n",
    "print(list3)"
   ]
  },
  {
   "cell_type": "code",
   "execution_count": null,
   "metadata": {},
   "outputs": [],
   "source": []
  }
 ],
 "metadata": {
  "kernelspec": {
   "display_name": "Python 3",
   "language": "python",
   "name": "python3"
  },
  "language_info": {
   "codemirror_mode": {
    "name": "ipython",
    "version": 3
   },
   "file_extension": ".py",
   "mimetype": "text/x-python",
   "name": "python",
   "nbconvert_exporter": "python",
   "pygments_lexer": "ipython3",
   "version": "3.7.3"
  }
 },
 "nbformat": 4,
 "nbformat_minor": 2
}
