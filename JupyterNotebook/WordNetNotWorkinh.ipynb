{
 "cells": [
  {
   "cell_type": "code",
   "execution_count": 1,
   "metadata": {},
   "outputs": [],
   "source": [
    "### finding similarity Using WordNet\n",
    "### Jesse Rodriguez Avila\n",
    "### Norin Chea"
   ]
  },
  {
   "cell_type": "code",
   "execution_count": 2,
   "metadata": {},
   "outputs": [
    {
     "name": "stdout",
     "output_type": "stream",
     "text": [
      "[['school', 'school'], ['supply', 'supply'], ['set', 'school'], ['kit', 'equipment']]\n"
     ]
    }
   ],
   "source": [
    "from nltk.corpus import wordnet\n",
    "## Assuming our model to determine which words will be comapred to each other works\n",
    "# s1 = [\"president\", \"greets\", \"press\", \"chicago\"]\n",
    "# s2 = [\"leader\", \"speaks\", \"media\", \"illinois\"]\n",
    "\n",
    "#list1 = [['president', 'leader'], ['greets', 'speaks'], ['press', 'media'], ['chicago', 'illinois']]\n",
    "list1 = [['school', 'school'], ['supply', 'supply'], ['set', 'school'], ['kit', 'equipment']]\n",
    "print(list1)"
   ]
  },
  {
   "cell_type": "code",
   "execution_count": 3,
   "metadata": {},
   "outputs": [
    {
     "name": "stdout",
     "output_type": "stream",
     "text": [
      "done!\n"
     ]
    }
   ],
   "source": [
    "# find similarity percentange between two words\n",
    "# takes in two list as a parameter, each list has syns of the current word\n",
    "def similarity_percentage(word1, word2):\n",
    "    percent_most_similar = word1[0].wup_similarity(word2[0])\n",
    "\n",
    "    for i in range(len(word1)):\n",
    "        word1_syn = word1[i]\n",
    "        for j in range(len(word2)):\n",
    "            word2_syn = word2[j]\n",
    "            wupSimilar = word1_syn.wup_similarity(word2_syn)\n",
    "            if (wupSimilar is not None or wupSimilar != None):\n",
    "                if (percent_most_similar < wupSimilar):\n",
    "                    percent_most_similar = wupSimilar\n",
    "                #print( str(wupSimilar * 100) + \"% similarity - \" + str(word1[i]) + \" and \" + str(word2[j]) )\n",
    "        #print(\"-------------------------------------------------------------------\")\n",
    "    return percent_most_similar\n",
    "\n",
    "print(\"done!\")"
   ]
  },
  {
   "cell_type": "code",
   "execution_count": 4,
   "metadata": {},
   "outputs": [
    {
     "name": "stdout",
     "output_type": "stream",
     "text": [
      "Similarity Percentage for each pair\n",
      "-----------------------------------\n"
     ]
    },
    {
     "data": {
      "text/plain": [
       "[['school', 'school', 100.0],\n",
       " ['supply', 'supply', 100.0],\n",
       " ['set', 'school', 72.72727272727273],\n",
       " ['kit', 'equipment', 87.5]]"
      ]
     },
     "execution_count": 4,
     "metadata": {},
     "output_type": "execute_result"
    }
   ],
   "source": [
    "## takes in a list of list containing what two words are similar\n",
    "## Example: \n",
    "## [['president', 'leader'], ['greets', 'speaks'], ['press', 'media'], ['chicago', 'illinois']]   \n",
    "def results(list_of_lists):\n",
    "    results = []\n",
    "    for i in range(len(list_of_lists)):\n",
    "        word1_s1 = wordnet.synsets(list1[i][0]) \n",
    "        word2_s2 = wordnet.synsets(list1[i][1]) \n",
    "        percentage = similarity_percentage(word1_s1, word2_s2)\n",
    "        results.append( [list1[i][0], list1[i][1] , percentage * 100] )\n",
    "    return results\n",
    "\n",
    "\n",
    "# similarity percentage\n",
    "print(\"Similarity Percentage for each pair\")\n",
    "print(\"-----------------------------------\")\n",
    "## we can also try to improve by also comparing the lemma names\n",
    "## ['Word 1', 'Word 2', similarity % between words 1 & 2]\n",
    "results(list1)"
   ]
  },
  {
   "cell_type": "code",
   "execution_count": null,
   "metadata": {},
   "outputs": [],
   "source": []
  },
  {
   "cell_type": "code",
   "execution_count": 5,
   "metadata": {},
   "outputs": [
    {
     "name": "stdout",
     "output_type": "stream",
     "text": [
      "test\n"
     ]
    }
   ],
   "source": [
    "print(\"test\")"
   ]
  },
  {
   "cell_type": "code",
   "execution_count": 6,
   "metadata": {},
   "outputs": [
    {
     "name": "stdout",
     "output_type": "stream",
     "text": [
      "[Synset('supply.n.01'), Synset('supply.n.02'), Synset('provision.n.02'), Synset('supply.v.01'), Synset('issue.v.02'), Synset('provide.v.02'), Synset('add.v.02')]\n",
      "[Synset('supply.n.01'), Synset('supply.n.02'), Synset('provision.n.02'), Synset('supply.v.01'), Synset('issue.v.02'), Synset('provide.v.02'), Synset('add.v.02')]\n",
      "________________________________________\n",
      "similarity percentage: 100.0%\n"
     ]
    }
   ],
   "source": [
    "# example \n",
    "### Example of finding similarity of only two words\n",
    "\n",
    "# finding syns of greets and speaks\n",
    "word1_example = wordnet.synsets(list1[1][0]) # greets\n",
    "word2_example = wordnet.synsets(list1[1][1]) # speaks\n",
    "\n",
    "print(word1_example)\n",
    "print(word2_example)\n",
    "## All syns from one word will be compared to all the syns from the other word\n",
    "print(\"________________________________________\")\n",
    "## for example when comparing speaks and greets\n",
    "print(\"similarity percentage: \" + str(similarity_percentage(word1_example, word2_example) * 100) + \"%\")"
   ]
  },
  {
   "cell_type": "code",
   "execution_count": null,
   "metadata": {},
   "outputs": [],
   "source": []
  },
  {
   "cell_type": "code",
   "execution_count": null,
   "metadata": {},
   "outputs": [],
   "source": []
  },
  {
   "cell_type": "code",
   "execution_count": null,
   "metadata": {},
   "outputs": [],
   "source": []
  },
  {
   "cell_type": "code",
   "execution_count": null,
   "metadata": {},
   "outputs": [],
   "source": []
  },
  {
   "cell_type": "code",
   "execution_count": 7,
   "metadata": {},
   "outputs": [],
   "source": [
    "#### Example of functions in Word Net"
   ]
  },
  {
   "cell_type": "code",
   "execution_count": 12,
   "metadata": {},
   "outputs": [
    {
     "name": "stdout",
     "output_type": "stream",
     "text": [
      "[Synset('train.n.01'), Synset('string.n.04'), Synset('caravan.n.01'), Synset('train.n.04'), Synset('train.n.05'), Synset('gearing.n.01'), Synset('train.v.01'), Synset('train.v.02'), Synset('discipline.v.01'), Synset('prepare.v.05'), Synset('educate.v.03'), Synset('aim.v.01'), Synset('coach.v.01'), Synset('train.v.08'), Synset('train.v.09'), Synset('train.v.10'), Synset('trail.v.05')]\n"
     ]
    }
   ],
   "source": [
    "list_example = wordnet.synsets('train')\n",
    "print(list_example)"
   ]
  },
  {
   "cell_type": "code",
   "execution_count": 17,
   "metadata": {},
   "outputs": [
    {
     "name": "stdout",
     "output_type": "stream",
     "text": [
      "['it led to a train of disasters']\n",
      "['car', 'railcar', 'railway_car', 'railroad_car']\n"
     ]
    }
   ],
   "source": [
    "print(wordnet.synset('train.n.04').examples())\n",
    "car = wordnet.synset('car.n.02')\n",
    "print(car.lemma_names())"
   ]
  },
  {
   "cell_type": "code",
   "execution_count": 2,
   "metadata": {},
   "outputs": [
    {
     "name": "stdout",
     "output_type": "stream",
     "text": [
      "car and automobile: 100.0%\n",
      "car and boat: 69.56521739130434%\n"
     ]
    }
   ],
   "source": [
    "from nltk.corpus import wordnet\n",
    "car1 = wordnet.synset('car.n.01')\n",
    "automobile = wordnet.synset('automobile.n.01')\n",
    "boat = wordnet.synset('boat.n.01')\n",
    "\n",
    "silarity_percentage = car1.wup_similarity(automobile)\n",
    "print(\"car and automobile: \" + str(silarity_percentage * 100) + \"%\")\n",
    "\n",
    "silarity_percentage2 = car1.wup_similarity(boat)\n",
    "print(\"car and boat: \" + str(silarity_percentage2 * 100) + \"%\")"
   ]
  },
  {
   "cell_type": "code",
   "execution_count": null,
   "metadata": {},
   "outputs": [],
   "source": []
  }
 ],
 "metadata": {
  "kernelspec": {
   "display_name": "Python 3",
   "language": "python",
   "name": "python3"
  },
  "language_info": {
   "codemirror_mode": {
    "name": "ipython",
    "version": 3
   },
   "file_extension": ".py",
   "mimetype": "text/x-python",
   "name": "python",
   "nbconvert_exporter": "python",
   "pygments_lexer": "ipython3",
   "version": "3.7.3"
  }
 },
 "nbformat": 4,
 "nbformat_minor": 2
}
